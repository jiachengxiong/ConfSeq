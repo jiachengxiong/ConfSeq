{
 "cells": [
  {
   "cell_type": "markdown",
   "id": "ec7e3f30",
   "metadata": {},
   "source": [
    "## Demo of ConfSeq"
   ]
  },
  {
   "cell_type": "markdown",
   "id": "98523ce0",
   "metadata": {},
   "source": [
    "This is a notebook on how to use convert a 3D molecule into a ConfSeq sequence and vise versa."
   ]
  },
  {
   "cell_type": "markdown",
   "id": "92e39c5a",
   "metadata": {},
   "source": [
    "### Import nessessary libraries"
   ]
  },
  {
   "cell_type": "code",
   "execution_count": null,
   "id": "3e63ff8c",
   "metadata": {},
   "outputs": [],
   "source": [
    "from rdkit import Chem\n",
    "from rdkit.Chem import rdDistGeom\n",
    "\n",
    "from ConfSeq import run_aug_mol_get_ConfSeq_pair_0, run_aug_mol_get_ConfSeq_pair_1, run_aug_mol_get_ConfSeq_pair_2, random_adjust_numbers"
   ]
  },
  {
   "cell_type": "markdown",
   "id": "7910b758",
   "metadata": {},
   "source": [
    "### Embed a molecule for demostration"
   ]
  },
  {
   "cell_type": "code",
   "execution_count": null,
   "id": "b81bedc1",
   "metadata": {},
   "outputs": [],
   "source": []
  },
  {
   "cell_type": "markdown",
   "id": "5edc7df8",
   "metadata": {},
   "source": [
    "### Convert the molecule to a ConfSeq sequence"
   ]
  },
  {
   "cell_type": "code",
   "execution_count": null,
   "id": "564e124d",
   "metadata": {},
   "outputs": [],
   "source": []
  },
  {
   "cell_type": "markdown",
   "id": "87feb764",
   "metadata": {},
   "source": [
    "### Convert the ConfSeq sequence back to a 3D molecule"
   ]
  },
  {
   "cell_type": "code",
   "execution_count": null,
   "id": "65649f4a",
   "metadata": {},
   "outputs": [],
   "source": []
  }
 ],
 "metadata": {
  "kernelspec": {
   "display_name": "test",
   "language": "python",
   "name": "python3"
  },
  "language_info": {
   "name": "python",
   "version": "3.11.13"
  }
 },
 "nbformat": 4,
 "nbformat_minor": 5
}
