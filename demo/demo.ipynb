{
 "cells": [
  {
   "cell_type": "markdown",
   "id": "ec7e3f30",
   "metadata": {},
   "source": [
    "## Demo of ConfSeq"
   ]
  },
  {
   "cell_type": "markdown",
   "id": "98523ce0",
   "metadata": {},
   "source": [
    "This is a notebook on how to use convert a 3D molecule into a ConfSeq sequence and vise versa."
   ]
  },
  {
   "cell_type": "markdown",
   "id": "92e39c5a",
   "metadata": {},
   "source": [
    "### Import nessessary libraries"
   ]
  },
  {
   "cell_type": "code",
   "execution_count": 1,
   "id": "3e63ff8c",
   "metadata": {},
   "outputs": [],
   "source": [
    "from rdkit import Chem\n",
    "from rdkit.Chem.rdDistGeom import EmbedMolecule\n",
    "from rdkit.Chem.rdForceFieldHelpers import MMFFOptimizeMolecule\n",
    "from rdkit.Chem.rdMolAlign import GetBestRMS\n",
    "from rdkit.Chem.Draw import IPythonConsole\n",
    "IPythonConsole.ipython_3d = True\n",
    "\n",
    "import py3Dmol\n",
    "import random\n",
    "from tqdm import tqdm\n",
    "from tqdm.contrib.concurrent import process_map\n",
    "from ConfSeq import (run_aug_mol_get_ConfSeq_pair_0, \n",
    "                     run_aug_mol_get_ConfSeq_pair_1, \n",
    "                     run_aug_mol_get_ConfSeq_pair_2, \n",
    "                     random_adjust_numbers,\n",
    "                     replace_angle_brackets_with_line,\n",
    "                     get_mol_from_ConfSeq_pair,\n",
    "                     remove_degree_in_molblock)"
   ]
  },
  {
   "cell_type": "markdown",
   "id": "bb76f5cd",
   "metadata": {},
   "source": [
    "visualize function"
   ]
  },
  {
   "cell_type": "code",
   "execution_count": 2,
   "id": "21664933",
   "metadata": {},
   "outputs": [],
   "source": [
    "def MolTo3DView(mol, size=(300, 300), style=\"stick\", surface=False, opacity=0.5):\n",
    "    \"\"\"Draw molecule in 3D\n",
    "\n",
    "    Args:\n",
    "    ----\n",
    "        mol: rdMol, molecule to show\n",
    "        size: tuple(int, int), canvas size\n",
    "        style: str, type of drawing molecule\n",
    "               style can be 'line', 'stick', 'sphere', 'carton'\n",
    "        surface, bool, display SAS\n",
    "        opacity, float, opacity of surface, range 0.0-1.0\n",
    "    Return:\n",
    "    ----\n",
    "        viewer: py3Dmol.view, a class for constructing embedded 3Dmol.js views in ipython notebooks.\n",
    "    \"\"\"\n",
    "    assert style in ('line', 'stick', 'sphere', 'carton')\n",
    "\n",
    "    viewer = py3Dmol.view(width=size[0], height=size[1])\n",
    "    if isinstance(mol, list):\n",
    "        for i, m in enumerate(mol):\n",
    "            mblock = Chem.MolToMolBlock(m)\n",
    "            viewer.addModel(mblock, 'mol' + str(i))\n",
    "    elif len(mol.GetConformers()) > 1:\n",
    "        for i in range(len(mol.GetConformers())):\n",
    "            mblock = Chem.MolToMolBlock(mol, confId=i)\n",
    "            viewer.addModel(mblock, 'mol' + str(i))\n",
    "    else:\n",
    "        mblock = Chem.MolToMolBlock(mol)\n",
    "        viewer.addModel(mblock, 'mol')\n",
    "    viewer.setStyle({style: {}})\n",
    "    if surface:\n",
    "        viewer.addSurface(py3Dmol.SAS, {'opacity': opacity})\n",
    "    viewer.zoomTo()\n",
    "    return viewer"
   ]
  },
  {
   "cell_type": "markdown",
   "id": "7910b758",
   "metadata": {},
   "source": [
    "### Embed a molecule for demostration"
   ]
  },
  {
   "cell_type": "code",
   "execution_count": 3,
   "id": "b81bedc1",
   "metadata": {},
   "outputs": [
    {
     "data": {
      "image/png": "[encoded data removed]",
      "text/plain": [
       "<rdkit.Chem.rdchem.Mol at 0x7f76e9a4cf90>"
      ]
     },
     "execution_count": 3,
     "metadata": {},
     "output_type": "execute_result"
    }
   ],
   "source": [
    "smiles = 'CC(F)(C(F)(F)F)C1=CC=C2C(CC[C@]3([H])[C@@]2(S(C4=CC=C(C=C4)F)(=O)=O)CCN3C(C5(C)CCN(S(C)(=O)=O)CC5)=O)=C1'\n",
    "mol = Chem.MolFromSmiles(smiles)\n",
    "mol"
   ]
  },
  {
   "cell_type": "code",
   "execution_count": 4,
   "id": "1906d43f",
   "metadata": {},
   "outputs": [
    {
     "data": {
      "application/3dmoljs_load.v0": "<div id=\"3dmolviewer_17518703419433916\"  style=\"position: relative; width: 300px; height: 300px;\">\n        <p id=\"3dmolwarning_17518703419433916\" style=\"background-color:#ffcccc;color:black\">3Dmol.js failed to load for some reason.  Please check your browser console for error messages.<br></p>\n        </div>\n<script>\n\nvar loadScriptAsync = function(uri){\n  return new Promise((resolve, reject) => {\n    //this is to ignore the existence of requirejs amd\n    var savedexports, savedmodule;\n    if (typeof exports !== 'undefined') savedexports = exports;\n    else exports = {}\n    if (typeof module !== 'undefined') savedmodule = module;\n    else module = {}\n\n    var tag = document.createElement('script');\n    tag.src = uri;\n    tag.async = true;\n    tag.onload = () => {\n        exports = savedexports;\n        module = savedmodule;\n        resolve();\n    };\n  var firstScriptTag = document.getElementsByTagName('script')[0];\n  firstScriptTag.parentNode.insertBefore(tag, firstScriptTag);\n});\n};\n\nif(typeof $3Dmolpromise === 'undefined') {\n$3Dmolpromise = null;\n  $3Dmolpromise = loadScriptAsync('https://cdn.jsdelivr.net/npm/3dmol@2.5.1/build/3Dmol-min.js');\n}\n\nvar viewer_17518703419433916 = null;\nvar warn = document.getElementById(\"3dmolwarning_17518703419433916\");\nif(warn) {\n    warn.parentNode.removeChild(warn);\n}\n$3Dmolpromise.then(function() {\nviewer_17518703419433916 = $3Dmol.createViewer(document.getElementById(\"3dmolviewer_17518703419433916\"),{backgroundColor:\"white\"});\nviewer_17518703419433916.zoomTo();\n\tviewer_17518703419433916.addModel(\"\\n     RDKit          3D\\n\\n 43 47  0  0  0  0  0  0  0  0999 V2000\\n   -6.7016   -4.6062    0.4444 C   0  0  0  0  0  0  0  0  0  0  0  0\\n   -6.6089   -3.3141    1.2629 C   0  0  0  0  0  0  0  0  0  0  0  0\\n   -6.5172   -3.7227    2.5780 F   0  0  0  0  0  0  0  0  0  0  0  0\\n   -7.9070   -2.4965    1.1151 C   0  0  0  0  0  0  0  0  0  0  0  0\\n   -8.9870   -3.2169    1.5117 F   0  0  0  0  0  0  0  0  0  0  0  0\\n   -7.8908   -1.3647    1.8559 F   0  0  0  0  0  0  0  0  0  0  0  0\\n   -8.1387   -2.1371   -0.1720 F   0  0  0  0  0  0  0  0  0  0  0  0\\n   -5.3719   -2.5115    0.8601 C   0  0  0  0  0  0  0  0  0  0  0  0\\n   -5.1632   -2.0688   -0.4506 C   0  0  0  0  0  0  0  0  0  0  0  0\\n   -4.0264   -1.3260   -0.7819 C   0  0  0  0  0  0  0  0  0  0  0  0\\n   -3.0613   -0.9878    0.1848 C   0  0  0  0  0  0  0  0  0  0  0  0\\n   -3.2462   -1.4684    1.4936 C   0  0  0  0  0  0  0  0  0  0  0  0\\n   -2.2287   -1.2018    2.5697 C   0  0  0  0  0  0  0  0  0  0  0  0\\n   -0.8366   -1.1373    1.9649 C   0  0  0  0  0  0  0  0  0  0  0  0\\n   -0.7722   -0.0050    0.9326 C   0  0  2  0  0  0  0  0  0  0  0  0\\n   -1.8287   -0.1441   -0.1862 C   0  0  2  0  0  0  0  0  0  0  0  0\\n   -2.4679    1.5122   -0.6350 S   0  0  0  0  0  0  0  0  0  0  0  0\\n   -1.0737    2.5780   -0.9913 C   0  0  0  0  0  0  0  0  0  0  0  0\\n   -0.4709    3.3082    0.0407 C   0  0  0  0  0  0  0  0  0  0  0  0\\n    0.5820    4.1763   -0.2522 C   0  0  0  0  0  0  0  0  0  0  0  0\\n    0.9971    4.3341   -1.5702 C   0  0  0  0  0  0  0  0  0  0  0  0\\n    0.3731    3.6469   -2.6070 C   0  0  0  0  0  0  0  0  0  0  0  0\\n   -0.6759    2.7714   -2.3216 C   0  0  0  0  0  0  0  0  0  0  0  0\\n    2.0129    5.1607   -1.8470 F   0  0  0  0  0  0  0  0  0  0  0  0\\n   -3.1904    1.4133   -1.8937 O   0  0  0  0  0  0  0  0  0  0  0  0\\n   -3.1205    2.0976    0.5231 O   0  0  0  0  0  0  0  0  0  0  0  0\\n   -1.0436   -0.8238   -1.3229 C   0  0  0  0  0  0  0  0  0  0  0  0\\n    0.4093   -0.4166   -1.1320 C   0  0  0  0  0  0  0  0  0  0  0  0\\n    0.5387   -0.0178    0.2592 N   0  0  0  0  0  0  0  0  0  0  0  0\\n    1.6531    0.4691    0.9234 C   0  0  0  0  0  0  0  0  0  0  0  0\\n    3.0774    0.3115    0.3298 C   0  0  0  0  0  0  0  0  0  0  0  0\\n    3.4321   -1.1902    0.3113 C   0  0  0  0  0  0  0  0  0  0  0  0\\n    4.0750    1.0310    1.2819 C   0  0  0  0  0  0  0  0  0  0  0  0\\n    5.5263    0.9997    0.7985 C   0  0  0  0  0  0  0  0  0  0  0  0\\n    5.6147    1.0576   -0.6867 N   0  0  0  0  0  0  0  0  0  0  0  0\\n    7.1287    1.5216   -1.3224 S   0  0  0  0  0  0  0  0  0  0  0  0\\n    8.1932    0.2161   -0.7432 C   0  0  0  0  0  0  0  0  0  0  0  0\\n    7.0480    1.4167   -2.7638 O   0  0  0  0  0  0  0  0  0  0  0  0\\n    7.5154    2.7597   -0.6823 O   0  0  0  0  0  0  0  0  0  0  0  0\\n    4.4690    1.7790   -1.2840 C   0  0  0  0  0  0  0  0  0  0  0  0\\n    3.1990    0.9512   -1.0722 C   0  0  0  0  0  0  0  0  0  0  0  0\\n    1.5061    0.9920    2.0340 O   0  0  0  0  0  0  0  0  0  0  0  0\\n   -4.4002   -2.2012    1.8220 C   0  0  0  0  0  0  0  0  0  0  0  0\\n  1  2  1  0\\n  2  3  1  0\\n  2  4  1  0\\n  4  5  1  0\\n  4  6  1  0\\n  4  7  1  0\\n  2  8  1  0\\n  8  9  2  0\\n  9 10  1  0\\n 10 11  2  0\\n 11 12  1  0\\n 12 13  1  0\\n 13 14  1  0\\n 15 14  1  1\\n 15 16  1  0\\n 16 17  1  6\\n 17 18  1  0\\n 18 19  2  0\\n 19 20  1  0\\n 20 21  2  0\\n 21 22  1  0\\n 22 23  2  0\\n 21 24  1  0\\n 17 25  2  0\\n 17 26  2  0\\n 16 27  1  0\\n 27 28  1  0\\n 28 29  1  0\\n 29 30  1  0\\n 30 31  1  0\\n 31 32  1  0\\n 31 33  1  0\\n 33 34  1  0\\n 34 35  1  0\\n 35 36  1  0\\n 36 37  1  0\\n 36 38  2  0\\n 36 39  2  0\\n 35 40  1  0\\n 40 41  1  0\\n 30 42  2  0\\n 12 43  2  0\\n 43  8  1  0\\n 16 11  1  0\\n 29 15  1  0\\n 23 18  1  0\\n 41 31  1  0\\nM  END\\n\",\"mol\");\n\tviewer_17518703419433916.setStyle({\"stick\": {}});\n\tviewer_17518703419433916.zoomTo();\nviewer_17518703419433916.render();\n});\n</script>",
      "text/html": [
       "<div id=\"3dmolviewer_17518703419433916\"  style=\"position: relative; width: 300px; height: 300px;\">\n",
       "        <p id=\"3dmolwarning_17518703419433916\" style=\"background-color:#ffcccc;color:black\">3Dmol.js failed to load for some reason.  Please check your browser console for error messages.<br></p>\n",
       "        </div>\n",
       "<script>\n",
       "\n",
       "var loadScriptAsync = function(uri){\n",
       "  return new Promise((resolve, reject) => {\n",
       "    //this is to ignore the existence of requirejs amd\n",
       "    var savedexports, savedmodule;\n",
       "    if (typeof exports !== 'undefined') savedexports = exports;\n",
       "    else exports = {}\n",
       "    if (typeof module !== 'undefined') savedmodule = module;\n",
       "    else module = {}\n",
       "\n",
       "    var tag = document.createElement('script');\n",
       "    tag.src = uri;\n",
       "    tag.async = true;\n",
       "    tag.onload = () => {\n",
       "        exports = savedexports;\n",
       "        module = savedmodule;\n",
       "        resolve();\n",
       "    };\n",
       "  var firstScriptTag = document.getElementsByTagName('script')[0];\n",
       "  firstScriptTag.parentNode.insertBefore(tag, firstScriptTag);\n",
       "});\n",
       "};\n",
       "\n",
       "if(typeof $3Dmolpromise === 'undefined') {\n",
       "$3Dmolpromise = null;\n",
       "  $3Dmolpromise = loadScriptAsync('https://cdn.jsdelivr.net/npm/3dmol@2.5.1/build/3Dmol-min.js');\n",
       "}\n",
       "\n",
       "var viewer_17518703419433916 = null;\n",
       "var warn = document.getElementById(\"3dmolwarning_17518703419433916\");\n",
       "if(warn) {\n",
       "    warn.parentNode.removeChild(warn);\n",
       "}\n",
       "$3Dmolpromise.then(function() {\n",
       "viewer_17518703419433916 = $3Dmol.createViewer(document.getElementById(\"3dmolviewer_17518703419433916\"),{backgroundColor:\"white\"});\n",
       "viewer_17518703419433916.zoomTo();\n",
       "\tviewer_17518703419433916.addModel(\"\\n     RDKit          3D\\n\\n 43 47  0  0  0  0  0  0  0  0999 V2000\\n   -6.7016   -4.6062    0.4444 C   0  0  0  0  0  0  0  0  0  0  0  0\\n   -6.6089   -3.3141    1.2629 C   0  0  0  0  0  0  0  0  0  0  0  0\\n   -6.5172   -3.7227    2.5780 F   0  0  0  0  0  0  0  0  0  0  0  0\\n   -7.9070   -2.4965    1.1151 C   0  0  0  0  0  0  0  0  0  0  0  0\\n   -8.9870   -3.2169    1.5117 F   0  0  0  0  0  0  0  0  0  0  0  0\\n   -7.8908   -1.3647    1.8559 F   0  0  0  0  0  0  0  0  0  0  0  0\\n   -8.1387   -2.1371   -0.1720 F   0  0  0  0  0  0  0  0  0  0  0  0\\n   -5.3719   -2.5115    0.8601 C   0  0  0  0  0  0  0  0  0  0  0  0\\n   -5.1632   -2.0688   -0.4506 C   0  0  0  0  0  0  0  0  0  0  0  0\\n   -4.0264   -1.3260   -0.7819 C   0  0  0  0  0  0  0  0  0  0  0  0\\n   -3.0613   -0.9878    0.1848 C   0  0  0  0  0  0  0  0  0  0  0  0\\n   -3.2462   -1.4684    1.4936 C   0  0  0  0  0  0  0  0  0  0  0  0\\n   -2.2287   -1.2018    2.5697 C   0  0  0  0  0  0  0  0  0  0  0  0\\n   -0.8366   -1.1373    1.9649 C   0  0  0  0  0  0  0  0  0  0  0  0\\n   -0.7722   -0.0050    0.9326 C   0  0  2  0  0  0  0  0  0  0  0  0\\n   -1.8287   -0.1441   -0.1862 C   0  0  2  0  0  0  0  0  0  0  0  0\\n   -2.4679    1.5122   -0.6350 S   0  0  0  0  0  0  0  0  0  0  0  0\\n   -1.0737    2.5780   -0.9913 C   0  0  0  0  0  0  0  0  0  0  0  0\\n   -0.4709    3.3082    0.0407 C   0  0  0  0  0  0  0  0  0  0  0  0\\n    0.5820    4.1763   -0.2522 C   0  0  0  0  0  0  0  0  0  0  0  0\\n    0.9971    4.3341   -1.5702 C   0  0  0  0  0  0  0  0  0  0  0  0\\n    0.3731    3.6469   -2.6070 C   0  0  0  0  0  0  0  0  0  0  0  0\\n   -0.6759    2.7714   -2.3216 C   0  0  0  0  0  0  0  0  0  0  0  0\\n    2.0129    5.1607   -1.8470 F   0  0  0  0  0  0  0  0  0  0  0  0\\n   -3.1904    1.4133   -1.8937 O   0  0  0  0  0  0  0  0  0  0  0  0\\n   -3.1205    2.0976    0.5231 O   0  0  0  0  0  0  0  0  0  0  0  0\\n   -1.0436   -0.8238   -1.3229 C   0  0  0  0  0  0  0  0  0  0  0  0\\n    0.4093   -0.4166   -1.1320 C   0  0  0  0  0  0  0  0  0  0  0  0\\n    0.5387   -0.0178    0.2592 N   0  0  0  0  0  0  0  0  0  0  0  0\\n    1.6531    0.4691    0.9234 C   0  0  0  0  0  0  0  0  0  0  0  0\\n    3.0774    0.3115    0.3298 C   0  0  0  0  0  0  0  0  0  0  0  0\\n    3.4321   -1.1902    0.3113 C   0  0  0  0  0  0  0  0  0  0  0  0\\n    4.0750    1.0310    1.2819 C   0  0  0  0  0  0  0  0  0  0  0  0\\n    5.5263    0.9997    0.7985 C   0  0  0  0  0  0  0  0  0  0  0  0\\n    5.6147    1.0576   -0.6867 N   0  0  0  0  0  0  0  0  0  0  0  0\\n    7.1287    1.5216   -1.3224 S   0  0  0  0  0  0  0  0  0  0  0  0\\n    8.1932    0.2161   -0.7432 C   0  0  0  0  0  0  0  0  0  0  0  0\\n    7.0480    1.4167   -2.7638 O   0  0  0  0  0  0  0  0  0  0  0  0\\n    7.5154    2.7597   -0.6823 O   0  0  0  0  0  0  0  0  0  0  0  0\\n    4.4690    1.7790   -1.2840 C   0  0  0  0  0  0  0  0  0  0  0  0\\n    3.1990    0.9512   -1.0722 C   0  0  0  0  0  0  0  0  0  0  0  0\\n    1.5061    0.9920    2.0340 O   0  0  0  0  0  0  0  0  0  0  0  0\\n   -4.4002   -2.2012    1.8220 C   0  0  0  0  0  0  0  0  0  0  0  0\\n  1  2  1  0\\n  2  3  1  0\\n  2  4  1  0\\n  4  5  1  0\\n  4  6  1  0\\n  4  7  1  0\\n  2  8  1  0\\n  8  9  2  0\\n  9 10  1  0\\n 10 11  2  0\\n 11 12  1  0\\n 12 13  1  0\\n 13 14  1  0\\n 15 14  1  1\\n 15 16  1  0\\n 16 17  1  6\\n 17 18  1  0\\n 18 19  2  0\\n 19 20  1  0\\n 20 21  2  0\\n 21 22  1  0\\n 22 23  2  0\\n 21 24  1  0\\n 17 25  2  0\\n 17 26  2  0\\n 16 27  1  0\\n 27 28  1  0\\n 28 29  1  0\\n 29 30  1  0\\n 30 31  1  0\\n 31 32  1  0\\n 31 33  1  0\\n 33 34  1  0\\n 34 35  1  0\\n 35 36  1  0\\n 36 37  1  0\\n 36 38  2  0\\n 36 39  2  0\\n 35 40  1  0\\n 40 41  1  0\\n 30 42  2  0\\n 12 43  2  0\\n 43  8  1  0\\n 16 11  1  0\\n 29 15  1  0\\n 23 18  1  0\\n 41 31  1  0\\nM  END\\n\",\"mol\");\n",
       "\tviewer_17518703419433916.setStyle({\"stick\": {}});\n",
       "\tviewer_17518703419433916.zoomTo();\n",
       "viewer_17518703419433916.render();\n",
       "});\n",
       "</script>"
      ]
     },
     "metadata": {},
     "output_type": "display_data"
    },
    {
     "data": {
      "text/plain": [
       "<py3Dmol.view at 0x7f78507b26d0>"
      ]
     },
     "execution_count": 4,
     "metadata": {},
     "output_type": "execute_result"
    }
   ],
   "source": [
    "mol_with_h = Chem.AddHs(mol)\n",
    "EmbedMolecule(mol_with_h, randomSeed=42)\n",
    "MMFFOptimizeMolecule(mol_with_h, maxIters=500)\n",
    "mol = Chem.RemoveHs(mol_with_h)\n",
    "MolTo3DView(mol)"
   ]
  },
  {
   "cell_type": "markdown",
   "id": "5edc7df8",
   "metadata": {},
   "source": [
    "### Convert the molecule to ConfSeq sequences"
   ]
  },
  {
   "cell_type": "code",
   "execution_count": 5,
   "id": "564e124d",
   "metadata": {},
   "outputs": [],
   "source": [
    "def mol2confseq(mols_list, num_workers=10, aug_mode=0, aug_times=1, do_random=False, disable_tqdm=False):\n",
    "    \"\"\"\n",
    "    Convert a list of RDKit molecule objects into their corresponding Conformation Sequence (ConfSeq) strings.\n",
    "\n",
    "    Parameters:\n",
    "        mols_list (list): A list of RDKit Mol objects to be processed.\n",
    "        num_workers (int, optional): Number of parallel workers for processing. Default is 10.\n",
    "        aug_mode (int, optional): Conformation augmentation mode that determines how the molecule is randomized:\n",
    "            - 0: Rooted SMILES augmentation at atom index 0 (canonicalized rooted SMILES).\n",
    "            - 1: Rooted SMILES augmentation at a random atom index (randomized rooted SMILES).\n",
    "            - 2: Fully randomized atom ordering using random SMILES generation.\n",
    "        aug_times (int, optional): Number of times to augment each molecule. Default is 1.\n",
    "        do_random (bool, optional): If True, applies additional random adjustments to the resulting ConfSeq strings. \n",
    "                                    Default is False.\n",
    "        disable_tqdm (bool, optional): If True, disables the progress bar output from tqdm. Default is False.\n",
    "\n",
    "    Returns:\n",
    "        confseq_list (list): A list of ConfSeq strings corresponding to each input molecule. \n",
    "                            If processing fails, the result for that molecule is 'error'.\n",
    "    \"\"\"\n",
    "\n",
    "    datas = []\n",
    "    for mol in mols_list:\n",
    "        if mol is not None:\n",
    "            datas.append((mol, Chem.MolToSmiles(mol)))\n",
    "\n",
    "    if aug_mode == 0:\n",
    "        results_t0 = process_map(\n",
    "            run_aug_mol_get_ConfSeq_pair_0,\n",
    "            tqdm(datas * aug_times, disable=disable_tqdm),\n",
    "            max_workers=num_workers,\n",
    "            chunksize=1000,\n",
    "            disable=disable_tqdm\n",
    "        )\n",
    "    elif aug_mode == 1:\n",
    "        results_t0 = process_map(\n",
    "            run_aug_mol_get_ConfSeq_pair_1,\n",
    "            tqdm(datas * aug_times, disable=disable_tqdm),\n",
    "            max_workers=num_workers,\n",
    "            chunksize=1000,\n",
    "            disable=disable_tqdm\n",
    "        )\n",
    "    elif aug_mode == 2:\n",
    "        results_t0 = process_map(\n",
    "            run_aug_mol_get_ConfSeq_pair_2,\n",
    "            tqdm(datas * aug_times, disable=disable_tqdm),\n",
    "            max_workers=num_workers,\n",
    "            chunksize=1000,\n",
    "            disable=disable_tqdm\n",
    "        )\n",
    "    else:\n",
    "        raise ValueError(f'Invalid aug_mode: {aug_mode}')\n",
    "\n",
    "    random.seed(42)  \n",
    "    if do_random:\n",
    "        for i in range(len(results_t0)):\n",
    "            if random.random() >= 0.5:\n",
    "                results_t0[i] = random_adjust_numbers(results_t0[i])\n",
    "            results_t0[i] = results_t0[i].replace('<180>', '<-180>')\n",
    "\n",
    "    confseq_list = []\n",
    "    for i in range(len(results_t0)):\n",
    "        parts = results_t0[i].split('\\t')\n",
    "        if len(parts) == 3:\n",
    "            confseq_list.append(parts[2])\n",
    "        else:\n",
    "            confseq_list.append('error')\n",
    "\n",
    "    return confseq_list\n"
   ]
  },
  {
   "cell_type": "markdown",
   "id": "48c34ee6",
   "metadata": {},
   "source": [
    "#### canonicalized ConfSeq sequence"
   ]
  },
  {
   "cell_type": "code",
   "execution_count": 6,
   "id": "5646ae1a",
   "metadata": {},
   "outputs": [
    {
     "name": "stderr",
     "output_type": "stream",
     "text": [
      "100%|██████████| 1/1 [00:00<00:00, 214.25it/s]\n"
     ]
    },
    {
     "data": {
      "application/vnd.jupyter.widget-view+json": {
       "model_id": "e8f89bcbbe2c4db6a070a2226bc979a0",
       "version_major": 2,
       "version_minor": 0
      },
      "text/plain": [
       "  0%|          | 0/1 [00:00<?, ?it/s]"
      ]
     },
     "metadata": {},
     "output_type": "display_data"
    },
    {
     "data": {
      "text/plain": [
       "['C C 1 ( } <57> C <121> | ( = O ) <-16> N 2 <-178> C <21> C <90> [ C @ @ ] 3 ( <-62> S <108> | ( = O ) ( = O ) <-88> c 4 c c c ( F ) c c 4 ) <-56> c 4 c c c ( <-64> [ C @ @ ] ( C ) ( F ) <-58> C ( F ) ( F ) F ) c c 4 <-32> C <60> C <-174> [ C @ @ H ] <161> 2 <23> 3 ) <135> C <41> C <158> { N ( <-165> S <102> | ( C ) ( = O ) = O ) <28> C <33> C <-178> 1']"
      ]
     },
     "execution_count": 6,
     "metadata": {},
     "output_type": "execute_result"
    }
   ],
   "source": [
    "mol2confseq([mol])"
   ]
  },
  {
   "cell_type": "markdown",
   "id": "bc7d3c10",
   "metadata": {},
   "source": [
    "#### augmented ConfSeq sequences"
   ]
  },
  {
   "cell_type": "code",
   "execution_count": 7,
   "id": "a501dd87",
   "metadata": {},
   "outputs": [
    {
     "name": "stderr",
     "output_type": "stream",
     "text": [
      "100%|██████████| 10/10 [00:00<00:00, 4883.91it/s]\n"
     ]
    },
    {
     "data": {
      "application/vnd.jupyter.widget-view+json": {
       "model_id": "9d0556d647a34b4d9409bc84e4b0e6a1",
       "version_major": 2,
       "version_minor": 0
      },
      "text/plain": [
       "  0%|          | 0/10 [00:00<?, ?it/s]"
      ]
     },
     "metadata": {},
     "output_type": "display_data"
    },
    {
     "data": {
      "text/plain": [
       "['O = C <118> | ( <-16> N 1 <-178> C <21> C <89> [ C @ @ ] 2 ( <-63> S <111> | ( = O ) ( = O ) <-87> c 3 c c c ( F ) c c 3 ) <-58> c 3 c c c ( <-63> [ C @ @ ] ( C ) ( F ) <-58> C ( F ) ( F ) F ) c c 3 <-34> C <57> C <-176> [ C @ @ H ] <160> 1 <23> 2 ) <58> { C 1 ( C ) <137> C <38> C <159> { N ( <-166> S <104> | ( C ) ( = O ) = O ) <29> C <33> C <-178> 1',\n",
       " 'C 1 <60> C <-174> [ C @ H ] 2 <-76> N ( <172> C <121> | ( = O ) <176> } C 3 ( C ) <-178> C <33> C <161> } N ( <62> S <102> | ( C ) ( = O ) = O ) <-67> C <41> C <135> 3 ) <-6> C <21> C <-27> [ C @ @ ] <-96> 2 ( <52> S <108> | ( = O ) ( = O ) <97> c 2 c c c ( F ) c c 2 ) <-172> c 2 c c c ( <-64> [ C @ @ ] ( C ) ( F ) <-178> C ( F ) ( F ) F ) c c 2 <-32> 1',\n",
       " 'c 1 c c ( F ) c c c 1 <-88> S <108> | ( = O ) ( = O ) <-62> [ C @ @ ] 1 2 <90> C <21> C <-178> N ( <-16> C <121> | ( = O ) <57> { C 3 ( C ) <135> C <41> C <158> { N ( <-165> S <102> | ( C ) ( = O ) = O ) <28> C <33> C <-178> 3 ) <-11> [ C @ @ H ] <-97> 1 <-56> C <60> C <148> c 1 c c ( <115> [ C @ @ ] ( C ) ( F ) <62> C ( F ) ( F ) F ) c c c 1 <-115> 2',\n",
       " 'N 1 ( <-17> C <121> | ( = O ) <176> } C 2 ( C ) <-178> C <32> C <160> } N ( <62> S <101> | ( C ) ( = O ) = O ) <-69> C <41> C <134> 2 ) <-178> C <21> C <92> [ C @ @ ] 2 ( <-62> S <106> | ( = O ) ( = O ) <-88> c 3 c c c ( F ) c c 3 ) <-55> c 3 c c c ( <-65> [ C @ @ ] ( C ) ( F ) <62> C ( F ) ( F ) F ) c c 3 <-34> C <61> C <-174> [ C @ @ H ] <163> 1 <25> 2',\n",
       " 'C 1 <33> C <162> } N ( <61> S <100> | ( C ) ( = O ) = O ) <-69> C <44> C <16> } C <-56> 1 ( C ) <174> C <121> | ( = O ) <-17> N 1 <-178> C <21> C <90> [ C @ @ ] 2 ( <-60> S <108> | ( = O ) ( = O ) <-89> c 3 c c c ( F ) c c 3 ) <-56> c 3 c c c ( <-64> [ C @ @ ] ( C ) ( F ) <-179> C ( F ) ( F ) F ) c c 3 <-29> C <60> C <-171> [ C @ @ H ] <163> 1 <21> 2',\n",
       " 'c 1 2 c c c ( <-65> [ C @ @ ] ( C ) ( F ) <-57> C ( F ) ( F ) F ) c c 1 <-32> C <59> C <-174> [ C @ H ] 1 <-76> N ( <172> C <123> | ( = O ) <58> { C 3 ( C ) <135> C <44> C <158> { N ( <-167> S <102> | ( C ) ( = O ) = O ) <26> C <33> C <-178> 3 ) <-6> C <19> C <-151> [ C @ @ ] <-171> 2 <23> 1 <175> S <110> | ( = O ) ( = O ) <-87> c 1 c c c ( F ) c c 1',\n",
       " 'C 1 <21> C <90> [ C @ @ ] 2 ( <-62> S <108> | ( = O ) ( = O ) <-88> c 3 c c c ( F ) c c 3 ) <-56> c 3 c c c ( <-64> [ C @ @ ] ( C ) ( F ) <-178> C ( F ) ( F ) F ) c c 3 <-32> C <60> C <-56> [ C @ H ] <-96> 2 <-11> N <-6> 1 <-16> C <121> | ( = O ) <176> } C 1 ( C ) <-178> C <33> C <161> } N ( <62> S <102> | ( C ) ( = O ) = O ) <-67> C <41> C <135> 1',\n",
       " 'c 1 c c ( <-64> [ C @ @ ] ( C ) ( F ) <61> C ( F ) ( F ) F ) c c 2 c 1 <66> [ C @ ] 1 ( <175> S <108> | ( = O ) ( = O ) <98> c 3 c c c ( F ) c c 3 ) <-149> C <21> C <-177> N ( <-16> C <122> | ( = O ) <176> } C 3 ( C ) <-178> C <33> C <160> } N ( <63> S <103> | ( C ) ( = O ) = O ) <-69> C <39> C <134> 3 ) <-12> [ C @ @ H ] <145> 1 <-57> C <63> C <148> 2',\n",
       " 'c 1 c ( <115> [ C @ @ ] ( C ) ( F ) <-178> C ( F ) ( F ) F ) c c c 2 c 1 <150> C <60> C <-173> [ C @ H ] 1 <-76> N ( <173> C <118> | ( = O ) <60> { C 3 ( C ) <134> C <44> C <159> { N ( <-165> S <104> | ( C ) ( = O ) = O ) <28> C <32> C <-178> 3 ) <-6> C <20> C <-150> [ C @ @ ] <-175> 2 <23> 1 <177> S <107> | ( = O ) ( = O ) <98> c 1 c c c ( F ) c c 1',\n",
       " 'C S <104> | ( = O ) ( = O ) <-165> } N 1 <160> C <42> C <137> } C ( C ) ( <56> C <120> | ( = O ) <-16> N 2 <-179> C <22> C <91> [ C @ @ ] 3 ( <-65> S <110> | ( = O ) ( = O ) <-88> c 4 c c c ( F ) c c 4 ) <-55> c 4 c c c ( <-67> [ C @ @ ] ( C ) ( F ) <61> C ( F ) ( F ) F ) c c 4 <-32> C <60> C <-174> [ C @ @ H ] <159> 2 <23> 3 ) <-55> C <31> C <159> 1']"
      ]
     },
     "execution_count": 7,
     "metadata": {},
     "output_type": "execute_result"
    }
   ],
   "source": [
    "mol2confseq([mol], aug_mode=1, aug_times=10, do_random=True)"
   ]
  },
  {
   "cell_type": "markdown",
   "id": "87feb764",
   "metadata": {},
   "source": [
    "### Convert the ConfSeq sequence back to a 3D molecule"
   ]
  },
  {
   "cell_type": "code",
   "execution_count": 8,
   "id": "65649f4a",
   "metadata": {},
   "outputs": [],
   "source": [
    "def convert_confseq_to_mol(confseq):\n",
    "    try:\n",
    "        in_smiles = replace_angle_brackets_with_line(confseq)\n",
    "        generated_mol = get_mol_from_ConfSeq_pair(in_smiles, confseq)\n",
    "        generated_mol = Chem.MolFromMolBlock(remove_degree_in_molblock(Chem.MolToMolBlock(generated_mol)))\n",
    "        if generated_mol is not None:\n",
    "            return generated_mol\n",
    "    except Exception as e:\n",
    "        return f'Error: {e}'\n",
    "    return None"
   ]
  },
  {
   "cell_type": "code",
   "execution_count": 9,
   "id": "0868c228",
   "metadata": {},
   "outputs": [
    {
     "data": {
      "text/plain": [
       "'C C 1 ( { <176> C <121> | ( = O ) <-16> N 2 <-178> C <21> C <90> [ C @ @ ] 3 ( <-62> S <108> | ( = O ) ( = O ) <-88> c 4 c c c ( F ) c c 4 ) <-56> c 4 c c c ( <-64> [ C @ @ ] ( C ) ( F ) <62> C ( F ) ( F ) F ) c c 4 <-32> C <60> C <-174> [ C @ @ H ] <161> 2 <23> 3 ) <-178> C <33> C <161> } N ( <62> S <102> | ( C ) ( = O ) = O ) <-67> C <41> C <135> 1'"
      ]
     },
     "execution_count": 9,
     "metadata": {},
     "output_type": "execute_result"
    }
   ],
   "source": [
    "confseq = mol2confseq([mol], disable_tqdm=True)[0]\n",
    "confseq"
   ]
  },
  {
   "cell_type": "code",
   "execution_count": 10,
   "id": "28d13b6e",
   "metadata": {},
   "outputs": [
    {
     "data": {
      "application/3dmoljs_load.v0": "<div id=\"3dmolviewer_17518703428636053\"  style=\"position: relative; width: 300px; height: 300px;\">\n        <p id=\"3dmolwarning_17518703428636053\" style=\"background-color:#ffcccc;color:black\">3Dmol.js failed to load for some reason.  Please check your browser console for error messages.<br></p>\n        </div>\n<script>\n\nvar loadScriptAsync = function(uri){\n  return new Promise((resolve, reject) => {\n    //this is to ignore the existence of requirejs amd\n    var savedexports, savedmodule;\n    if (typeof exports !== 'undefined') savedexports = exports;\n    else exports = {}\n    if (typeof module !== 'undefined') savedmodule = module;\n    else module = {}\n\n    var tag = document.createElement('script');\n    tag.src = uri;\n    tag.async = true;\n    tag.onload = () => {\n        exports = savedexports;\n        module = savedmodule;\n        resolve();\n    };\n  var firstScriptTag = document.getElementsByTagName('script')[0];\n  firstScriptTag.parentNode.insertBefore(tag, firstScriptTag);\n});\n};\n\nif(typeof $3Dmolpromise === 'undefined') {\n$3Dmolpromise = null;\n  $3Dmolpromise = loadScriptAsync('https://cdn.jsdelivr.net/npm/3dmol@2.5.1/build/3Dmol-min.js');\n}\n\nvar viewer_17518703428636053 = null;\nvar warn = document.getElementById(\"3dmolwarning_17518703428636053\");\nif(warn) {\n    warn.parentNode.removeChild(warn);\n}\n$3Dmolpromise.then(function() {\nviewer_17518703428636053 = $3Dmol.createViewer(document.getElementById(\"3dmolviewer_17518703428636053\"),{backgroundColor:\"white\"});\nviewer_17518703428636053.zoomTo();\n\tviewer_17518703428636053.addModel(\"\\n     RDKit          3D\\n\\n 43 47  0  0  0  0  0  0  0  0999 V2000\\n    3.8532   -1.9690    0.5007 C   0  0  0  0  0  0  0  0  0  0  0  0\\n    3.5232   -0.8669   -0.5433 C   0  0  0  0  0  0  0  0  0  0  0  0\\n    2.1473   -1.1950   -1.1404 C   0  0  0  0  0  0  0  0  0  0  0  0\\n    1.1938   -0.3916   -0.9436 O   0  0  0  0  0  0  0  0  0  0  0  0\\n    1.9259   -2.4205   -1.8641 N   0  0  0  0  0  0  0  0  0  0  0  0\\n    3.0374   -3.2127   -2.3495 C   0  0  0  0  0  0  0  0  0  0  0  0\\n    2.4031   -4.3778   -3.0911 C   0  0  0  0  0  0  0  0  0  0  0  0\\n    0.9747   -3.9114   -3.4450 C   0  0  1  0  0  0  0  0  0  0  0  0\\n    0.9302   -3.0855   -5.0660 S   0  0  0  0  0  0  0  0  0  0  0  0\\n    1.4126   -4.0547   -6.1096 O   0  0  0  0  0  0  0  0  0  0  0  0\\n   -0.4844   -2.6995   -5.4038 O   0  0  0  0  0  0  0  0  0  0  0  0\\n    1.9562   -1.6495   -4.9755 C   0  0  0  0  0  0  0  0  0  0  0  0\\n    1.4330   -0.4217   -4.5391 C   0  0  0  0  0  0  0  0  0  0  0  0\\n    2.2472    0.7170   -4.5010 C   0  0  0  0  0  0  0  0  0  0  0  0\\n    3.5808    0.6367   -4.9048 C   0  0  0  0  0  0  0  0  0  0  0  0\\n    4.3651    1.7410   -4.8759 F   0  0  0  0  0  0  0  0  0  0  0  0\\n    4.1092   -0.5836   -5.3276 C   0  0  0  0  0  0  0  0  0  0  0  0\\n    3.3040   -1.7252   -5.3546 C   0  0  0  0  0  0  0  0  0  0  0  0\\n    0.0111   -5.1207   -3.4333 C   0  0  0  0  0  0  0  0  0  0  0  0\\n    0.2797   -6.2445   -4.2401 C   0  0  0  0  0  0  0  0  0  0  0  0\\n   -0.6132   -7.3116   -4.3244 C   0  0  0  0  0  0  0  0  0  0  0  0\\n   -1.7967   -7.3188   -3.5698 C   0  0  0  0  0  0  0  0  0  0  0  0\\n   -2.8175   -8.4466   -3.7129 C   0  0  1  0  0  0  0  0  0  0  0  0\\n   -2.2058   -9.8161   -3.3628 C   0  0  0  0  0  0  0  0  0  0  0  0\\n   -3.8629   -8.2421   -2.8221 F   0  0  0  0  0  0  0  0  0  0  0  0\\n   -3.4124   -8.4590   -5.1352 C   0  0  0  0  0  0  0  0  0  0  0  0\\n   -2.4146   -8.6946   -6.0634 F   0  0  0  0  0  0  0  0  0  0  0  0\\n   -4.3836   -9.4437   -5.2657 F   0  0  0  0  0  0  0  0  0  0  0  0\\n   -3.9839   -7.2259   -5.4055 F   0  0  0  0  0  0  0  0  0  0  0  0\\n   -2.0548   -6.2259   -2.7254 C   0  0  0  0  0  0  0  0  0  0  0  0\\n   -1.1689   -5.1372   -2.6490 C   0  0  0  0  0  0  0  0  0  0  0  0\\n   -1.4549   -4.0573   -1.6501 C   0  0  0  0  0  0  0  0  0  0  0  0\\n   -0.1718   -3.5171   -1.0496 C   0  0  0  0  0  0  0  0  0  0  0  0\\n    0.7530   -2.9201   -2.1198 C   0  0  1  0  0  0  0  0  0  0  0  0\\n    3.5518    0.5585    0.1091 C   0  0  0  0  0  0  0  0  0  0  0  0\\n    4.9203    0.9765    0.6884 C   0  0  0  0  0  0  0  0  0  0  0  0\\n    6.0274    0.4135   -0.0947 N   0  0  0  0  0  0  0  0  0  0  0  0\\n    7.5018    1.2997    0.2202 S   0  0  0  0  0  0  0  0  0  0  0  0\\n    7.7405    1.0145    1.9626 C   0  0  0  0  0  0  0  0  0  0  0  0\\n    7.3226    2.7548   -0.1222 O   0  0  0  0  0  0  0  0  0  0  0  0\\n    8.6250    0.7364   -0.6074 O   0  0  0  0  0  0  0  0  0  0  0  0\\n    5.7281    0.4231   -1.5479 C   0  0  0  0  0  0  0  0  0  0  0  0\\n    4.5770   -0.5300   -1.9568 C   0  0  0  0  0  0  0  0  0  0  0  0\\n  2  1  1  0\\n  2  3  1  0\\n  3  4  2  0\\n  3  5  1  0\\n  5  6  1  0\\n  6  7  1  0\\n  7  8  1  0\\n  8  9  1  6\\n  9 10  2  0\\n  9 11  2  0\\n  9 12  1  0\\n 12 13  2  0\\n 13 14  1  0\\n 14 15  2  0\\n 15 16  1  0\\n 15 17  1  0\\n 17 18  2  0\\n  8 19  1  0\\n 19 20  2  0\\n 20 21  1  0\\n 21 22  2  0\\n 22 23  1  0\\n 23 24  1  1\\n 23 25  1  0\\n 23 26  1  0\\n 26 27  1  0\\n 26 28  1  0\\n 26 29  1  0\\n 22 30  1  0\\n 30 31  2  0\\n 31 32  1  0\\n 32 33  1  0\\n 34 33  1  1\\n  2 35  1  0\\n 35 36  1  0\\n 36 37  1  0\\n 37 38  1  0\\n 38 39  1  0\\n 38 40  2  0\\n 38 41  2  0\\n 37 42  1  0\\n 42 43  1  0\\n 18 12  1  0\\n 31 19  1  0\\n  5 34  1  0\\n  8 34  1  0\\n  2 43  1  0\\nM  END\\n\",\"mol\");\n\tviewer_17518703428636053.setStyle({\"stick\": {}});\n\tviewer_17518703428636053.zoomTo();\nviewer_17518703428636053.render();\n});\n</script>",
      "text/html": [
       "<div id=\"3dmolviewer_17518703428636053\"  style=\"position: relative; width: 300px; height: 300px;\">\n",
       "        <p id=\"3dmolwarning_17518703428636053\" style=\"background-color:#ffcccc;color:black\">3Dmol.js failed to load for some reason.  Please check your browser console for error messages.<br></p>\n",
       "        </div>\n",
       "<script>\n",
       "\n",
       "var loadScriptAsync = function(uri){\n",
       "  return new Promise((resolve, reject) => {\n",
       "    //this is to ignore the existence of requirejs amd\n",
       "    var savedexports, savedmodule;\n",
       "    if (typeof exports !== 'undefined') savedexports = exports;\n",
       "    else exports = {}\n",
       "    if (typeof module !== 'undefined') savedmodule = module;\n",
       "    else module = {}\n",
       "\n",
       "    var tag = document.createElement('script');\n",
       "    tag.src = uri;\n",
       "    tag.async = true;\n",
       "    tag.onload = () => {\n",
       "        exports = savedexports;\n",
       "        module = savedmodule;\n",
       "        resolve();\n",
       "    };\n",
       "  var firstScriptTag = document.getElementsByTagName('script')[0];\n",
       "  firstScriptTag.parentNode.insertBefore(tag, firstScriptTag);\n",
       "});\n",
       "};\n",
       "\n",
       "if(typeof $3Dmolpromise === 'undefined') {\n",
       "$3Dmolpromise = null;\n",
       "  $3Dmolpromise = loadScriptAsync('https://cdn.jsdelivr.net/npm/3dmol@2.5.1/build/3Dmol-min.js');\n",
       "}\n",
       "\n",
       "var viewer_17518703428636053 = null;\n",
       "var warn = document.getElementById(\"3dmolwarning_17518703428636053\");\n",
       "if(warn) {\n",
       "    warn.parentNode.removeChild(warn);\n",
       "}\n",
       "$3Dmolpromise.then(function() {\n",
       "viewer_17518703428636053 = $3Dmol.createViewer(document.getElementById(\"3dmolviewer_17518703428636053\"),{backgroundColor:\"white\"});\n",
       "viewer_17518703428636053.zoomTo();\n",
       "\tviewer_17518703428636053.addModel(\"\\n     RDKit          3D\\n\\n 43 47  0  0  0  0  0  0  0  0999 V2000\\n    3.8532   -1.9690    0.5007 C   0  0  0  0  0  0  0  0  0  0  0  0\\n    3.5232   -0.8669   -0.5433 C   0  0  0  0  0  0  0  0  0  0  0  0\\n    2.1473   -1.1950   -1.1404 C   0  0  0  0  0  0  0  0  0  0  0  0\\n    1.1938   -0.3916   -0.9436 O   0  0  0  0  0  0  0  0  0  0  0  0\\n    1.9259   -2.4205   -1.8641 N   0  0  0  0  0  0  0  0  0  0  0  0\\n    3.0374   -3.2127   -2.3495 C   0  0  0  0  0  0  0  0  0  0  0  0\\n    2.4031   -4.3778   -3.0911 C   0  0  0  0  0  0  0  0  0  0  0  0\\n    0.9747   -3.9114   -3.4450 C   0  0  1  0  0  0  0  0  0  0  0  0\\n    0.9302   -3.0855   -5.0660 S   0  0  0  0  0  0  0  0  0  0  0  0\\n    1.4126   -4.0547   -6.1096 O   0  0  0  0  0  0  0  0  0  0  0  0\\n   -0.4844   -2.6995   -5.4038 O   0  0  0  0  0  0  0  0  0  0  0  0\\n    1.9562   -1.6495   -4.9755 C   0  0  0  0  0  0  0  0  0  0  0  0\\n    1.4330   -0.4217   -4.5391 C   0  0  0  0  0  0  0  0  0  0  0  0\\n    2.2472    0.7170   -4.5010 C   0  0  0  0  0  0  0  0  0  0  0  0\\n    3.5808    0.6367   -4.9048 C   0  0  0  0  0  0  0  0  0  0  0  0\\n    4.3651    1.7410   -4.8759 F   0  0  0  0  0  0  0  0  0  0  0  0\\n    4.1092   -0.5836   -5.3276 C   0  0  0  0  0  0  0  0  0  0  0  0\\n    3.3040   -1.7252   -5.3546 C   0  0  0  0  0  0  0  0  0  0  0  0\\n    0.0111   -5.1207   -3.4333 C   0  0  0  0  0  0  0  0  0  0  0  0\\n    0.2797   -6.2445   -4.2401 C   0  0  0  0  0  0  0  0  0  0  0  0\\n   -0.6132   -7.3116   -4.3244 C   0  0  0  0  0  0  0  0  0  0  0  0\\n   -1.7967   -7.3188   -3.5698 C   0  0  0  0  0  0  0  0  0  0  0  0\\n   -2.8175   -8.4466   -3.7129 C   0  0  1  0  0  0  0  0  0  0  0  0\\n   -2.2058   -9.8161   -3.3628 C   0  0  0  0  0  0  0  0  0  0  0  0\\n   -3.8629   -8.2421   -2.8221 F   0  0  0  0  0  0  0  0  0  0  0  0\\n   -3.4124   -8.4590   -5.1352 C   0  0  0  0  0  0  0  0  0  0  0  0\\n   -2.4146   -8.6946   -6.0634 F   0  0  0  0  0  0  0  0  0  0  0  0\\n   -4.3836   -9.4437   -5.2657 F   0  0  0  0  0  0  0  0  0  0  0  0\\n   -3.9839   -7.2259   -5.4055 F   0  0  0  0  0  0  0  0  0  0  0  0\\n   -2.0548   -6.2259   -2.7254 C   0  0  0  0  0  0  0  0  0  0  0  0\\n   -1.1689   -5.1372   -2.6490 C   0  0  0  0  0  0  0  0  0  0  0  0\\n   -1.4549   -4.0573   -1.6501 C   0  0  0  0  0  0  0  0  0  0  0  0\\n   -0.1718   -3.5171   -1.0496 C   0  0  0  0  0  0  0  0  0  0  0  0\\n    0.7530   -2.9201   -2.1198 C   0  0  1  0  0  0  0  0  0  0  0  0\\n    3.5518    0.5585    0.1091 C   0  0  0  0  0  0  0  0  0  0  0  0\\n    4.9203    0.9765    0.6884 C   0  0  0  0  0  0  0  0  0  0  0  0\\n    6.0274    0.4135   -0.0947 N   0  0  0  0  0  0  0  0  0  0  0  0\\n    7.5018    1.2997    0.2202 S   0  0  0  0  0  0  0  0  0  0  0  0\\n    7.7405    1.0145    1.9626 C   0  0  0  0  0  0  0  0  0  0  0  0\\n    7.3226    2.7548   -0.1222 O   0  0  0  0  0  0  0  0  0  0  0  0\\n    8.6250    0.7364   -0.6074 O   0  0  0  0  0  0  0  0  0  0  0  0\\n    5.7281    0.4231   -1.5479 C   0  0  0  0  0  0  0  0  0  0  0  0\\n    4.5770   -0.5300   -1.9568 C   0  0  0  0  0  0  0  0  0  0  0  0\\n  2  1  1  0\\n  2  3  1  0\\n  3  4  2  0\\n  3  5  1  0\\n  5  6  1  0\\n  6  7  1  0\\n  7  8  1  0\\n  8  9  1  6\\n  9 10  2  0\\n  9 11  2  0\\n  9 12  1  0\\n 12 13  2  0\\n 13 14  1  0\\n 14 15  2  0\\n 15 16  1  0\\n 15 17  1  0\\n 17 18  2  0\\n  8 19  1  0\\n 19 20  2  0\\n 20 21  1  0\\n 21 22  2  0\\n 22 23  1  0\\n 23 24  1  1\\n 23 25  1  0\\n 23 26  1  0\\n 26 27  1  0\\n 26 28  1  0\\n 26 29  1  0\\n 22 30  1  0\\n 30 31  2  0\\n 31 32  1  0\\n 32 33  1  0\\n 34 33  1  1\\n  2 35  1  0\\n 35 36  1  0\\n 36 37  1  0\\n 37 38  1  0\\n 38 39  1  0\\n 38 40  2  0\\n 38 41  2  0\\n 37 42  1  0\\n 42 43  1  0\\n 18 12  1  0\\n 31 19  1  0\\n  5 34  1  0\\n  8 34  1  0\\n  2 43  1  0\\nM  END\\n\",\"mol\");\n",
       "\tviewer_17518703428636053.setStyle({\"stick\": {}});\n",
       "\tviewer_17518703428636053.zoomTo();\n",
       "viewer_17518703428636053.render();\n",
       "});\n",
       "</script>"
      ]
     },
     "metadata": {},
     "output_type": "display_data"
    },
    {
     "data": {
      "text/plain": [
       "<py3Dmol.view at 0x7f76f1cf7450>"
      ]
     },
     "execution_count": 10,
     "metadata": {},
     "output_type": "execute_result"
    }
   ],
   "source": [
    "mol_recon = convert_confseq_to_mol(confseq)\n",
    "MolTo3DView(mol_recon)"
   ]
  },
  {
   "cell_type": "code",
   "execution_count": 11,
   "id": "325f0199",
   "metadata": {},
   "outputs": [
    {
     "data": {
      "text/plain": [
       "0.22552322787294388"
      ]
     },
     "execution_count": 11,
     "metadata": {},
     "output_type": "execute_result"
    }
   ],
   "source": [
    "GetBestRMS(mol, mol_recon)"
   ]
  },
  {
   "cell_type": "code",
   "execution_count": 12,
   "id": "a3dbebdd",
   "metadata": {},
   "outputs": [
    {
     "data": {
      "application/3dmoljs_load.v0": "<div id=\"3dmolviewer_175187034290494\"  style=\"position: relative; width: 300px; height: 300px;\">\n        <p id=\"3dmolwarning_175187034290494\" style=\"background-color:#ffcccc;color:black\">3Dmol.js failed to load for some reason.  Please check your browser console for error messages.<br></p>\n        </div>\n<script>\n\nvar loadScriptAsync = function(uri){\n  return new Promise((resolve, reject) => {\n    //this is to ignore the existence of requirejs amd\n    var savedexports, savedmodule;\n    if (typeof exports !== 'undefined') savedexports = exports;\n    else exports = {}\n    if (typeof module !== 'undefined') savedmodule = module;\n    else module = {}\n\n    var tag = document.createElement('script');\n    tag.src = uri;\n    tag.async = true;\n    tag.onload = () => {\n        exports = savedexports;\n        module = savedmodule;\n        resolve();\n    };\n  var firstScriptTag = document.getElementsByTagName('script')[0];\n  firstScriptTag.parentNode.insertBefore(tag, firstScriptTag);\n});\n};\n\nif(typeof $3Dmolpromise === 'undefined') {\n$3Dmolpromise = null;\n  $3Dmolpromise = loadScriptAsync('https://cdn.jsdelivr.net/npm/3dmol@2.5.1/build/3Dmol-min.js');\n}\n\nvar viewer_175187034290494 = null;\nvar warn = document.getElementById(\"3dmolwarning_175187034290494\");\nif(warn) {\n    warn.parentNode.removeChild(warn);\n}\n$3Dmolpromise.then(function() {\nviewer_175187034290494 = $3Dmol.createViewer(document.getElementById(\"3dmolviewer_175187034290494\"),{backgroundColor:\"white\"});\nviewer_175187034290494.zoomTo();\n\tviewer_175187034290494.addModel(\"\\n     RDKit          3D\\n\\n 43 47  0  0  0  0  0  0  0  0999 V2000\\n   -2.1821   -9.7406   -3.4005 C   0  0  0  0  0  0  0  0  0  0  0  0\\n   -2.8481   -8.3902   -3.6852 C   0  0  0  0  0  0  0  0  0  0  0  0\\n   -3.7927   -8.2341   -2.6912 F   0  0  0  0  0  0  0  0  0  0  0  0\\n   -3.5907   -8.4375   -5.0349 C   0  0  0  0  0  0  0  0  0  0  0  0\\n   -4.5240   -9.4231   -5.0458 F   0  0  0  0  0  0  0  0  0  0  0  0\\n   -4.2329   -7.2794   -5.3109 F   0  0  0  0  0  0  0  0  0  0  0  0\\n   -2.7515   -8.6940   -6.0692 F   0  0  0  0  0  0  0  0  0  0  0  0\\n   -1.8178   -7.2623   -3.6321 C   0  0  0  0  0  0  0  0  0  0  0  0\\n   -0.6925   -7.2390   -4.4631 C   0  0  0  0  0  0  0  0  0  0  0  0\\n    0.2236   -6.1853   -4.3968 C   0  0  0  0  0  0  0  0  0  0  0  0\\n    0.0447   -5.1100   -3.5069 C   0  0  0  0  0  0  0  0  0  0  0  0\\n   -1.0620   -5.1523   -2.6398 C   0  0  0  0  0  0  0  0  0  0  0  0\\n   -1.2893   -4.0716   -1.6177 C   0  0  0  0  0  0  0  0  0  0  0  0\\n    0.0429   -3.5224   -1.1364 C   0  0  0  0  0  0  0  0  0  0  0  0\\n    0.8164   -2.9284   -2.3197 C   0  0  2  0  0  0  0  0  0  0  0  0\\n    1.0447   -3.9409   -3.4642 C   0  0  2  0  0  0  0  0  0  0  0  0\\n    0.8917   -3.0875   -5.0772 S   0  0  0  0  0  0  0  0  0  0  0  0\\n    1.9661   -1.6549   -5.0622 C   0  0  0  0  0  0  0  0  0  0  0  0\\n    1.4860   -0.4267   -4.5906 C   0  0  0  0  0  0  0  0  0  0  0  0\\n    2.3119    0.6978   -4.6297 C   0  0  0  0  0  0  0  0  0  0  0  0\\n    3.5894    0.5945   -5.1697 C   0  0  0  0  0  0  0  0  0  0  0  0\\n    4.0573   -0.6116   -5.6823 C   0  0  0  0  0  0  0  0  0  0  0  0\\n    3.2402   -1.7425   -5.6404 C   0  0  0  0  0  0  0  0  0  0  0  0\\n    4.3824    1.6727   -5.1977 F   0  0  0  0  0  0  0  0  0  0  0  0\\n    1.4339   -3.9469   -6.1183 O   0  0  0  0  0  0  0  0  0  0  0  0\\n   -0.4563   -2.5629   -5.2093 O   0  0  0  0  0  0  0  0  0  0  0  0\\n    2.4642   -4.4673   -3.1845 C   0  0  0  0  0  0  0  0  0  0  0  0\\n    3.1899   -3.3497   -2.4513 C   0  0  0  0  0  0  0  0  0  0  0  0\\n    2.1568   -2.5044   -1.8773 N   0  0  0  0  0  0  0  0  0  0  0  0\\n    2.2973   -1.3358   -1.1459 C   0  0  0  0  0  0  0  0  0  0  0  0\\n    3.6551   -0.9442   -0.5063 C   0  0  0  0  0  0  0  0  0  0  0  0\\n    3.9868   -1.9720    0.5960 C   0  0  0  0  0  0  0  0  0  0  0  0\\n    3.4830    0.4471    0.1675 C   0  0  0  0  0  0  0  0  0  0  0  0\\n    4.7632    0.9897    0.8061 C   0  0  0  0  0  0  0  0  0  0  0  0\\n    5.9752    0.5873    0.0406 N   0  0  0  0  0  0  0  0  0  0  0  0\\n    7.3813    1.5065    0.3402 S   0  0  0  0  0  0  0  0  0  0  0  0\\n    7.6733    1.1900    2.0687 C   0  0  0  0  0  0  0  0  0  0  0  0\\n    8.4648    0.9036   -0.4068 O   0  0  0  0  0  0  0  0  0  0  0  0\\n    7.0407    2.9020    0.1708 O   0  0  0  0  0  0  0  0  0  0  0  0\\n    5.6848    0.3905   -1.3970 C   0  0  0  0  0  0  0  0  0  0  0  0\\n    4.7851   -0.8377   -1.5558 C   0  0  0  0  0  0  0  0  0  0  0  0\\n    1.3042   -0.6232   -0.9609 O   0  0  0  0  0  0  0  0  0  0  0  0\\n   -1.9870   -6.2076   -2.7240 C   0  0  0  0  0  0  0  0  0  0  0  0\\n  1  2  1  0\\n  2  3  1  0\\n  2  4  1  0\\n  4  5  1  0\\n  4  6  1  0\\n  4  7  1  0\\n  2  8  1  0\\n  8  9  2  0\\n  9 10  1  0\\n 10 11  2  0\\n 11 12  1  0\\n 12 13  1  0\\n 13 14  1  0\\n 15 14  1  1\\n 15 16  1  0\\n 16 17  1  6\\n 17 18  1  0\\n 18 19  2  0\\n 19 20  1  0\\n 20 21  2  0\\n 21 22  1  0\\n 22 23  2  0\\n 21 24  1  0\\n 17 25  2  0\\n 17 26  2  0\\n 16 27  1  0\\n 27 28  1  0\\n 28 29  1  0\\n 29 30  1  0\\n 30 31  1  0\\n 31 32  1  0\\n 31 33  1  0\\n 33 34  1  0\\n 34 35  1  0\\n 35 36  1  0\\n 36 37  1  0\\n 36 38  2  0\\n 36 39  2  0\\n 35 40  1  0\\n 40 41  1  0\\n 30 42  2  0\\n 12 43  2  0\\n 43  8  1  0\\n 16 11  1  0\\n 29 15  1  0\\n 23 18  1  0\\n 41 31  1  0\\nM  END\\n\",\"mol0\");\n\tviewer_175187034290494.addModel(\"\\n     RDKit          3D\\n\\n 43 47  0  0  0  0  0  0  0  0999 V2000\\n    3.8532   -1.9690    0.5007 C   0  0  0  0  0  0  0  0  0  0  0  0\\n    3.5232   -0.8669   -0.5433 C   0  0  0  0  0  0  0  0  0  0  0  0\\n    2.1473   -1.1950   -1.1404 C   0  0  0  0  0  0  0  0  0  0  0  0\\n    1.1938   -0.3916   -0.9436 O   0  0  0  0  0  0  0  0  0  0  0  0\\n    1.9259   -2.4205   -1.8641 N   0  0  0  0  0  0  0  0  0  0  0  0\\n    3.0374   -3.2127   -2.3495 C   0  0  0  0  0  0  0  0  0  0  0  0\\n    2.4031   -4.3778   -3.0911 C   0  0  0  0  0  0  0  0  0  0  0  0\\n    0.9747   -3.9114   -3.4450 C   0  0  1  0  0  0  0  0  0  0  0  0\\n    0.9302   -3.0855   -5.0660 S   0  0  0  0  0  0  0  0  0  0  0  0\\n    1.4126   -4.0547   -6.1096 O   0  0  0  0  0  0  0  0  0  0  0  0\\n   -0.4844   -2.6995   -5.4038 O   0  0  0  0  0  0  0  0  0  0  0  0\\n    1.9562   -1.6495   -4.9755 C   0  0  0  0  0  0  0  0  0  0  0  0\\n    1.4330   -0.4217   -4.5391 C   0  0  0  0  0  0  0  0  0  0  0  0\\n    2.2472    0.7170   -4.5010 C   0  0  0  0  0  0  0  0  0  0  0  0\\n    3.5808    0.6367   -4.9048 C   0  0  0  0  0  0  0  0  0  0  0  0\\n    4.3651    1.7410   -4.8759 F   0  0  0  0  0  0  0  0  0  0  0  0\\n    4.1092   -0.5836   -5.3276 C   0  0  0  0  0  0  0  0  0  0  0  0\\n    3.3040   -1.7252   -5.3546 C   0  0  0  0  0  0  0  0  0  0  0  0\\n    0.0111   -5.1207   -3.4333 C   0  0  0  0  0  0  0  0  0  0  0  0\\n    0.2797   -6.2445   -4.2401 C   0  0  0  0  0  0  0  0  0  0  0  0\\n   -0.6132   -7.3116   -4.3244 C   0  0  0  0  0  0  0  0  0  0  0  0\\n   -1.7967   -7.3188   -3.5698 C   0  0  0  0  0  0  0  0  0  0  0  0\\n   -2.8175   -8.4466   -3.7129 C   0  0  1  0  0  0  0  0  0  0  0  0\\n   -2.2058   -9.8161   -3.3628 C   0  0  0  0  0  0  0  0  0  0  0  0\\n   -3.8629   -8.2421   -2.8221 F   0  0  0  0  0  0  0  0  0  0  0  0\\n   -3.4124   -8.4590   -5.1352 C   0  0  0  0  0  0  0  0  0  0  0  0\\n   -2.4146   -8.6946   -6.0634 F   0  0  0  0  0  0  0  0  0  0  0  0\\n   -4.3836   -9.4437   -5.2657 F   0  0  0  0  0  0  0  0  0  0  0  0\\n   -3.9839   -7.2259   -5.4055 F   0  0  0  0  0  0  0  0  0  0  0  0\\n   -2.0548   -6.2259   -2.7254 C   0  0  0  0  0  0  0  0  0  0  0  0\\n   -1.1689   -5.1372   -2.6490 C   0  0  0  0  0  0  0  0  0  0  0  0\\n   -1.4549   -4.0573   -1.6501 C   0  0  0  0  0  0  0  0  0  0  0  0\\n   -0.1718   -3.5171   -1.0496 C   0  0  0  0  0  0  0  0  0  0  0  0\\n    0.7530   -2.9201   -2.1198 C   0  0  1  0  0  0  0  0  0  0  0  0\\n    3.5518    0.5585    0.1091 C   0  0  0  0  0  0  0  0  0  0  0  0\\n    4.9203    0.9765    0.6884 C   0  0  0  0  0  0  0  0  0  0  0  0\\n    6.0274    0.4135   -0.0947 N   0  0  0  0  0  0  0  0  0  0  0  0\\n    7.5018    1.2997    0.2202 S   0  0  0  0  0  0  0  0  0  0  0  0\\n    7.7405    1.0145    1.9626 C   0  0  0  0  0  0  0  0  0  0  0  0\\n    7.3226    2.7548   -0.1222 O   0  0  0  0  0  0  0  0  0  0  0  0\\n    8.6250    0.7364   -0.6074 O   0  0  0  0  0  0  0  0  0  0  0  0\\n    5.7281    0.4231   -1.5479 C   0  0  0  0  0  0  0  0  0  0  0  0\\n    4.5770   -0.5300   -1.9568 C   0  0  0  0  0  0  0  0  0  0  0  0\\n  2  1  1  0\\n  2  3  1  0\\n  3  4  2  0\\n  3  5  1  0\\n  5  6  1  0\\n  6  7  1  0\\n  7  8  1  0\\n  8  9  1  6\\n  9 10  2  0\\n  9 11  2  0\\n  9 12  1  0\\n 12 13  2  0\\n 13 14  1  0\\n 14 15  2  0\\n 15 16  1  0\\n 15 17  1  0\\n 17 18  2  0\\n  8 19  1  0\\n 19 20  2  0\\n 20 21  1  0\\n 21 22  2  0\\n 22 23  1  0\\n 23 24  1  1\\n 23 25  1  0\\n 23 26  1  0\\n 26 27  1  0\\n 26 28  1  0\\n 26 29  1  0\\n 22 30  1  0\\n 30 31  2  0\\n 31 32  1  0\\n 32 33  1  0\\n 34 33  1  1\\n  2 35  1  0\\n 35 36  1  0\\n 36 37  1  0\\n 37 38  1  0\\n 38 39  1  0\\n 38 40  2  0\\n 38 41  2  0\\n 37 42  1  0\\n 42 43  1  0\\n 18 12  1  0\\n 31 19  1  0\\n  5 34  1  0\\n  8 34  1  0\\n  2 43  1  0\\nM  END\\n\",\"mol1\");\n\tviewer_175187034290494.setStyle({\"stick\": {}});\n\tviewer_175187034290494.zoomTo();\nviewer_175187034290494.render();\n});\n</script>",
      "text/html": [
       "<div id=\"3dmolviewer_175187034290494\"  style=\"position: relative; width: 300px; height: 300px;\">\n",
       "        <p id=\"3dmolwarning_175187034290494\" style=\"background-color:#ffcccc;color:black\">3Dmol.js failed to load for some reason.  Please check your browser console for error messages.<br></p>\n",
       "        </div>\n",
       "<script>\n",
       "\n",
       "var loadScriptAsync = function(uri){\n",
       "  return new Promise((resolve, reject) => {\n",
       "    //this is to ignore the existence of requirejs amd\n",
       "    var savedexports, savedmodule;\n",
       "    if (typeof exports !== 'undefined') savedexports = exports;\n",
       "    else exports = {}\n",
       "    if (typeof module !== 'undefined') savedmodule = module;\n",
       "    else module = {}\n",
       "\n",
       "    var tag = document.createElement('script');\n",
       "    tag.src = uri;\n",
       "    tag.async = true;\n",
       "    tag.onload = () => {\n",
       "        exports = savedexports;\n",
       "        module = savedmodule;\n",
       "        resolve();\n",
       "    };\n",
       "  var firstScriptTag = document.getElementsByTagName('script')[0];\n",
       "  firstScriptTag.parentNode.insertBefore(tag, firstScriptTag);\n",
       "});\n",
       "};\n",
       "\n",
       "if(typeof $3Dmolpromise === 'undefined') {\n",
       "$3Dmolpromise = null;\n",
       "  $3Dmolpromise = loadScriptAsync('https://cdn.jsdelivr.net/npm/3dmol@2.5.1/build/3Dmol-min.js');\n",
       "}\n",
       "\n",
       "var viewer_175187034290494 = null;\n",
       "var warn = document.getElementById(\"3dmolwarning_175187034290494\");\n",
       "if(warn) {\n",
       "    warn.parentNode.removeChild(warn);\n",
       "}\n",
       "$3Dmolpromise.then(function() {\n",
       "viewer_175187034290494 = $3Dmol.createViewer(document.getElementById(\"3dmolviewer_175187034290494\"),{backgroundColor:\"white\"});\n",
       "viewer_175187034290494.zoomTo();\n",
       "\tviewer_175187034290494.addModel(\"\\n     RDKit          3D\\n\\n 43 47  0  0  0  0  0  0  0  0999 V2000\\n   -2.1821   -9.7406   -3.4005 C   0  0  0  0  0  0  0  0  0  0  0  0\\n   -2.8481   -8.3902   -3.6852 C   0  0  0  0  0  0  0  0  0  0  0  0\\n   -3.7927   -8.2341   -2.6912 F   0  0  0  0  0  0  0  0  0  0  0  0\\n   -3.5907   -8.4375   -5.0349 C   0  0  0  0  0  0  0  0  0  0  0  0\\n   -4.5240   -9.4231   -5.0458 F   0  0  0  0  0  0  0  0  0  0  0  0\\n   -4.2329   -7.2794   -5.3109 F   0  0  0  0  0  0  0  0  0  0  0  0\\n   -2.7515   -8.6940   -6.0692 F   0  0  0  0  0  0  0  0  0  0  0  0\\n   -1.8178   -7.2623   -3.6321 C   0  0  0  0  0  0  0  0  0  0  0  0\\n   -0.6925   -7.2390   -4.4631 C   0  0  0  0  0  0  0  0  0  0  0  0\\n    0.2236   -6.1853   -4.3968 C   0  0  0  0  0  0  0  0  0  0  0  0\\n    0.0447   -5.1100   -3.5069 C   0  0  0  0  0  0  0  0  0  0  0  0\\n   -1.0620   -5.1523   -2.6398 C   0  0  0  0  0  0  0  0  0  0  0  0\\n   -1.2893   -4.0716   -1.6177 C   0  0  0  0  0  0  0  0  0  0  0  0\\n    0.0429   -3.5224   -1.1364 C   0  0  0  0  0  0  0  0  0  0  0  0\\n    0.8164   -2.9284   -2.3197 C   0  0  2  0  0  0  0  0  0  0  0  0\\n    1.0447   -3.9409   -3.4642 C   0  0  2  0  0  0  0  0  0  0  0  0\\n    0.8917   -3.0875   -5.0772 S   0  0  0  0  0  0  0  0  0  0  0  0\\n    1.9661   -1.6549   -5.0622 C   0  0  0  0  0  0  0  0  0  0  0  0\\n    1.4860   -0.4267   -4.5906 C   0  0  0  0  0  0  0  0  0  0  0  0\\n    2.3119    0.6978   -4.6297 C   0  0  0  0  0  0  0  0  0  0  0  0\\n    3.5894    0.5945   -5.1697 C   0  0  0  0  0  0  0  0  0  0  0  0\\n    4.0573   -0.6116   -5.6823 C   0  0  0  0  0  0  0  0  0  0  0  0\\n    3.2402   -1.7425   -5.6404 C   0  0  0  0  0  0  0  0  0  0  0  0\\n    4.3824    1.6727   -5.1977 F   0  0  0  0  0  0  0  0  0  0  0  0\\n    1.4339   -3.9469   -6.1183 O   0  0  0  0  0  0  0  0  0  0  0  0\\n   -0.4563   -2.5629   -5.2093 O   0  0  0  0  0  0  0  0  0  0  0  0\\n    2.4642   -4.4673   -3.1845 C   0  0  0  0  0  0  0  0  0  0  0  0\\n    3.1899   -3.3497   -2.4513 C   0  0  0  0  0  0  0  0  0  0  0  0\\n    2.1568   -2.5044   -1.8773 N   0  0  0  0  0  0  0  0  0  0  0  0\\n    2.2973   -1.3358   -1.1459 C   0  0  0  0  0  0  0  0  0  0  0  0\\n    3.6551   -0.9442   -0.5063 C   0  0  0  0  0  0  0  0  0  0  0  0\\n    3.9868   -1.9720    0.5960 C   0  0  0  0  0  0  0  0  0  0  0  0\\n    3.4830    0.4471    0.1675 C   0  0  0  0  0  0  0  0  0  0  0  0\\n    4.7632    0.9897    0.8061 C   0  0  0  0  0  0  0  0  0  0  0  0\\n    5.9752    0.5873    0.0406 N   0  0  0  0  0  0  0  0  0  0  0  0\\n    7.3813    1.5065    0.3402 S   0  0  0  0  0  0  0  0  0  0  0  0\\n    7.6733    1.1900    2.0687 C   0  0  0  0  0  0  0  0  0  0  0  0\\n    8.4648    0.9036   -0.4068 O   0  0  0  0  0  0  0  0  0  0  0  0\\n    7.0407    2.9020    0.1708 O   0  0  0  0  0  0  0  0  0  0  0  0\\n    5.6848    0.3905   -1.3970 C   0  0  0  0  0  0  0  0  0  0  0  0\\n    4.7851   -0.8377   -1.5558 C   0  0  0  0  0  0  0  0  0  0  0  0\\n    1.3042   -0.6232   -0.9609 O   0  0  0  0  0  0  0  0  0  0  0  0\\n   -1.9870   -6.2076   -2.7240 C   0  0  0  0  0  0  0  0  0  0  0  0\\n  1  2  1  0\\n  2  3  1  0\\n  2  4  1  0\\n  4  5  1  0\\n  4  6  1  0\\n  4  7  1  0\\n  2  8  1  0\\n  8  9  2  0\\n  9 10  1  0\\n 10 11  2  0\\n 11 12  1  0\\n 12 13  1  0\\n 13 14  1  0\\n 15 14  1  1\\n 15 16  1  0\\n 16 17  1  6\\n 17 18  1  0\\n 18 19  2  0\\n 19 20  1  0\\n 20 21  2  0\\n 21 22  1  0\\n 22 23  2  0\\n 21 24  1  0\\n 17 25  2  0\\n 17 26  2  0\\n 16 27  1  0\\n 27 28  1  0\\n 28 29  1  0\\n 29 30  1  0\\n 30 31  1  0\\n 31 32  1  0\\n 31 33  1  0\\n 33 34  1  0\\n 34 35  1  0\\n 35 36  1  0\\n 36 37  1  0\\n 36 38  2  0\\n 36 39  2  0\\n 35 40  1  0\\n 40 41  1  0\\n 30 42  2  0\\n 12 43  2  0\\n 43  8  1  0\\n 16 11  1  0\\n 29 15  1  0\\n 23 18  1  0\\n 41 31  1  0\\nM  END\\n\",\"mol0\");\n",
       "\tviewer_175187034290494.addModel(\"\\n     RDKit          3D\\n\\n 43 47  0  0  0  0  0  0  0  0999 V2000\\n    3.8532   -1.9690    0.5007 C   0  0  0  0  0  0  0  0  0  0  0  0\\n    3.5232   -0.8669   -0.5433 C   0  0  0  0  0  0  0  0  0  0  0  0\\n    2.1473   -1.1950   -1.1404 C   0  0  0  0  0  0  0  0  0  0  0  0\\n    1.1938   -0.3916   -0.9436 O   0  0  0  0  0  0  0  0  0  0  0  0\\n    1.9259   -2.4205   -1.8641 N   0  0  0  0  0  0  0  0  0  0  0  0\\n    3.0374   -3.2127   -2.3495 C   0  0  0  0  0  0  0  0  0  0  0  0\\n    2.4031   -4.3778   -3.0911 C   0  0  0  0  0  0  0  0  0  0  0  0\\n    0.9747   -3.9114   -3.4450 C   0  0  1  0  0  0  0  0  0  0  0  0\\n    0.9302   -3.0855   -5.0660 S   0  0  0  0  0  0  0  0  0  0  0  0\\n    1.4126   -4.0547   -6.1096 O   0  0  0  0  0  0  0  0  0  0  0  0\\n   -0.4844   -2.6995   -5.4038 O   0  0  0  0  0  0  0  0  0  0  0  0\\n    1.9562   -1.6495   -4.9755 C   0  0  0  0  0  0  0  0  0  0  0  0\\n    1.4330   -0.4217   -4.5391 C   0  0  0  0  0  0  0  0  0  0  0  0\\n    2.2472    0.7170   -4.5010 C   0  0  0  0  0  0  0  0  0  0  0  0\\n    3.5808    0.6367   -4.9048 C   0  0  0  0  0  0  0  0  0  0  0  0\\n    4.3651    1.7410   -4.8759 F   0  0  0  0  0  0  0  0  0  0  0  0\\n    4.1092   -0.5836   -5.3276 C   0  0  0  0  0  0  0  0  0  0  0  0\\n    3.3040   -1.7252   -5.3546 C   0  0  0  0  0  0  0  0  0  0  0  0\\n    0.0111   -5.1207   -3.4333 C   0  0  0  0  0  0  0  0  0  0  0  0\\n    0.2797   -6.2445   -4.2401 C   0  0  0  0  0  0  0  0  0  0  0  0\\n   -0.6132   -7.3116   -4.3244 C   0  0  0  0  0  0  0  0  0  0  0  0\\n   -1.7967   -7.3188   -3.5698 C   0  0  0  0  0  0  0  0  0  0  0  0\\n   -2.8175   -8.4466   -3.7129 C   0  0  1  0  0  0  0  0  0  0  0  0\\n   -2.2058   -9.8161   -3.3628 C   0  0  0  0  0  0  0  0  0  0  0  0\\n   -3.8629   -8.2421   -2.8221 F   0  0  0  0  0  0  0  0  0  0  0  0\\n   -3.4124   -8.4590   -5.1352 C   0  0  0  0  0  0  0  0  0  0  0  0\\n   -2.4146   -8.6946   -6.0634 F   0  0  0  0  0  0  0  0  0  0  0  0\\n   -4.3836   -9.4437   -5.2657 F   0  0  0  0  0  0  0  0  0  0  0  0\\n   -3.9839   -7.2259   -5.4055 F   0  0  0  0  0  0  0  0  0  0  0  0\\n   -2.0548   -6.2259   -2.7254 C   0  0  0  0  0  0  0  0  0  0  0  0\\n   -1.1689   -5.1372   -2.6490 C   0  0  0  0  0  0  0  0  0  0  0  0\\n   -1.4549   -4.0573   -1.6501 C   0  0  0  0  0  0  0  0  0  0  0  0\\n   -0.1718   -3.5171   -1.0496 C   0  0  0  0  0  0  0  0  0  0  0  0\\n    0.7530   -2.9201   -2.1198 C   0  0  1  0  0  0  0  0  0  0  0  0\\n    3.5518    0.5585    0.1091 C   0  0  0  0  0  0  0  0  0  0  0  0\\n    4.9203    0.9765    0.6884 C   0  0  0  0  0  0  0  0  0  0  0  0\\n    6.0274    0.4135   -0.0947 N   0  0  0  0  0  0  0  0  0  0  0  0\\n    7.5018    1.2997    0.2202 S   0  0  0  0  0  0  0  0  0  0  0  0\\n    7.7405    1.0145    1.9626 C   0  0  0  0  0  0  0  0  0  0  0  0\\n    7.3226    2.7548   -0.1222 O   0  0  0  0  0  0  0  0  0  0  0  0\\n    8.6250    0.7364   -0.6074 O   0  0  0  0  0  0  0  0  0  0  0  0\\n    5.7281    0.4231   -1.5479 C   0  0  0  0  0  0  0  0  0  0  0  0\\n    4.5770   -0.5300   -1.9568 C   0  0  0  0  0  0  0  0  0  0  0  0\\n  2  1  1  0\\n  2  3  1  0\\n  3  4  2  0\\n  3  5  1  0\\n  5  6  1  0\\n  6  7  1  0\\n  7  8  1  0\\n  8  9  1  6\\n  9 10  2  0\\n  9 11  2  0\\n  9 12  1  0\\n 12 13  2  0\\n 13 14  1  0\\n 14 15  2  0\\n 15 16  1  0\\n 15 17  1  0\\n 17 18  2  0\\n  8 19  1  0\\n 19 20  2  0\\n 20 21  1  0\\n 21 22  2  0\\n 22 23  1  0\\n 23 24  1  1\\n 23 25  1  0\\n 23 26  1  0\\n 26 27  1  0\\n 26 28  1  0\\n 26 29  1  0\\n 22 30  1  0\\n 30 31  2  0\\n 31 32  1  0\\n 32 33  1  0\\n 34 33  1  1\\n  2 35  1  0\\n 35 36  1  0\\n 36 37  1  0\\n 37 38  1  0\\n 38 39  1  0\\n 38 40  2  0\\n 38 41  2  0\\n 37 42  1  0\\n 42 43  1  0\\n 18 12  1  0\\n 31 19  1  0\\n  5 34  1  0\\n  8 34  1  0\\n  2 43  1  0\\nM  END\\n\",\"mol1\");\n",
       "\tviewer_175187034290494.setStyle({\"stick\": {}});\n",
       "\tviewer_175187034290494.zoomTo();\n",
       "viewer_175187034290494.render();\n",
       "});\n",
       "</script>"
      ]
     },
     "metadata": {},
     "output_type": "display_data"
    },
    {
     "data": {
      "text/plain": [
       "<py3Dmol.view at 0x7f76e9582cd0>"
      ]
     },
     "execution_count": 12,
     "metadata": {},
     "output_type": "execute_result"
    }
   ],
   "source": [
    "MolTo3DView([mol, mol_recon])"
   ]
  }
 ],
 "metadata": {
  "kernelspec": {
   "display_name": "confseq",
   "language": "python",
   "name": "python3"
  },
  "language_info": {
   "codemirror_mode": {
    "name": "ipython",
    "version": 3
   },
   "file_extension": ".py",
   "mimetype": "text/x-python",
   "name": "python",
   "nbconvert_exporter": "python",
   "pygments_lexer": "ipython3",
   "version": "3.11.0"
  }
 },
 "nbformat": 4,
 "nbformat_minor": 5
}
