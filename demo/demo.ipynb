{
 "cells": [
  {
   "cell_type": "markdown",
   "id": "ec7e3f30",
   "metadata": {},
   "source": [
    "## Demo of ConfSeq"
   ]
  },
  {
   "cell_type": "markdown",
   "id": "98523ce0",
   "metadata": {},
   "source": [
    "This is a notebook on how to use convert a 3D molecule into a ConfSeq sequence and vise versa."
   ]
  },
  {
   "cell_type": "markdown",
   "id": "92e39c5a",
   "metadata": {},
   "source": [
    "### Import nessessary libraries"
   ]
  },
  {
   "cell_type": "code",
   "execution_count": 1,
   "id": "3e63ff8c",
   "metadata": {},
   "outputs": [],
   "source": [
    "from rdkit import Chem\n",
    "from rdkit.Chem.rdDistGeom import EmbedMolecule\n",
    "from rdkit.Chem.rdForceFieldHelpers import MMFFOptimizeMolecule\n",
    "from rdkit.Chem.rdMolAlign import GetBestRMS\n",
    "from rdkit.Chem.Draw import IPythonConsole\n",
    "IPythonConsole.ipython_3d = True\n",
    "\n",
    "import py3Dmol\n",
    "import random\n",
    "from tqdm import tqdm\n",
    "from tqdm.contrib.concurrent import process_map\n",
    "from ConfSeq import (run_aug_mol_get_ConfSeq_pair_0, \n",
    "                     run_aug_mol_get_ConfSeq_pair_1, \n",
    "                     run_aug_mol_get_ConfSeq_pair_2, \n",
    "                     random_adjust_numbers,\n",
    "                     replace_angle_brackets_with_line,\n",
    "                     get_mol_from_ConfSeq_pair,\n",
    "                     remove_degree_in_molblock)"
   ]
  },
  {
   "cell_type": "markdown",
   "id": "bb76f5cd",
   "metadata": {},
   "source": [
    "visualize function"
   ]
  },
  {
   "cell_type": "code",
   "execution_count": 2,
   "id": "21664933",
   "metadata": {},
   "outputs": [],
   "source": [
    "def MolTo3DView(mol, size=(300, 300), style=\"stick\", surface=False, opacity=0.5):\n",
    "    \"\"\"Draw molecule in 3D\n",
    "\n",
    "    Args:\n",
    "    ----\n",
    "        mol: rdMol, molecule to show\n",
    "        size: tuple(int, int), canvas size\n",
    "        style: str, type of drawing molecule\n",
    "               style can be 'line', 'stick', 'sphere', 'carton'\n",
    "        surface, bool, display SAS\n",
    "        opacity, float, opacity of surface, range 0.0-1.0\n",
    "    Return:\n",
    "    ----\n",
    "        viewer: py3Dmol.view, a class for constructing embedded 3Dmol.js views in ipython notebooks.\n",
    "    \"\"\"\n",
    "    assert style in ('line', 'stick', 'sphere', 'carton')\n",
    "\n",
    "    viewer = py3Dmol.view(width=size[0], height=size[1])\n",
    "    if isinstance(mol, list):\n",
    "        for i, m in enumerate(mol):\n",
    "            mblock = Chem.MolToMolBlock(m)\n",
    "            viewer.addModel(mblock, 'mol' + str(i))\n",
    "    elif len(mol.GetConformers()) > 1:\n",
    "        for i in range(len(mol.GetConformers())):\n",
    "            mblock = Chem.MolToMolBlock(mol, confId=i)\n",
    "            viewer.addModel(mblock, 'mol' + str(i))\n",
    "    else:\n",
    "        mblock = Chem.MolToMolBlock(mol)\n",
    "        viewer.addModel(mblock, 'mol')\n",
    "    viewer.setStyle({style: {}})\n",
    "    if surface:\n",
    "        viewer.addSurface(py3Dmol.SAS, {'opacity': opacity})\n",
    "    viewer.zoomTo()\n",
    "    return viewer"
   ]
  },
  {
   "cell_type": "markdown",
   "id": "7910b758",
   "metadata": {},
   "source": [
    "### Embed a molecule for demostration"
   ]
  },
  {
   "cell_type": "code",
   "execution_count": 3,
   "id": "b81bedc1",
   "metadata": {},
   "outputs": [
    {
     "data": {
      "image/png": "[encoded data removed]",
      "text/plain": [
       "<rdkit.Chem.rdchem.Mol at 0x7f9ef0c69540>"
      ]
     },
     "execution_count": 3,
     "metadata": {},
     "output_type": "execute_result"
    }
   ],
   "source": [
    "smiles = 'CC(F)(C(F)(F)F)C1=CC=C2C(CC[C@]3([H])[C@@]2(S(C4=CC=C(C=C4)F)(=O)=O)CCN3C(C5(C)CCN(S(C)(=O)=O)CC5)=O)=C1'\n",
    "mol = Chem.MolFromSmiles(smiles)\n",
    "mol"
   ]
  },
  {
   "cell_type": "code",
   "execution_count": 4,
   "id": "1906d43f",
   "metadata": {},
   "outputs": [
    {
     "data": {
      "application/3dmoljs_load.v0": "<div id=\"3dmolviewer_17528232415685809\"  style=\"position: relative; width: 300px; height: 300px;\">\n        <p id=\"3dmolwarning_17528232415685809\" style=\"background-color:#ffcccc;color:black\">3Dmol.js failed to load for some reason.  Please check your browser console for error messages.<br></p>\n        </div>\n<script>\n\nvar loadScriptAsync = function(uri){\n  return new Promise((resolve, reject) => {\n    //this is to ignore the existence of requirejs amd\n    var savedexports, savedmodule;\n    if (typeof exports !== 'undefined') savedexports = exports;\n    else exports = {}\n    if (typeof module !== 'undefined') savedmodule = module;\n    else module = {}\n\n    var tag = document.createElement('script');\n    tag.src = uri;\n    tag.async = true;\n    tag.onload = () => {\n        exports = savedexports;\n        module = savedmodule;\n        resolve();\n    };\n  var firstScriptTag = document.getElementsByTagName('script')[0];\n  firstScriptTag.parentNode.insertBefore(tag, firstScriptTag);\n});\n};\n\nif(typeof $3Dmolpromise === 'undefined') {\n$3Dmolpromise = null;\n  $3Dmolpromise = loadScriptAsync('https://cdn.jsdelivr.net/npm/3dmol@2.5.1/build/3Dmol-min.js');\n}\n\nvar viewer_17528232415685809 = null;\nvar warn = document.getElementById(\"3dmolwarning_17528232415685809\");\nif(warn) {\n    warn.parentNode.removeChild(warn);\n}\n$3Dmolpromise.then(function() {\nviewer_17528232415685809 = $3Dmol.createViewer(document.getElementById(\"3dmolviewer_17528232415685809\"),{backgroundColor:\"white\"});\nviewer_17528232415685809.zoomTo();\n\tviewer_17528232415685809.addModel(\"\\n     RDKit          3D\\n\\n 43 47  0  0  0  0  0  0  0  0999 V2000\\n   -6.7016   -4.6062    0.4444 C   0  0  0  0  0  0  0  0  0  0  0  0\\n   -6.6089   -3.3141    1.2629 C   0  0  0  0  0  0  0  0  0  0  0  0\\n   -6.5172   -3.7227    2.5780 F   0  0  0  0  0  0  0  0  0  0  0  0\\n   -7.9070   -2.4965    1.1151 C   0  0  0  0  0  0  0  0  0  0  0  0\\n   -8.9870   -3.2169    1.5117 F   0  0  0  0  0  0  0  0  0  0  0  0\\n   -7.8908   -1.3647    1.8559 F   0  0  0  0  0  0  0  0  0  0  0  0\\n   -8.1387   -2.1371   -0.1720 F   0  0  0  0  0  0  0  0  0  0  0  0\\n   -5.3719   -2.5115    0.8601 C   0  0  0  0  0  0  0  0  0  0  0  0\\n   -5.1632   -2.0688   -0.4506 C   0  0  0  0  0  0  0  0  0  0  0  0\\n   -4.0264   -1.3260   -0.7819 C   0  0  0  0  0  0  0  0  0  0  0  0\\n   -3.0613   -0.9878    0.1848 C   0  0  0  0  0  0  0  0  0  0  0  0\\n   -3.2462   -1.4684    1.4936 C   0  0  0  0  0  0  0  0  0  0  0  0\\n   -2.2287   -1.2018    2.5697 C   0  0  0  0  0  0  0  0  0  0  0  0\\n   -0.8366   -1.1373    1.9649 C   0  0  0  0  0  0  0  0  0  0  0  0\\n   -0.7722   -0.0050    0.9326 C   0  0  2  0  0  0  0  0  0  0  0  0\\n   -1.8287   -0.1441   -0.1862 C   0  0  2  0  0  0  0  0  0  0  0  0\\n   -2.4679    1.5122   -0.6350 S   0  0  0  0  0  0  0  0  0  0  0  0\\n   -1.0737    2.5780   -0.9913 C   0  0  0  0  0  0  0  0  0  0  0  0\\n   -0.4709    3.3082    0.0407 C   0  0  0  0  0  0  0  0  0  0  0  0\\n    0.5820    4.1763   -0.2522 C   0  0  0  0  0  0  0  0  0  0  0  0\\n    0.9971    4.3341   -1.5702 C   0  0  0  0  0  0  0  0  0  0  0  0\\n    0.3731    3.6469   -2.6070 C   0  0  0  0  0  0  0  0  0  0  0  0\\n   -0.6759    2.7714   -2.3216 C   0  0  0  0  0  0  0  0  0  0  0  0\\n    2.0129    5.1607   -1.8470 F   0  0  0  0  0  0  0  0  0  0  0  0\\n   -3.1904    1.4133   -1.8937 O   0  0  0  0  0  0  0  0  0  0  0  0\\n   -3.1205    2.0976    0.5231 O   0  0  0  0  0  0  0  0  0  0  0  0\\n   -1.0436   -0.8238   -1.3229 C   0  0  0  0  0  0  0  0  0  0  0  0\\n    0.4093   -0.4166   -1.1320 C   0  0  0  0  0  0  0  0  0  0  0  0\\n    0.5387   -0.0178    0.2592 N   0  0  0  0  0  0  0  0  0  0  0  0\\n    1.6531    0.4691    0.9234 C   0  0  0  0  0  0  0  0  0  0  0  0\\n    3.0774    0.3115    0.3298 C   0  0  0  0  0  0  0  0  0  0  0  0\\n    3.4321   -1.1902    0.3113 C   0  0  0  0  0  0  0  0  0  0  0  0\\n    4.0750    1.0310    1.2819 C   0  0  0  0  0  0  0  0  0  0  0  0\\n    5.5263    0.9997    0.7985 C   0  0  0  0  0  0  0  0  0  0  0  0\\n    5.6147    1.0576   -0.6867 N   0  0  0  0  0  0  0  0  0  0  0  0\\n    7.1287    1.5216   -1.3224 S   0  0  0  0  0  0  0  0  0  0  0  0\\n    8.1932    0.2161   -0.7432 C   0  0  0  0  0  0  0  0  0  0  0  0\\n    7.0480    1.4167   -2.7638 O   0  0  0  0  0  0  0  0  0  0  0  0\\n    7.5154    2.7597   -0.6823 O   0  0  0  0  0  0  0  0  0  0  0  0\\n    4.4690    1.7790   -1.2840 C   0  0  0  0  0  0  0  0  0  0  0  0\\n    3.1990    0.9512   -1.0722 C   0  0  0  0  0  0  0  0  0  0  0  0\\n    1.5061    0.9920    2.0340 O   0  0  0  0  0  0  0  0  0  0  0  0\\n   -4.4002   -2.2012    1.8220 C   0  0  0  0  0  0  0  0  0  0  0  0\\n  1  2  1  0\\n  2  3  1  0\\n  2  4  1  0\\n  4  5  1  0\\n  4  6  1  0\\n  4  7  1  0\\n  2  8  1  0\\n  8  9  2  0\\n  9 10  1  0\\n 10 11  2  0\\n 11 12  1  0\\n 12 13  1  0\\n 13 14  1  0\\n 15 14  1  1\\n 15 16  1  0\\n 16 17  1  6\\n 17 18  1  0\\n 18 19  2  0\\n 19 20  1  0\\n 20 21  2  0\\n 21 22  1  0\\n 22 23  2  0\\n 21 24  1  0\\n 17 25  2  0\\n 17 26  2  0\\n 16 27  1  0\\n 27 28  1  0\\n 28 29  1  0\\n 29 30  1  0\\n 30 31  1  0\\n 31 32  1  0\\n 31 33  1  0\\n 33 34  1  0\\n 34 35  1  0\\n 35 36  1  0\\n 36 37  1  0\\n 36 38  2  0\\n 36 39  2  0\\n 35 40  1  0\\n 40 41  1  0\\n 30 42  2  0\\n 12 43  2  0\\n 43  8  1  0\\n 16 11  1  0\\n 29 15  1  0\\n 23 18  1  0\\n 41 31  1  0\\nM  END\\n\",\"mol\");\n\tviewer_17528232415685809.setStyle({\"stick\": {}});\n\tviewer_17528232415685809.zoomTo();\nviewer_17528232415685809.render();\n});\n</script>",
      "text/html": [
       "<div id=\"3dmolviewer_17528232415685809\"  style=\"position: relative; width: 300px; height: 300px;\">\n",
       "        <p id=\"3dmolwarning_17528232415685809\" style=\"background-color:#ffcccc;color:black\">3Dmol.js failed to load for some reason.  Please check your browser console for error messages.<br></p>\n",
       "        </div>\n",
       "<script>\n",
       "\n",
       "var loadScriptAsync = function(uri){\n",
       "  return new Promise((resolve, reject) => {\n",
       "    //this is to ignore the existence of requirejs amd\n",
       "    var savedexports, savedmodule;\n",
       "    if (typeof exports !== 'undefined') savedexports = exports;\n",
       "    else exports = {}\n",
       "    if (typeof module !== 'undefined') savedmodule = module;\n",
       "    else module = {}\n",
       "\n",
       "    var tag = document.createElement('script');\n",
       "    tag.src = uri;\n",
       "    tag.async = true;\n",
       "    tag.onload = () => {\n",
       "        exports = savedexports;\n",
       "        module = savedmodule;\n",
       "        resolve();\n",
       "    };\n",
       "  var firstScriptTag = document.getElementsByTagName('script')[0];\n",
       "  firstScriptTag.parentNode.insertBefore(tag, firstScriptTag);\n",
       "});\n",
       "};\n",
       "\n",
       "if(typeof $3Dmolpromise === 'undefined') {\n",
       "$3Dmolpromise = null;\n",
       "  $3Dmolpromise = loadScriptAsync('https://cdn.jsdelivr.net/npm/3dmol@2.5.1/build/3Dmol-min.js');\n",
       "}\n",
       "\n",
       "var viewer_17528232415685809 = null;\n",
       "var warn = document.getElementById(\"3dmolwarning_17528232415685809\");\n",
       "if(warn) {\n",
       "    warn.parentNode.removeChild(warn);\n",
       "}\n",
       "$3Dmolpromise.then(function() {\n",
       "viewer_17528232415685809 = $3Dmol.createViewer(document.getElementById(\"3dmolviewer_17528232415685809\"),{backgroundColor:\"white\"});\n",
       "viewer_17528232415685809.zoomTo();\n",
       "\tviewer_17528232415685809.addModel(\"\\n     RDKit          3D\\n\\n 43 47  0  0  0  0  0  0  0  0999 V2000\\n   -6.7016   -4.6062    0.4444 C   0  0  0  0  0  0  0  0  0  0  0  0\\n   -6.6089   -3.3141    1.2629 C   0  0  0  0  0  0  0  0  0  0  0  0\\n   -6.5172   -3.7227    2.5780 F   0  0  0  0  0  0  0  0  0  0  0  0\\n   -7.9070   -2.4965    1.1151 C   0  0  0  0  0  0  0  0  0  0  0  0\\n   -8.9870   -3.2169    1.5117 F   0  0  0  0  0  0  0  0  0  0  0  0\\n   -7.8908   -1.3647    1.8559 F   0  0  0  0  0  0  0  0  0  0  0  0\\n   -8.1387   -2.1371   -0.1720 F   0  0  0  0  0  0  0  0  0  0  0  0\\n   -5.3719   -2.5115    0.8601 C   0  0  0  0  0  0  0  0  0  0  0  0\\n   -5.1632   -2.0688   -0.4506 C   0  0  0  0  0  0  0  0  0  0  0  0\\n   -4.0264   -1.3260   -0.7819 C   0  0  0  0  0  0  0  0  0  0  0  0\\n   -3.0613   -0.9878    0.1848 C   0  0  0  0  0  0  0  0  0  0  0  0\\n   -3.2462   -1.4684    1.4936 C   0  0  0  0  0  0  0  0  0  0  0  0\\n   -2.2287   -1.2018    2.5697 C   0  0  0  0  0  0  0  0  0  0  0  0\\n   -0.8366   -1.1373    1.9649 C   0  0  0  0  0  0  0  0  0  0  0  0\\n   -0.7722   -0.0050    0.9326 C   0  0  2  0  0  0  0  0  0  0  0  0\\n   -1.8287   -0.1441   -0.1862 C   0  0  2  0  0  0  0  0  0  0  0  0\\n   -2.4679    1.5122   -0.6350 S   0  0  0  0  0  0  0  0  0  0  0  0\\n   -1.0737    2.5780   -0.9913 C   0  0  0  0  0  0  0  0  0  0  0  0\\n   -0.4709    3.3082    0.0407 C   0  0  0  0  0  0  0  0  0  0  0  0\\n    0.5820    4.1763   -0.2522 C   0  0  0  0  0  0  0  0  0  0  0  0\\n    0.9971    4.3341   -1.5702 C   0  0  0  0  0  0  0  0  0  0  0  0\\n    0.3731    3.6469   -2.6070 C   0  0  0  0  0  0  0  0  0  0  0  0\\n   -0.6759    2.7714   -2.3216 C   0  0  0  0  0  0  0  0  0  0  0  0\\n    2.0129    5.1607   -1.8470 F   0  0  0  0  0  0  0  0  0  0  0  0\\n   -3.1904    1.4133   -1.8937 O   0  0  0  0  0  0  0  0  0  0  0  0\\n   -3.1205    2.0976    0.5231 O   0  0  0  0  0  0  0  0  0  0  0  0\\n   -1.0436   -0.8238   -1.3229 C   0  0  0  0  0  0  0  0  0  0  0  0\\n    0.4093   -0.4166   -1.1320 C   0  0  0  0  0  0  0  0  0  0  0  0\\n    0.5387   -0.0178    0.2592 N   0  0  0  0  0  0  0  0  0  0  0  0\\n    1.6531    0.4691    0.9234 C   0  0  0  0  0  0  0  0  0  0  0  0\\n    3.0774    0.3115    0.3298 C   0  0  0  0  0  0  0  0  0  0  0  0\\n    3.4321   -1.1902    0.3113 C   0  0  0  0  0  0  0  0  0  0  0  0\\n    4.0750    1.0310    1.2819 C   0  0  0  0  0  0  0  0  0  0  0  0\\n    5.5263    0.9997    0.7985 C   0  0  0  0  0  0  0  0  0  0  0  0\\n    5.6147    1.0576   -0.6867 N   0  0  0  0  0  0  0  0  0  0  0  0\\n    7.1287    1.5216   -1.3224 S   0  0  0  0  0  0  0  0  0  0  0  0\\n    8.1932    0.2161   -0.7432 C   0  0  0  0  0  0  0  0  0  0  0  0\\n    7.0480    1.4167   -2.7638 O   0  0  0  0  0  0  0  0  0  0  0  0\\n    7.5154    2.7597   -0.6823 O   0  0  0  0  0  0  0  0  0  0  0  0\\n    4.4690    1.7790   -1.2840 C   0  0  0  0  0  0  0  0  0  0  0  0\\n    3.1990    0.9512   -1.0722 C   0  0  0  0  0  0  0  0  0  0  0  0\\n    1.5061    0.9920    2.0340 O   0  0  0  0  0  0  0  0  0  0  0  0\\n   -4.4002   -2.2012    1.8220 C   0  0  0  0  0  0  0  0  0  0  0  0\\n  1  2  1  0\\n  2  3  1  0\\n  2  4  1  0\\n  4  5  1  0\\n  4  6  1  0\\n  4  7  1  0\\n  2  8  1  0\\n  8  9  2  0\\n  9 10  1  0\\n 10 11  2  0\\n 11 12  1  0\\n 12 13  1  0\\n 13 14  1  0\\n 15 14  1  1\\n 15 16  1  0\\n 16 17  1  6\\n 17 18  1  0\\n 18 19  2  0\\n 19 20  1  0\\n 20 21  2  0\\n 21 22  1  0\\n 22 23  2  0\\n 21 24  1  0\\n 17 25  2  0\\n 17 26  2  0\\n 16 27  1  0\\n 27 28  1  0\\n 28 29  1  0\\n 29 30  1  0\\n 30 31  1  0\\n 31 32  1  0\\n 31 33  1  0\\n 33 34  1  0\\n 34 35  1  0\\n 35 36  1  0\\n 36 37  1  0\\n 36 38  2  0\\n 36 39  2  0\\n 35 40  1  0\\n 40 41  1  0\\n 30 42  2  0\\n 12 43  2  0\\n 43  8  1  0\\n 16 11  1  0\\n 29 15  1  0\\n 23 18  1  0\\n 41 31  1  0\\nM  END\\n\",\"mol\");\n",
       "\tviewer_17528232415685809.setStyle({\"stick\": {}});\n",
       "\tviewer_17528232415685809.zoomTo();\n",
       "viewer_17528232415685809.render();\n",
       "});\n",
       "</script>"
      ]
     },
     "metadata": {},
     "output_type": "display_data"
    },
    {
     "data": {
      "text/plain": [
       "<py3Dmol.view at 0x7f9ef0debd50>"
      ]
     },
     "execution_count": 4,
     "metadata": {},
     "output_type": "execute_result"
    }
   ],
   "source": [
    "mol_with_h = Chem.AddHs(mol)\n",
    "EmbedMolecule(mol_with_h, randomSeed=42)\n",
    "MMFFOptimizeMolecule(mol_with_h, maxIters=500)\n",
    "mol = Chem.RemoveHs(mol_with_h)\n",
    "MolTo3DView(mol)"
   ]
  },
  {
   "cell_type": "markdown",
   "id": "5edc7df8",
   "metadata": {},
   "source": [
    "### Convert the molecule to ConfSeq sequences"
   ]
  },
  {
   "cell_type": "code",
   "execution_count": 5,
   "id": "564e124d",
   "metadata": {},
   "outputs": [],
   "source": [
    "def mol2confseq(mols_list, num_workers=10, aug_mode=0, aug_times=1, do_random=False, disable_tqdm=False):\n",
    "    \"\"\"\n",
    "    Convert a list of RDKit molecule objects into their corresponding Conformation Sequence (ConfSeq) strings.\n",
    "\n",
    "    Parameters:\n",
    "        mols_list (list): A list of RDKit Mol objects to be processed.\n",
    "        num_workers (int, optional): Number of parallel workers for processing. Default is 10.\n",
    "        aug_mode (int, optional): Conformation augmentation mode that determines how the molecule is randomized:\n",
    "            - 0: Rooted SMILES augmentation at atom index 0 (canonicalized rooted SMILES).\n",
    "            - 1: Rooted SMILES augmentation at a random atom index (randomized rooted SMILES).\n",
    "            - 2: Fully randomized atom ordering using random SMILES generation.\n",
    "        aug_times (int, optional): Number of times to augment each molecule. Default is 1.\n",
    "        do_random (bool, optional): If True, applies additional random adjustments to the resulting ConfSeq strings. \n",
    "                                    Default is False.\n",
    "        disable_tqdm (bool, optional): If True, disables the progress bar output from tqdm. Default is False.\n",
    "\n",
    "    Returns:\n",
    "        confseq_list (list): A list of ConfSeq strings corresponding to each input molecule. \n",
    "                            If processing fails, the result for that molecule is 'error'.\n",
    "    \"\"\"\n",
    "\n",
    "    datas = []\n",
    "    for mol in mols_list:\n",
    "        if mol is not None:\n",
    "            datas.append((mol, Chem.MolToSmiles(mol)))\n",
    "\n",
    "    if aug_mode == 0:\n",
    "        results_t0 = process_map(\n",
    "            run_aug_mol_get_ConfSeq_pair_0,\n",
    "            tqdm(datas * aug_times, disable=disable_tqdm),\n",
    "            max_workers=num_workers,\n",
    "            chunksize=1000,\n",
    "            disable=disable_tqdm\n",
    "        )\n",
    "    elif aug_mode == 1:\n",
    "        results_t0 = process_map(\n",
    "            run_aug_mol_get_ConfSeq_pair_1,\n",
    "            tqdm(datas * aug_times, disable=disable_tqdm),\n",
    "            max_workers=num_workers,\n",
    "            chunksize=1000,\n",
    "            disable=disable_tqdm\n",
    "        )\n",
    "    elif aug_mode == 2:\n",
    "        results_t0 = process_map(\n",
    "            run_aug_mol_get_ConfSeq_pair_2,\n",
    "            tqdm(datas * aug_times, disable=disable_tqdm),\n",
    "            max_workers=num_workers,\n",
    "            chunksize=1000,\n",
    "            disable=disable_tqdm\n",
    "        )\n",
    "    else:\n",
    "        raise ValueError(f'Invalid aug_mode: {aug_mode}')\n",
    "\n",
    "    random.seed(42)  \n",
    "    if do_random:\n",
    "        for i in range(len(results_t0)):\n",
    "            if random.random() >= 0.5:\n",
    "                results_t0[i] = random_adjust_numbers(results_t0[i])\n",
    "            results_t0[i] = results_t0[i].replace('<180>', '<-180>')\n",
    "\n",
    "    confseq_list = []\n",
    "    for i in range(len(results_t0)):\n",
    "        parts = results_t0[i].split('\\t')\n",
    "        if len(parts) == 3:\n",
    "            confseq_list.append(parts[2])\n",
    "        else:\n",
    "            confseq_list.append('error')\n",
    "\n",
    "    return confseq_list\n"
   ]
  },
  {
   "cell_type": "markdown",
   "id": "48c34ee6",
   "metadata": {},
   "source": [
    "#### canonicalized ConfSeq sequence"
   ]
  },
  {
   "cell_type": "code",
   "execution_count": 6,
   "id": "5646ae1a",
   "metadata": {},
   "outputs": [
    {
     "name": "stderr",
     "output_type": "stream",
     "text": [
      "100%|██████████| 1/1 [00:00<00:00, 157.18it/s]\n"
     ]
    },
    {
     "data": {
      "application/vnd.jupyter.widget-view+json": {
       "model_id": "eb6f2cb240f2439a825a8fa5f4dc747c",
       "version_major": 2,
       "version_minor": 0
      },
      "text/plain": [
       "  0%|          | 0/1 [00:00<?, ?it/s]"
      ]
     },
     "metadata": {},
     "output_type": "display_data"
    },
    {
     "data": {
      "text/plain": [
       "['C C 1 ( { <176> C <121> | ( = O ) <-16> N 2 <-178> C <21> C <90> [ C @ @ ] 3 ( <-62> S <108> | ( = O ) ( = O ) <97> c 4 c c c ( F ) c c 4 ) <-56> c 4 c c c ( <-64> [ C @ @ ] ( C ) ( F ) <62> C ( F ) ( F ) F ) c c 4 <-32> C <60> C <-174> [ C @ @ H ] <161> 2 <23> 3 ) <-178> C <33> C <161> } N ( <62> S <102> | ( C ) ( = O ) = O ) <-67> C <41> C <135> 1']"
      ]
     },
     "execution_count": 6,
     "metadata": {},
     "output_type": "execute_result"
    }
   ],
   "source": [
    "mol2confseq([mol])"
   ]
  },
  {
   "cell_type": "markdown",
   "id": "bc7d3c10",
   "metadata": {},
   "source": [
    "#### augmented ConfSeq sequences"
   ]
  },
  {
   "cell_type": "code",
   "execution_count": 7,
   "id": "a501dd87",
   "metadata": {},
   "outputs": [
    {
     "name": "stderr",
     "output_type": "stream",
     "text": [
      "100%|██████████| 10/10 [00:00<00:00, 3389.06it/s]\n"
     ]
    },
    {
     "data": {
      "application/vnd.jupyter.widget-view+json": {
       "model_id": "027a763175e8412e974382b7759d1f3d",
       "version_major": 2,
       "version_minor": 0
      },
      "text/plain": [
       "  0%|          | 0/10 [00:00<?, ?it/s]"
      ]
     },
     "metadata": {},
     "output_type": "display_data"
    },
    {
     "data": {
      "text/plain": [
       "['F C ( F ) ( F ) <59> [ C @ ] ( C ) ( F ) <-64> c 1 c c c 2 c ( c 1 ) <-32> C <60> C <-175> [ C @ H ] 1 <-77> N ( <175> C <122> | ( = O ) <174> } C 3 ( C ) <-177> C <33> C <159> } N ( <59> S <100> | ( C ) ( = O ) = O ) <-68> C <41> C <136> 3 ) <-4> C <18> C <-149> [ C @ @ ] <-173> 2 <25> 1 <177> S <108> | ( = O ) ( = O ) <-88> c 1 c c c ( F ) c c 1',\n",
       " 'C ( F ) ( F ) ( F ) <-58> [ C @ ] ( C ) ( F ) <-64> c 1 c c c 2 c ( c 1 ) <-32> C <60> C <-174> [ C @ H ] 1 <-76> N ( <172> C <121> | ( = O ) <57> { C 3 ( C ) <135> C <41> C <158> { N ( <-165> S <102> | ( C ) ( = O ) = O ) <28> C <33> C <-178> 3 ) <-6> C <21> C <-150> [ C @ @ ] <-172> 2 <23> 1 <176> S <108> | ( = O ) ( = O ) <-88> c 1 c c c ( F ) c c 1',\n",
       " 'c 1 c c ( F ) c c c 1 <97> S <108> | ( = O ) ( = O ) <-62> [ C @ @ ] 1 2 <90> C <21> C <-178> N ( <-16> C <121> | ( = O ) <57> { C 3 ( C ) <135> C <41> C <158> { N ( <-165> S <102> | ( C ) ( = O ) = O ) <28> C <33> C <-178> 3 ) <-11> [ C @ @ H ] <-97> 1 <-56> C <60> C <148> c 1 c c ( <115> [ C @ @ ] ( C ) ( F ) <-58> C ( F ) ( F ) F ) c c c 1 <-115> 2',\n",
       " 'c 1 2 c c c ( <-65> [ C @ @ ] ( C ) ( F ) <62> C ( F ) ( F ) F ) c c 1 <-32> C <60> C <-175> [ C @ H ] 1 <-77> N ( <172> C <120> | ( = O ) <55> { C 3 ( C ) <135> C <40> C <158> { N ( <-165> S <104> | ( C ) ( = O ) = O ) <28> C <31> C <-178> 3 ) <-5> C <20> C <-150> [ C @ @ ] <-174> 2 <24> 1 <176> S <110> | ( = O ) ( = O ) <99> c 1 c c c ( F ) c c 1',\n",
       " 'c 1 c c ( <-88> S <109> | ( = O ) ( = O ) <-63> [ C @ @ ] 2 3 <88> C <19> C <-175> N ( <-16> C <121> | ( = O ) <55> { C 4 ( C ) <135> C <40> C <158> { N ( <-165> S <102> | ( C ) ( = O ) = O ) <30> C <33> C <-179> 4 ) <-11> [ C @ @ H ] <-97> 2 <-57> C <63> C <148> c 2 c c ( <118> [ C @ @ ] ( C ) ( F ) <-56> C ( F ) ( F ) F ) c c c 2 <-117> 3 ) c c c 1 F',\n",
       " 'c 1 c c ( <-89> S <109> | ( = O ) ( = O ) <-62> [ C @ @ ] 2 3 <89> C <21> C <-178> N ( <-16> C <123> | ( = O ) <58> { C 4 ( C ) <135> C <44> C <158> { N ( <-167> S <102> | ( C ) ( = O ) = O ) <26> C <33> C <-178> 4 ) <-11> [ C @ @ H ] <-99> 2 <-57> C <61> C <148> c 2 c c ( <114> [ C @ @ ] ( C ) ( F ) <-56> C ( F ) ( F ) F ) c c c 2 <-114> 3 ) c c c 1 F',\n",
       " 'c 1 c ( <115> [ C @ @ ] ( C ) ( F ) <-58> C ( F ) ( F ) F ) c c c 2 c 1 <148> C <60> C <-174> [ C @ H ] 1 <-76> N ( <172> C <121> | ( = O ) <176> } C 3 ( C ) <-178> C <33> C <161> } N ( <62> S <102> | ( C ) ( = O ) = O ) <-67> C <41> C <135> 3 ) <-6> C <21> C <-150> [ C @ @ ] <-172> 2 <23> 1 <176> S <108> | ( = O ) ( = O ) <-88> c 1 c c c ( F ) c c 1',\n",
       " 'c 1 ( F ) c c c ( <-88> S <107> | ( = O ) ( = O ) <-62> [ C @ @ ] 2 3 <89> C <21> C <-177> N ( <-15> C <121> | ( = O ) <177> } C 4 ( C ) <-178> C <34> C <161> } N ( <62> S <102> | ( C ) ( = O ) = O ) <-68> C <42> C <136> 4 ) <-13> [ C @ @ H ] <-99> 2 <-57> C <59> C <150> c 2 c c ( <114> [ C @ @ ] ( C ) ( F ) <-55> C ( F ) ( F ) F ) c c c 2 <-115> 3 ) c c 1',\n",
       " 'O = S <108> | ( = O ) ( <97> c 1 c c c ( F ) c c 1 ) <-60> [ C @ @ ] 1 2 <90> C <22> C <-178> N ( <-15> C <118> | ( = O ) <179> } C 3 ( C ) <-179> C <36> C <162> } N ( <62> S <104> | ( C ) ( = O ) = O ) <-67> C <40> C <135> 3 ) <-11> [ C @ @ H ] <-98> 1 <-56> C <57> C <148> c 1 c c ( <116> [ C @ @ ] ( C ) ( F ) <-179> C ( F ) ( F ) F ) c c c 1 <-114> 2',\n",
       " 'F c 1 c c c ( <-86> S <108> | ( = O ) ( = O ) <-60> [ C @ @ ] 2 3 <91> C <23> C <-179> N ( <-17> C <121> | ( = O ) <56> { C 4 ( C ) <136> C <42> C <155> { N ( <-163> S <102> | ( C ) ( = O ) = O ) <29> C <30> C <-179> 4 ) <-11> [ C @ @ H ] <-97> 2 <-56> C <58> C <148> c 2 c c ( <116> [ C @ @ ] ( C ) ( F ) <60> C ( F ) ( F ) F ) c c c 2 <-117> 3 ) c c 1']"
      ]
     },
     "execution_count": 7,
     "metadata": {},
     "output_type": "execute_result"
    }
   ],
   "source": [
    "mol2confseq([mol], aug_mode=1, aug_times=10, do_random=True)"
   ]
  },
  {
   "cell_type": "markdown",
   "id": "87feb764",
   "metadata": {},
   "source": [
    "### Convert the ConfSeq sequence back to a 3D molecule"
   ]
  },
  {
   "cell_type": "code",
   "execution_count": 8,
   "id": "65649f4a",
   "metadata": {},
   "outputs": [],
   "source": [
    "def convert_confseq_to_mol(confseq):\n",
    "    try:\n",
    "        in_smiles = replace_angle_brackets_with_line(confseq)\n",
    "        generated_mol = get_mol_from_ConfSeq_pair(in_smiles, confseq)\n",
    "        generated_mol = Chem.MolFromMolBlock(remove_degree_in_molblock(Chem.MolToMolBlock(generated_mol)))\n",
    "        if generated_mol is not None:\n",
    "            return generated_mol\n",
    "    except Exception as e:\n",
    "        return f'Error: {e}'\n",
    "    return None"
   ]
  },
  {
   "cell_type": "code",
   "execution_count": 9,
   "id": "0868c228",
   "metadata": {},
   "outputs": [
    {
     "data": {
      "text/plain": [
       "'C C 1 ( { <176> C <121> | ( = O ) <-16> N 2 <-178> C <21> C <90> [ C @ @ ] 3 ( <-62> S <108> | ( = O ) ( = O ) <97> c 4 c c c ( F ) c c 4 ) <-56> c 4 c c c ( <-64> [ C @ @ ] ( C ) ( F ) <-178> C ( F ) ( F ) F ) c c 4 <-32> C <60> C <-174> [ C @ @ H ] <161> 2 <23> 3 ) <-178> C <33> C <161> } N ( <62> S <102> | ( C ) ( = O ) = O ) <-67> C <41> C <135> 1'"
      ]
     },
     "execution_count": 9,
     "metadata": {},
     "output_type": "execute_result"
    }
   ],
   "source": [
    "confseq = mol2confseq([mol], disable_tqdm=True)[0]\n",
    "confseq"
   ]
  },
  {
   "cell_type": "code",
   "execution_count": 10,
   "id": "28d13b6e",
   "metadata": {},
   "outputs": [
    {
     "data": {
      "application/3dmoljs_load.v0": "<div id=\"3dmolviewer_1752823249543848\"  style=\"position: relative; width: 300px; height: 300px;\">\n        <p id=\"3dmolwarning_1752823249543848\" style=\"background-color:#ffcccc;color:black\">3Dmol.js failed to load for some reason.  Please check your browser console for error messages.<br></p>\n        </div>\n<script>\n\nvar loadScriptAsync = function(uri){\n  return new Promise((resolve, reject) => {\n    //this is to ignore the existence of requirejs amd\n    var savedexports, savedmodule;\n    if (typeof exports !== 'undefined') savedexports = exports;\n    else exports = {}\n    if (typeof module !== 'undefined') savedmodule = module;\n    else module = {}\n\n    var tag = document.createElement('script');\n    tag.src = uri;\n    tag.async = true;\n    tag.onload = () => {\n        exports = savedexports;\n        module = savedmodule;\n        resolve();\n    };\n  var firstScriptTag = document.getElementsByTagName('script')[0];\n  firstScriptTag.parentNode.insertBefore(tag, firstScriptTag);\n});\n};\n\nif(typeof $3Dmolpromise === 'undefined') {\n$3Dmolpromise = null;\n  $3Dmolpromise = loadScriptAsync('https://cdn.jsdelivr.net/npm/3dmol@2.5.1/build/3Dmol-min.js');\n}\n\nvar viewer_1752823249543848 = null;\nvar warn = document.getElementById(\"3dmolwarning_1752823249543848\");\nif(warn) {\n    warn.parentNode.removeChild(warn);\n}\n$3Dmolpromise.then(function() {\nviewer_1752823249543848 = $3Dmol.createViewer(document.getElementById(\"3dmolviewer_1752823249543848\"),{backgroundColor:\"white\"});\nviewer_1752823249543848.zoomTo();\n\tviewer_1752823249543848.addModel(\"\\n     RDKit          3D\\n\\n 43 47  0  0  0  0  0  0  0  0999 V2000\\n    3.8532   -1.9690    0.5007 C   0  0  0  0  0  0  0  0  0  0  0  0\\n    3.5232   -0.8669   -0.5433 C   0  0  0  0  0  0  0  0  0  0  0  0\\n    2.1473   -1.1950   -1.1404 C   0  0  0  0  0  0  0  0  0  0  0  0\\n    1.1938   -0.3916   -0.9436 O   0  0  0  0  0  0  0  0  0  0  0  0\\n    1.9259   -2.4205   -1.8641 N   0  0  0  0  0  0  0  0  0  0  0  0\\n    3.0374   -3.2127   -2.3495 C   0  0  0  0  0  0  0  0  0  0  0  0\\n    2.4031   -4.3778   -3.0911 C   0  0  0  0  0  0  0  0  0  0  0  0\\n    0.9747   -3.9114   -3.4450 C   0  0  1  0  0  0  0  0  0  0  0  0\\n    0.9302   -3.0855   -5.0660 S   0  0  0  0  0  0  0  0  0  0  0  0\\n    1.4126   -4.0547   -6.1096 O   0  0  0  0  0  0  0  0  0  0  0  0\\n   -0.4844   -2.6995   -5.4038 O   0  0  0  0  0  0  0  0  0  0  0  0\\n    1.9562   -1.6495   -4.9755 C   0  0  0  0  0  0  0  0  0  0  0  0\\n    3.2821   -1.6863   -5.4363 C   0  0  0  0  0  0  0  0  0  0  0  0\\n    4.0958   -0.5515   -5.3312 C   0  0  0  0  0  0  0  0  0  0  0  0\\n    3.5932    0.6188   -4.7602 C   0  0  0  0  0  0  0  0  0  0  0  0\\n    4.3842    1.7133   -4.6510 F   0  0  0  0  0  0  0  0  0  0  0  0\\n    2.2725    0.6646   -4.3120 C   0  0  0  0  0  0  0  0  0  0  0  0\\n    1.4531   -0.4613   -4.4270 C   0  0  0  0  0  0  0  0  0  0  0  0\\n    0.0111   -5.1207   -3.4333 C   0  0  0  0  0  0  0  0  0  0  0  0\\n    0.2797   -6.2445   -4.2401 C   0  0  0  0  0  0  0  0  0  0  0  0\\n   -0.6132   -7.3116   -4.3244 C   0  0  0  0  0  0  0  0  0  0  0  0\\n   -1.7967   -7.3188   -3.5698 C   0  0  0  0  0  0  0  0  0  0  0  0\\n   -2.8175   -8.4466   -3.7129 C   0  0  1  0  0  0  0  0  0  0  0  0\\n   -2.2058   -9.8161   -3.3628 C   0  0  0  0  0  0  0  0  0  0  0  0\\n   -3.8629   -8.2421   -2.8221 F   0  0  0  0  0  0  0  0  0  0  0  0\\n   -3.4124   -8.4590   -5.1352 C   0  0  0  0  0  0  0  0  0  0  0  0\\n   -4.3670   -9.4542   -5.2402 F   0  0  0  0  0  0  0  0  0  0  0  0\\n   -4.0038   -7.2404   -5.4438 F   0  0  0  0  0  0  0  0  0  0  0  0\\n   -2.4059   -8.7147   -6.0525 F   0  0  0  0  0  0  0  0  0  0  0  0\\n   -2.0548   -6.2259   -2.7254 C   0  0  0  0  0  0  0  0  0  0  0  0\\n   -1.1689   -5.1372   -2.6490 C   0  0  0  0  0  0  0  0  0  0  0  0\\n   -1.4549   -4.0573   -1.6501 C   0  0  0  0  0  0  0  0  0  0  0  0\\n   -0.1718   -3.5171   -1.0496 C   0  0  0  0  0  0  0  0  0  0  0  0\\n    0.7530   -2.9201   -2.1198 C   0  0  1  0  0  0  0  0  0  0  0  0\\n    3.5518    0.5585    0.1091 C   0  0  0  0  0  0  0  0  0  0  0  0\\n    4.9203    0.9765    0.6884 C   0  0  0  0  0  0  0  0  0  0  0  0\\n    6.0274    0.4135   -0.0947 N   0  0  0  0  0  0  0  0  0  0  0  0\\n    7.5018    1.2997    0.2202 S   0  0  0  0  0  0  0  0  0  0  0  0\\n    7.7405    1.0145    1.9626 C   0  0  0  0  0  0  0  0  0  0  0  0\\n    7.3226    2.7548   -0.1222 O   0  0  0  0  0  0  0  0  0  0  0  0\\n    8.6250    0.7364   -0.6074 O   0  0  0  0  0  0  0  0  0  0  0  0\\n    5.7281    0.4231   -1.5479 C   0  0  0  0  0  0  0  0  0  0  0  0\\n    4.5770   -0.5300   -1.9568 C   0  0  0  0  0  0  0  0  0  0  0  0\\n  2  1  1  0\\n  2  3  1  0\\n  3  4  2  0\\n  3  5  1  0\\n  5  6  1  0\\n  6  7  1  0\\n  7  8  1  0\\n  8  9  1  6\\n  9 10  2  0\\n  9 11  2  0\\n  9 12  1  0\\n 12 13  2  0\\n 13 14  1  0\\n 14 15  2  0\\n 15 16  1  0\\n 15 17  1  0\\n 17 18  2  0\\n  8 19  1  0\\n 19 20  2  0\\n 20 21  1  0\\n 21 22  2  0\\n 22 23  1  0\\n 23 24  1  1\\n 23 25  1  0\\n 23 26  1  0\\n 26 27  1  0\\n 26 28  1  0\\n 26 29  1  0\\n 22 30  1  0\\n 30 31  2  0\\n 31 32  1  0\\n 32 33  1  0\\n 34 33  1  1\\n  2 35  1  0\\n 35 36  1  0\\n 36 37  1  0\\n 37 38  1  0\\n 38 39  1  0\\n 38 40  2  0\\n 38 41  2  0\\n 37 42  1  0\\n 42 43  1  0\\n 18 12  1  0\\n 31 19  1  0\\n  5 34  1  0\\n  8 34  1  0\\n  2 43  1  0\\nM  END\\n\",\"mol\");\n\tviewer_1752823249543848.setStyle({\"stick\": {}});\n\tviewer_1752823249543848.zoomTo();\nviewer_1752823249543848.render();\n});\n</script>",
      "text/html": [
       "<div id=\"3dmolviewer_1752823249543848\"  style=\"position: relative; width: 300px; height: 300px;\">\n",
       "        <p id=\"3dmolwarning_1752823249543848\" style=\"background-color:#ffcccc;color:black\">3Dmol.js failed to load for some reason.  Please check your browser console for error messages.<br></p>\n",
       "        </div>\n",
       "<script>\n",
       "\n",
       "var loadScriptAsync = function(uri){\n",
       "  return new Promise((resolve, reject) => {\n",
       "    //this is to ignore the existence of requirejs amd\n",
       "    var savedexports, savedmodule;\n",
       "    if (typeof exports !== 'undefined') savedexports = exports;\n",
       "    else exports = {}\n",
       "    if (typeof module !== 'undefined') savedmodule = module;\n",
       "    else module = {}\n",
       "\n",
       "    var tag = document.createElement('script');\n",
       "    tag.src = uri;\n",
       "    tag.async = true;\n",
       "    tag.onload = () => {\n",
       "        exports = savedexports;\n",
       "        module = savedmodule;\n",
       "        resolve();\n",
       "    };\n",
       "  var firstScriptTag = document.getElementsByTagName('script')[0];\n",
       "  firstScriptTag.parentNode.insertBefore(tag, firstScriptTag);\n",
       "});\n",
       "};\n",
       "\n",
       "if(typeof $3Dmolpromise === 'undefined') {\n",
       "$3Dmolpromise = null;\n",
       "  $3Dmolpromise = loadScriptAsync('https://cdn.jsdelivr.net/npm/3dmol@2.5.1/build/3Dmol-min.js');\n",
       "}\n",
       "\n",
       "var viewer_1752823249543848 = null;\n",
       "var warn = document.getElementById(\"3dmolwarning_1752823249543848\");\n",
       "if(warn) {\n",
       "    warn.parentNode.removeChild(warn);\n",
       "}\n",
       "$3Dmolpromise.then(function() {\n",
       "viewer_1752823249543848 = $3Dmol.createViewer(document.getElementById(\"3dmolviewer_1752823249543848\"),{backgroundColor:\"white\"});\n",
       "viewer_1752823249543848.zoomTo();\n",
       "\tviewer_1752823249543848.addModel(\"\\n     RDKit          3D\\n\\n 43 47  0  0  0  0  0  0  0  0999 V2000\\n    3.8532   -1.9690    0.5007 C   0  0  0  0  0  0  0  0  0  0  0  0\\n    3.5232   -0.8669   -0.5433 C   0  0  0  0  0  0  0  0  0  0  0  0\\n    2.1473   -1.1950   -1.1404 C   0  0  0  0  0  0  0  0  0  0  0  0\\n    1.1938   -0.3916   -0.9436 O   0  0  0  0  0  0  0  0  0  0  0  0\\n    1.9259   -2.4205   -1.8641 N   0  0  0  0  0  0  0  0  0  0  0  0\\n    3.0374   -3.2127   -2.3495 C   0  0  0  0  0  0  0  0  0  0  0  0\\n    2.4031   -4.3778   -3.0911 C   0  0  0  0  0  0  0  0  0  0  0  0\\n    0.9747   -3.9114   -3.4450 C   0  0  1  0  0  0  0  0  0  0  0  0\\n    0.9302   -3.0855   -5.0660 S   0  0  0  0  0  0  0  0  0  0  0  0\\n    1.4126   -4.0547   -6.1096 O   0  0  0  0  0  0  0  0  0  0  0  0\\n   -0.4844   -2.6995   -5.4038 O   0  0  0  0  0  0  0  0  0  0  0  0\\n    1.9562   -1.6495   -4.9755 C   0  0  0  0  0  0  0  0  0  0  0  0\\n    3.2821   -1.6863   -5.4363 C   0  0  0  0  0  0  0  0  0  0  0  0\\n    4.0958   -0.5515   -5.3312 C   0  0  0  0  0  0  0  0  0  0  0  0\\n    3.5932    0.6188   -4.7602 C   0  0  0  0  0  0  0  0  0  0  0  0\\n    4.3842    1.7133   -4.6510 F   0  0  0  0  0  0  0  0  0  0  0  0\\n    2.2725    0.6646   -4.3120 C   0  0  0  0  0  0  0  0  0  0  0  0\\n    1.4531   -0.4613   -4.4270 C   0  0  0  0  0  0  0  0  0  0  0  0\\n    0.0111   -5.1207   -3.4333 C   0  0  0  0  0  0  0  0  0  0  0  0\\n    0.2797   -6.2445   -4.2401 C   0  0  0  0  0  0  0  0  0  0  0  0\\n   -0.6132   -7.3116   -4.3244 C   0  0  0  0  0  0  0  0  0  0  0  0\\n   -1.7967   -7.3188   -3.5698 C   0  0  0  0  0  0  0  0  0  0  0  0\\n   -2.8175   -8.4466   -3.7129 C   0  0  1  0  0  0  0  0  0  0  0  0\\n   -2.2058   -9.8161   -3.3628 C   0  0  0  0  0  0  0  0  0  0  0  0\\n   -3.8629   -8.2421   -2.8221 F   0  0  0  0  0  0  0  0  0  0  0  0\\n   -3.4124   -8.4590   -5.1352 C   0  0  0  0  0  0  0  0  0  0  0  0\\n   -4.3670   -9.4542   -5.2402 F   0  0  0  0  0  0  0  0  0  0  0  0\\n   -4.0038   -7.2404   -5.4438 F   0  0  0  0  0  0  0  0  0  0  0  0\\n   -2.4059   -8.7147   -6.0525 F   0  0  0  0  0  0  0  0  0  0  0  0\\n   -2.0548   -6.2259   -2.7254 C   0  0  0  0  0  0  0  0  0  0  0  0\\n   -1.1689   -5.1372   -2.6490 C   0  0  0  0  0  0  0  0  0  0  0  0\\n   -1.4549   -4.0573   -1.6501 C   0  0  0  0  0  0  0  0  0  0  0  0\\n   -0.1718   -3.5171   -1.0496 C   0  0  0  0  0  0  0  0  0  0  0  0\\n    0.7530   -2.9201   -2.1198 C   0  0  1  0  0  0  0  0  0  0  0  0\\n    3.5518    0.5585    0.1091 C   0  0  0  0  0  0  0  0  0  0  0  0\\n    4.9203    0.9765    0.6884 C   0  0  0  0  0  0  0  0  0  0  0  0\\n    6.0274    0.4135   -0.0947 N   0  0  0  0  0  0  0  0  0  0  0  0\\n    7.5018    1.2997    0.2202 S   0  0  0  0  0  0  0  0  0  0  0  0\\n    7.7405    1.0145    1.9626 C   0  0  0  0  0  0  0  0  0  0  0  0\\n    7.3226    2.7548   -0.1222 O   0  0  0  0  0  0  0  0  0  0  0  0\\n    8.6250    0.7364   -0.6074 O   0  0  0  0  0  0  0  0  0  0  0  0\\n    5.7281    0.4231   -1.5479 C   0  0  0  0  0  0  0  0  0  0  0  0\\n    4.5770   -0.5300   -1.9568 C   0  0  0  0  0  0  0  0  0  0  0  0\\n  2  1  1  0\\n  2  3  1  0\\n  3  4  2  0\\n  3  5  1  0\\n  5  6  1  0\\n  6  7  1  0\\n  7  8  1  0\\n  8  9  1  6\\n  9 10  2  0\\n  9 11  2  0\\n  9 12  1  0\\n 12 13  2  0\\n 13 14  1  0\\n 14 15  2  0\\n 15 16  1  0\\n 15 17  1  0\\n 17 18  2  0\\n  8 19  1  0\\n 19 20  2  0\\n 20 21  1  0\\n 21 22  2  0\\n 22 23  1  0\\n 23 24  1  1\\n 23 25  1  0\\n 23 26  1  0\\n 26 27  1  0\\n 26 28  1  0\\n 26 29  1  0\\n 22 30  1  0\\n 30 31  2  0\\n 31 32  1  0\\n 32 33  1  0\\n 34 33  1  1\\n  2 35  1  0\\n 35 36  1  0\\n 36 37  1  0\\n 37 38  1  0\\n 38 39  1  0\\n 38 40  2  0\\n 38 41  2  0\\n 37 42  1  0\\n 42 43  1  0\\n 18 12  1  0\\n 31 19  1  0\\n  5 34  1  0\\n  8 34  1  0\\n  2 43  1  0\\nM  END\\n\",\"mol\");\n",
       "\tviewer_1752823249543848.setStyle({\"stick\": {}});\n",
       "\tviewer_1752823249543848.zoomTo();\n",
       "viewer_1752823249543848.render();\n",
       "});\n",
       "</script>"
      ]
     },
     "metadata": {},
     "output_type": "display_data"
    },
    {
     "data": {
      "text/plain": [
       "<py3Dmol.view at 0x7f9f95a4b410>"
      ]
     },
     "execution_count": 10,
     "metadata": {},
     "output_type": "execute_result"
    }
   ],
   "source": [
    "mol_recon = convert_confseq_to_mol(confseq)\n",
    "MolTo3DView(mol_recon)"
   ]
  },
  {
   "cell_type": "code",
   "execution_count": 11,
   "id": "325f0199",
   "metadata": {},
   "outputs": [
    {
     "data": {
      "text/plain": [
       "0.24226622856308264"
      ]
     },
     "execution_count": 11,
     "metadata": {},
     "output_type": "execute_result"
    }
   ],
   "source": [
    "GetBestRMS(mol, mol_recon)"
   ]
  },
  {
   "cell_type": "code",
   "execution_count": 12,
   "id": "a3dbebdd",
   "metadata": {},
   "outputs": [
    {
     "data": {
      "application/3dmoljs_load.v0": "<div id=\"3dmolviewer_1752823250804152\"  style=\"position: relative; width: 300px; height: 300px;\">\n        <p id=\"3dmolwarning_1752823250804152\" style=\"background-color:#ffcccc;color:black\">3Dmol.js failed to load for some reason.  Please check your browser console for error messages.<br></p>\n        </div>\n<script>\n\nvar loadScriptAsync = function(uri){\n  return new Promise((resolve, reject) => {\n    //this is to ignore the existence of requirejs amd\n    var savedexports, savedmodule;\n    if (typeof exports !== 'undefined') savedexports = exports;\n    else exports = {}\n    if (typeof module !== 'undefined') savedmodule = module;\n    else module = {}\n\n    var tag = document.createElement('script');\n    tag.src = uri;\n    tag.async = true;\n    tag.onload = () => {\n        exports = savedexports;\n        module = savedmodule;\n        resolve();\n    };\n  var firstScriptTag = document.getElementsByTagName('script')[0];\n  firstScriptTag.parentNode.insertBefore(tag, firstScriptTag);\n});\n};\n\nif(typeof $3Dmolpromise === 'undefined') {\n$3Dmolpromise = null;\n  $3Dmolpromise = loadScriptAsync('https://cdn.jsdelivr.net/npm/3dmol@2.5.1/build/3Dmol-min.js');\n}\n\nvar viewer_1752823250804152 = null;\nvar warn = document.getElementById(\"3dmolwarning_1752823250804152\");\nif(warn) {\n    warn.parentNode.removeChild(warn);\n}\n$3Dmolpromise.then(function() {\nviewer_1752823250804152 = $3Dmol.createViewer(document.getElementById(\"3dmolviewer_1752823250804152\"),{backgroundColor:\"white\"});\nviewer_1752823250804152.zoomTo();\n\tviewer_1752823250804152.addModel(\"\\n     RDKit          3D\\n\\n 43 47  0  0  0  0  0  0  0  0999 V2000\\n   -2.1742   -9.7451   -3.4103 C   0  0  0  0  0  0  0  0  0  0  0  0\\n   -2.8422   -8.3943   -3.6878 C   0  0  0  0  0  0  0  0  0  0  0  0\\n   -3.7852   -8.2437   -2.6914 F   0  0  0  0  0  0  0  0  0  0  0  0\\n   -3.5872   -8.4363   -5.0363 C   0  0  0  0  0  0  0  0  0  0  0  0\\n   -4.5194   -9.4230   -5.0500 F   0  0  0  0  0  0  0  0  0  0  0  0\\n   -4.2313   -7.2777   -5.3060 F   0  0  0  0  0  0  0  0  0  0  0  0\\n   -2.7496   -8.6871   -6.0732 F   0  0  0  0  0  0  0  0  0  0  0  0\\n   -1.8132   -7.2654   -3.6315 C   0  0  0  0  0  0  0  0  0  0  0  0\\n   -0.6894   -7.2371   -4.4644 C   0  0  0  0  0  0  0  0  0  0  0  0\\n    0.2256   -6.1826   -4.3950 C   0  0  0  0  0  0  0  0  0  0  0  0\\n    0.0471   -5.1115   -3.4999 C   0  0  0  0  0  0  0  0  0  0  0  0\\n   -1.0580   -5.1589   -2.6311 C   0  0  0  0  0  0  0  0  0  0  0  0\\n   -1.2848   -4.0831   -1.6037 C   0  0  0  0  0  0  0  0  0  0  0  0\\n    0.0476   -3.5345   -1.1223 C   0  0  0  0  0  0  0  0  0  0  0  0\\n    0.8183   -2.9343   -2.3043 C   0  0  2  0  0  0  0  0  0  0  0  0\\n    1.0458   -3.9414   -3.4538 C   0  0  2  0  0  0  0  0  0  0  0  0\\n    0.8889   -3.0809   -5.0627 S   0  0  0  0  0  0  0  0  0  0  0  0\\n    1.9616   -1.6472   -5.0431 C   0  0  0  0  0  0  0  0  0  0  0  0\\n    1.4810   -0.4216   -4.5652 C   0  0  0  0  0  0  0  0  0  0  0  0\\n    2.3055    0.7040   -4.6006 C   0  0  0  0  0  0  0  0  0  0  0  0\\n    3.5822    0.6046   -5.1434 C   0  0  0  0  0  0  0  0  0  0  0  0\\n    4.0505   -0.5986   -5.6623 C   0  0  0  0  0  0  0  0  0  0  0  0\\n    3.2348   -1.7307   -5.6240 C   0  0  0  0  0  0  0  0  0  0  0  0\\n    4.3738    1.6838   -5.1680 F   0  0  0  0  0  0  0  0  0  0  0  0\\n    1.4302   -3.9350   -6.1085 O   0  0  0  0  0  0  0  0  0  0  0  0\\n   -0.4599   -2.5573   -5.1900 O   0  0  0  0  0  0  0  0  0  0  0  0\\n    2.4663   -4.4673   -3.1790 C   0  0  0  0  0  0  0  0  0  0  0  0\\n    3.1921   -3.3523   -2.4420 C   0  0  0  0  0  0  0  0  0  0  0  0\\n    2.1590   -2.5107   -1.8624 N   0  0  0  0  0  0  0  0  0  0  0  0\\n    2.2995   -1.3453   -1.1260 C   0  0  0  0  0  0  0  0  0  0  0  0\\n    3.6580   -0.9550   -0.4871 C   0  0  0  0  0  0  0  0  0  0  0  0\\n    3.9929   -1.9873    0.6099 C   0  0  0  0  0  0  0  0  0  0  0  0\\n    3.4855    0.4331    0.1933 C   0  0  0  0  0  0  0  0  0  0  0  0\\n    4.7662    0.9744    0.8320 C   0  0  0  0  0  0  0  0  0  0  0  0\\n    5.9773    0.5768    0.0625 N   0  0  0  0  0  0  0  0  0  0  0  0\\n    7.3828    1.4963    0.3637 S   0  0  0  0  0  0  0  0  0  0  0  0\\n    7.6784    1.1723    2.0902 C   0  0  0  0  0  0  0  0  0  0  0  0\\n    8.4657    0.8980   -0.3879 O   0  0  0  0  0  0  0  0  0  0  0  0\\n    7.0403    2.8921    0.2012 O   0  0  0  0  0  0  0  0  0  0  0  0\\n    5.6845    0.3861   -1.3755 C   0  0  0  0  0  0  0  0  0  0  0  0\\n    4.7859   -0.8424   -1.5382 C   0  0  0  0  0  0  0  0  0  0  0  0\\n    1.3059   -0.6347   -0.9361 O   0  0  0  0  0  0  0  0  0  0  0  0\\n   -1.9820   -6.2149   -2.7183 C   0  0  0  0  0  0  0  0  0  0  0  0\\n  1  2  1  0\\n  2  3  1  0\\n  2  4  1  0\\n  4  5  1  0\\n  4  6  1  0\\n  4  7  1  0\\n  2  8  1  0\\n  8  9  2  0\\n  9 10  1  0\\n 10 11  2  0\\n 11 12  1  0\\n 12 13  1  0\\n 13 14  1  0\\n 15 14  1  1\\n 15 16  1  0\\n 16 17  1  6\\n 17 18  1  0\\n 18 19  2  0\\n 19 20  1  0\\n 20 21  2  0\\n 21 22  1  0\\n 22 23  2  0\\n 21 24  1  0\\n 17 25  2  0\\n 17 26  2  0\\n 16 27  1  0\\n 27 28  1  0\\n 28 29  1  0\\n 29 30  1  0\\n 30 31  1  0\\n 31 32  1  0\\n 31 33  1  0\\n 33 34  1  0\\n 34 35  1  0\\n 35 36  1  0\\n 36 37  1  0\\n 36 38  2  0\\n 36 39  2  0\\n 35 40  1  0\\n 40 41  1  0\\n 30 42  2  0\\n 12 43  2  0\\n 43  8  1  0\\n 16 11  1  0\\n 29 15  1  0\\n 23 18  1  0\\n 41 31  1  0\\nM  END\\n\",\"mol0\");\n\tviewer_1752823250804152.addModel(\"\\n     RDKit          3D\\n\\n 43 47  0  0  0  0  0  0  0  0999 V2000\\n    3.8532   -1.9690    0.5007 C   0  0  0  0  0  0  0  0  0  0  0  0\\n    3.5232   -0.8669   -0.5433 C   0  0  0  0  0  0  0  0  0  0  0  0\\n    2.1473   -1.1950   -1.1404 C   0  0  0  0  0  0  0  0  0  0  0  0\\n    1.1938   -0.3916   -0.9436 O   0  0  0  0  0  0  0  0  0  0  0  0\\n    1.9259   -2.4205   -1.8641 N   0  0  0  0  0  0  0  0  0  0  0  0\\n    3.0374   -3.2127   -2.3495 C   0  0  0  0  0  0  0  0  0  0  0  0\\n    2.4031   -4.3778   -3.0911 C   0  0  0  0  0  0  0  0  0  0  0  0\\n    0.9747   -3.9114   -3.4450 C   0  0  1  0  0  0  0  0  0  0  0  0\\n    0.9302   -3.0855   -5.0660 S   0  0  0  0  0  0  0  0  0  0  0  0\\n    1.4126   -4.0547   -6.1096 O   0  0  0  0  0  0  0  0  0  0  0  0\\n   -0.4844   -2.6995   -5.4038 O   0  0  0  0  0  0  0  0  0  0  0  0\\n    1.9562   -1.6495   -4.9755 C   0  0  0  0  0  0  0  0  0  0  0  0\\n    3.2821   -1.6863   -5.4363 C   0  0  0  0  0  0  0  0  0  0  0  0\\n    4.0958   -0.5515   -5.3312 C   0  0  0  0  0  0  0  0  0  0  0  0\\n    3.5932    0.6188   -4.7602 C   0  0  0  0  0  0  0  0  0  0  0  0\\n    4.3842    1.7133   -4.6510 F   0  0  0  0  0  0  0  0  0  0  0  0\\n    2.2725    0.6646   -4.3120 C   0  0  0  0  0  0  0  0  0  0  0  0\\n    1.4531   -0.4613   -4.4270 C   0  0  0  0  0  0  0  0  0  0  0  0\\n    0.0111   -5.1207   -3.4333 C   0  0  0  0  0  0  0  0  0  0  0  0\\n    0.2797   -6.2445   -4.2401 C   0  0  0  0  0  0  0  0  0  0  0  0\\n   -0.6132   -7.3116   -4.3244 C   0  0  0  0  0  0  0  0  0  0  0  0\\n   -1.7967   -7.3188   -3.5698 C   0  0  0  0  0  0  0  0  0  0  0  0\\n   -2.8175   -8.4466   -3.7129 C   0  0  1  0  0  0  0  0  0  0  0  0\\n   -2.2058   -9.8161   -3.3628 C   0  0  0  0  0  0  0  0  0  0  0  0\\n   -3.8629   -8.2421   -2.8221 F   0  0  0  0  0  0  0  0  0  0  0  0\\n   -3.4124   -8.4590   -5.1352 C   0  0  0  0  0  0  0  0  0  0  0  0\\n   -4.3670   -9.4542   -5.2402 F   0  0  0  0  0  0  0  0  0  0  0  0\\n   -4.0038   -7.2404   -5.4438 F   0  0  0  0  0  0  0  0  0  0  0  0\\n   -2.4059   -8.7147   -6.0525 F   0  0  0  0  0  0  0  0  0  0  0  0\\n   -2.0548   -6.2259   -2.7254 C   0  0  0  0  0  0  0  0  0  0  0  0\\n   -1.1689   -5.1372   -2.6490 C   0  0  0  0  0  0  0  0  0  0  0  0\\n   -1.4549   -4.0573   -1.6501 C   0  0  0  0  0  0  0  0  0  0  0  0\\n   -0.1718   -3.5171   -1.0496 C   0  0  0  0  0  0  0  0  0  0  0  0\\n    0.7530   -2.9201   -2.1198 C   0  0  1  0  0  0  0  0  0  0  0  0\\n    3.5518    0.5585    0.1091 C   0  0  0  0  0  0  0  0  0  0  0  0\\n    4.9203    0.9765    0.6884 C   0  0  0  0  0  0  0  0  0  0  0  0\\n    6.0274    0.4135   -0.0947 N   0  0  0  0  0  0  0  0  0  0  0  0\\n    7.5018    1.2997    0.2202 S   0  0  0  0  0  0  0  0  0  0  0  0\\n    7.7405    1.0145    1.9626 C   0  0  0  0  0  0  0  0  0  0  0  0\\n    7.3226    2.7548   -0.1222 O   0  0  0  0  0  0  0  0  0  0  0  0\\n    8.6250    0.7364   -0.6074 O   0  0  0  0  0  0  0  0  0  0  0  0\\n    5.7281    0.4231   -1.5479 C   0  0  0  0  0  0  0  0  0  0  0  0\\n    4.5770   -0.5300   -1.9568 C   0  0  0  0  0  0  0  0  0  0  0  0\\n  2  1  1  0\\n  2  3  1  0\\n  3  4  2  0\\n  3  5  1  0\\n  5  6  1  0\\n  6  7  1  0\\n  7  8  1  0\\n  8  9  1  6\\n  9 10  2  0\\n  9 11  2  0\\n  9 12  1  0\\n 12 13  2  0\\n 13 14  1  0\\n 14 15  2  0\\n 15 16  1  0\\n 15 17  1  0\\n 17 18  2  0\\n  8 19  1  0\\n 19 20  2  0\\n 20 21  1  0\\n 21 22  2  0\\n 22 23  1  0\\n 23 24  1  1\\n 23 25  1  0\\n 23 26  1  0\\n 26 27  1  0\\n 26 28  1  0\\n 26 29  1  0\\n 22 30  1  0\\n 30 31  2  0\\n 31 32  1  0\\n 32 33  1  0\\n 34 33  1  1\\n  2 35  1  0\\n 35 36  1  0\\n 36 37  1  0\\n 37 38  1  0\\n 38 39  1  0\\n 38 40  2  0\\n 38 41  2  0\\n 37 42  1  0\\n 42 43  1  0\\n 18 12  1  0\\n 31 19  1  0\\n  5 34  1  0\\n  8 34  1  0\\n  2 43  1  0\\nM  END\\n\",\"mol1\");\n\tviewer_1752823250804152.setStyle({\"stick\": {}});\n\tviewer_1752823250804152.zoomTo();\nviewer_1752823250804152.render();\n});\n</script>",
      "text/html": [
       "<div id=\"3dmolviewer_1752823250804152\"  style=\"position: relative; width: 300px; height: 300px;\">\n",
       "        <p id=\"3dmolwarning_1752823250804152\" style=\"background-color:#ffcccc;color:black\">3Dmol.js failed to load for some reason.  Please check your browser console for error messages.<br></p>\n",
       "        </div>\n",
       "<script>\n",
       "\n",
       "var loadScriptAsync = function(uri){\n",
       "  return new Promise((resolve, reject) => {\n",
       "    //this is to ignore the existence of requirejs amd\n",
       "    var savedexports, savedmodule;\n",
       "    if (typeof exports !== 'undefined') savedexports = exports;\n",
       "    else exports = {}\n",
       "    if (typeof module !== 'undefined') savedmodule = module;\n",
       "    else module = {}\n",
       "\n",
       "    var tag = document.createElement('script');\n",
       "    tag.src = uri;\n",
       "    tag.async = true;\n",
       "    tag.onload = () => {\n",
       "        exports = savedexports;\n",
       "        module = savedmodule;\n",
       "        resolve();\n",
       "    };\n",
       "  var firstScriptTag = document.getElementsByTagName('script')[0];\n",
       "  firstScriptTag.parentNode.insertBefore(tag, firstScriptTag);\n",
       "});\n",
       "};\n",
       "\n",
       "if(typeof $3Dmolpromise === 'undefined') {\n",
       "$3Dmolpromise = null;\n",
       "  $3Dmolpromise = loadScriptAsync('https://cdn.jsdelivr.net/npm/3dmol@2.5.1/build/3Dmol-min.js');\n",
       "}\n",
       "\n",
       "var viewer_1752823250804152 = null;\n",
       "var warn = document.getElementById(\"3dmolwarning_1752823250804152\");\n",
       "if(warn) {\n",
       "    warn.parentNode.removeChild(warn);\n",
       "}\n",
       "$3Dmolpromise.then(function() {\n",
       "viewer_1752823250804152 = $3Dmol.createViewer(document.getElementById(\"3dmolviewer_1752823250804152\"),{backgroundColor:\"white\"});\n",
       "viewer_1752823250804152.zoomTo();\n",
       "\tviewer_1752823250804152.addModel(\"\\n     RDKit          3D\\n\\n 43 47  0  0  0  0  0  0  0  0999 V2000\\n   -2.1742   -9.7451   -3.4103 C   0  0  0  0  0  0  0  0  0  0  0  0\\n   -2.8422   -8.3943   -3.6878 C   0  0  0  0  0  0  0  0  0  0  0  0\\n   -3.7852   -8.2437   -2.6914 F   0  0  0  0  0  0  0  0  0  0  0  0\\n   -3.5872   -8.4363   -5.0363 C   0  0  0  0  0  0  0  0  0  0  0  0\\n   -4.5194   -9.4230   -5.0500 F   0  0  0  0  0  0  0  0  0  0  0  0\\n   -4.2313   -7.2777   -5.3060 F   0  0  0  0  0  0  0  0  0  0  0  0\\n   -2.7496   -8.6871   -6.0732 F   0  0  0  0  0  0  0  0  0  0  0  0\\n   -1.8132   -7.2654   -3.6315 C   0  0  0  0  0  0  0  0  0  0  0  0\\n   -0.6894   -7.2371   -4.4644 C   0  0  0  0  0  0  0  0  0  0  0  0\\n    0.2256   -6.1826   -4.3950 C   0  0  0  0  0  0  0  0  0  0  0  0\\n    0.0471   -5.1115   -3.4999 C   0  0  0  0  0  0  0  0  0  0  0  0\\n   -1.0580   -5.1589   -2.6311 C   0  0  0  0  0  0  0  0  0  0  0  0\\n   -1.2848   -4.0831   -1.6037 C   0  0  0  0  0  0  0  0  0  0  0  0\\n    0.0476   -3.5345   -1.1223 C   0  0  0  0  0  0  0  0  0  0  0  0\\n    0.8183   -2.9343   -2.3043 C   0  0  2  0  0  0  0  0  0  0  0  0\\n    1.0458   -3.9414   -3.4538 C   0  0  2  0  0  0  0  0  0  0  0  0\\n    0.8889   -3.0809   -5.0627 S   0  0  0  0  0  0  0  0  0  0  0  0\\n    1.9616   -1.6472   -5.0431 C   0  0  0  0  0  0  0  0  0  0  0  0\\n    1.4810   -0.4216   -4.5652 C   0  0  0  0  0  0  0  0  0  0  0  0\\n    2.3055    0.7040   -4.6006 C   0  0  0  0  0  0  0  0  0  0  0  0\\n    3.5822    0.6046   -5.1434 C   0  0  0  0  0  0  0  0  0  0  0  0\\n    4.0505   -0.5986   -5.6623 C   0  0  0  0  0  0  0  0  0  0  0  0\\n    3.2348   -1.7307   -5.6240 C   0  0  0  0  0  0  0  0  0  0  0  0\\n    4.3738    1.6838   -5.1680 F   0  0  0  0  0  0  0  0  0  0  0  0\\n    1.4302   -3.9350   -6.1085 O   0  0  0  0  0  0  0  0  0  0  0  0\\n   -0.4599   -2.5573   -5.1900 O   0  0  0  0  0  0  0  0  0  0  0  0\\n    2.4663   -4.4673   -3.1790 C   0  0  0  0  0  0  0  0  0  0  0  0\\n    3.1921   -3.3523   -2.4420 C   0  0  0  0  0  0  0  0  0  0  0  0\\n    2.1590   -2.5107   -1.8624 N   0  0  0  0  0  0  0  0  0  0  0  0\\n    2.2995   -1.3453   -1.1260 C   0  0  0  0  0  0  0  0  0  0  0  0\\n    3.6580   -0.9550   -0.4871 C   0  0  0  0  0  0  0  0  0  0  0  0\\n    3.9929   -1.9873    0.6099 C   0  0  0  0  0  0  0  0  0  0  0  0\\n    3.4855    0.4331    0.1933 C   0  0  0  0  0  0  0  0  0  0  0  0\\n    4.7662    0.9744    0.8320 C   0  0  0  0  0  0  0  0  0  0  0  0\\n    5.9773    0.5768    0.0625 N   0  0  0  0  0  0  0  0  0  0  0  0\\n    7.3828    1.4963    0.3637 S   0  0  0  0  0  0  0  0  0  0  0  0\\n    7.6784    1.1723    2.0902 C   0  0  0  0  0  0  0  0  0  0  0  0\\n    8.4657    0.8980   -0.3879 O   0  0  0  0  0  0  0  0  0  0  0  0\\n    7.0403    2.8921    0.2012 O   0  0  0  0  0  0  0  0  0  0  0  0\\n    5.6845    0.3861   -1.3755 C   0  0  0  0  0  0  0  0  0  0  0  0\\n    4.7859   -0.8424   -1.5382 C   0  0  0  0  0  0  0  0  0  0  0  0\\n    1.3059   -0.6347   -0.9361 O   0  0  0  0  0  0  0  0  0  0  0  0\\n   -1.9820   -6.2149   -2.7183 C   0  0  0  0  0  0  0  0  0  0  0  0\\n  1  2  1  0\\n  2  3  1  0\\n  2  4  1  0\\n  4  5  1  0\\n  4  6  1  0\\n  4  7  1  0\\n  2  8  1  0\\n  8  9  2  0\\n  9 10  1  0\\n 10 11  2  0\\n 11 12  1  0\\n 12 13  1  0\\n 13 14  1  0\\n 15 14  1  1\\n 15 16  1  0\\n 16 17  1  6\\n 17 18  1  0\\n 18 19  2  0\\n 19 20  1  0\\n 20 21  2  0\\n 21 22  1  0\\n 22 23  2  0\\n 21 24  1  0\\n 17 25  2  0\\n 17 26  2  0\\n 16 27  1  0\\n 27 28  1  0\\n 28 29  1  0\\n 29 30  1  0\\n 30 31  1  0\\n 31 32  1  0\\n 31 33  1  0\\n 33 34  1  0\\n 34 35  1  0\\n 35 36  1  0\\n 36 37  1  0\\n 36 38  2  0\\n 36 39  2  0\\n 35 40  1  0\\n 40 41  1  0\\n 30 42  2  0\\n 12 43  2  0\\n 43  8  1  0\\n 16 11  1  0\\n 29 15  1  0\\n 23 18  1  0\\n 41 31  1  0\\nM  END\\n\",\"mol0\");\n",
       "\tviewer_1752823250804152.addModel(\"\\n     RDKit          3D\\n\\n 43 47  0  0  0  0  0  0  0  0999 V2000\\n    3.8532   -1.9690    0.5007 C   0  0  0  0  0  0  0  0  0  0  0  0\\n    3.5232   -0.8669   -0.5433 C   0  0  0  0  0  0  0  0  0  0  0  0\\n    2.1473   -1.1950   -1.1404 C   0  0  0  0  0  0  0  0  0  0  0  0\\n    1.1938   -0.3916   -0.9436 O   0  0  0  0  0  0  0  0  0  0  0  0\\n    1.9259   -2.4205   -1.8641 N   0  0  0  0  0  0  0  0  0  0  0  0\\n    3.0374   -3.2127   -2.3495 C   0  0  0  0  0  0  0  0  0  0  0  0\\n    2.4031   -4.3778   -3.0911 C   0  0  0  0  0  0  0  0  0  0  0  0\\n    0.9747   -3.9114   -3.4450 C   0  0  1  0  0  0  0  0  0  0  0  0\\n    0.9302   -3.0855   -5.0660 S   0  0  0  0  0  0  0  0  0  0  0  0\\n    1.4126   -4.0547   -6.1096 O   0  0  0  0  0  0  0  0  0  0  0  0\\n   -0.4844   -2.6995   -5.4038 O   0  0  0  0  0  0  0  0  0  0  0  0\\n    1.9562   -1.6495   -4.9755 C   0  0  0  0  0  0  0  0  0  0  0  0\\n    3.2821   -1.6863   -5.4363 C   0  0  0  0  0  0  0  0  0  0  0  0\\n    4.0958   -0.5515   -5.3312 C   0  0  0  0  0  0  0  0  0  0  0  0\\n    3.5932    0.6188   -4.7602 C   0  0  0  0  0  0  0  0  0  0  0  0\\n    4.3842    1.7133   -4.6510 F   0  0  0  0  0  0  0  0  0  0  0  0\\n    2.2725    0.6646   -4.3120 C   0  0  0  0  0  0  0  0  0  0  0  0\\n    1.4531   -0.4613   -4.4270 C   0  0  0  0  0  0  0  0  0  0  0  0\\n    0.0111   -5.1207   -3.4333 C   0  0  0  0  0  0  0  0  0  0  0  0\\n    0.2797   -6.2445   -4.2401 C   0  0  0  0  0  0  0  0  0  0  0  0\\n   -0.6132   -7.3116   -4.3244 C   0  0  0  0  0  0  0  0  0  0  0  0\\n   -1.7967   -7.3188   -3.5698 C   0  0  0  0  0  0  0  0  0  0  0  0\\n   -2.8175   -8.4466   -3.7129 C   0  0  1  0  0  0  0  0  0  0  0  0\\n   -2.2058   -9.8161   -3.3628 C   0  0  0  0  0  0  0  0  0  0  0  0\\n   -3.8629   -8.2421   -2.8221 F   0  0  0  0  0  0  0  0  0  0  0  0\\n   -3.4124   -8.4590   -5.1352 C   0  0  0  0  0  0  0  0  0  0  0  0\\n   -4.3670   -9.4542   -5.2402 F   0  0  0  0  0  0  0  0  0  0  0  0\\n   -4.0038   -7.2404   -5.4438 F   0  0  0  0  0  0  0  0  0  0  0  0\\n   -2.4059   -8.7147   -6.0525 F   0  0  0  0  0  0  0  0  0  0  0  0\\n   -2.0548   -6.2259   -2.7254 C   0  0  0  0  0  0  0  0  0  0  0  0\\n   -1.1689   -5.1372   -2.6490 C   0  0  0  0  0  0  0  0  0  0  0  0\\n   -1.4549   -4.0573   -1.6501 C   0  0  0  0  0  0  0  0  0  0  0  0\\n   -0.1718   -3.5171   -1.0496 C   0  0  0  0  0  0  0  0  0  0  0  0\\n    0.7530   -2.9201   -2.1198 C   0  0  1  0  0  0  0  0  0  0  0  0\\n    3.5518    0.5585    0.1091 C   0  0  0  0  0  0  0  0  0  0  0  0\\n    4.9203    0.9765    0.6884 C   0  0  0  0  0  0  0  0  0  0  0  0\\n    6.0274    0.4135   -0.0947 N   0  0  0  0  0  0  0  0  0  0  0  0\\n    7.5018    1.2997    0.2202 S   0  0  0  0  0  0  0  0  0  0  0  0\\n    7.7405    1.0145    1.9626 C   0  0  0  0  0  0  0  0  0  0  0  0\\n    7.3226    2.7548   -0.1222 O   0  0  0  0  0  0  0  0  0  0  0  0\\n    8.6250    0.7364   -0.6074 O   0  0  0  0  0  0  0  0  0  0  0  0\\n    5.7281    0.4231   -1.5479 C   0  0  0  0  0  0  0  0  0  0  0  0\\n    4.5770   -0.5300   -1.9568 C   0  0  0  0  0  0  0  0  0  0  0  0\\n  2  1  1  0\\n  2  3  1  0\\n  3  4  2  0\\n  3  5  1  0\\n  5  6  1  0\\n  6  7  1  0\\n  7  8  1  0\\n  8  9  1  6\\n  9 10  2  0\\n  9 11  2  0\\n  9 12  1  0\\n 12 13  2  0\\n 13 14  1  0\\n 14 15  2  0\\n 15 16  1  0\\n 15 17  1  0\\n 17 18  2  0\\n  8 19  1  0\\n 19 20  2  0\\n 20 21  1  0\\n 21 22  2  0\\n 22 23  1  0\\n 23 24  1  1\\n 23 25  1  0\\n 23 26  1  0\\n 26 27  1  0\\n 26 28  1  0\\n 26 29  1  0\\n 22 30  1  0\\n 30 31  2  0\\n 31 32  1  0\\n 32 33  1  0\\n 34 33  1  1\\n  2 35  1  0\\n 35 36  1  0\\n 36 37  1  0\\n 37 38  1  0\\n 38 39  1  0\\n 38 40  2  0\\n 38 41  2  0\\n 37 42  1  0\\n 42 43  1  0\\n 18 12  1  0\\n 31 19  1  0\\n  5 34  1  0\\n  8 34  1  0\\n  2 43  1  0\\nM  END\\n\",\"mol1\");\n",
       "\tviewer_1752823250804152.setStyle({\"stick\": {}});\n",
       "\tviewer_1752823250804152.zoomTo();\n",
       "viewer_1752823250804152.render();\n",
       "});\n",
       "</script>"
      ]
     },
     "metadata": {},
     "output_type": "display_data"
    },
    {
     "data": {
      "text/plain": [
       "<py3Dmol.view at 0x7f9ef07f2dd0>"
      ]
     },
     "execution_count": 12,
     "metadata": {},
     "output_type": "execute_result"
    }
   ],
   "source": [
    "MolTo3DView([mol, mol_recon])"
   ]
  },
  {
   "cell_type": "code",
   "execution_count": null,
   "id": "ae4e8467",
   "metadata": {},
   "outputs": [],
   "source": []
  },
  {
   "cell_type": "code",
   "execution_count": null,
   "id": "1ca09280",
   "metadata": {},
   "outputs": [],
   "source": []
  }
 ],
 "metadata": {
  "kernelspec": {
   "display_name": "confseq",
   "language": "python",
   "name": "python3"
  },
  "language_info": {
   "codemirror_mode": {
    "name": "ipython",
    "version": 3
   },
   "file_extension": ".py",
   "mimetype": "text/x-python",
   "name": "python",
   "nbconvert_exporter": "python",
   "pygments_lexer": "ipython3",
   "version": "3.11.0"
  }
 },
 "nbformat": 4,
 "nbformat_minor": 5
}
