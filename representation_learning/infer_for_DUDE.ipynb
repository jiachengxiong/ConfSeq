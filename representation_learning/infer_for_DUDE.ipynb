{
 "cells": [
  {
   "cell_type": "code",
   "execution_count": 1,
   "id": "ad699271-b42f-4a21-9170-3797cd6fdf4c",
   "metadata": {},
   "outputs": [],
   "source": [
    "import os\n",
    "import sys\n",
    "\n",
    "os.environ[\"CUDA_VISIBLE_DEVICES\"] = \"7\"\n",
    "sys.path.append('../') "
   ]
  },
  {
   "cell_type": "code",
   "execution_count": null,
   "id": "567a6322-3936-46ef-9cf5-1c8f57c18a64",
   "metadata": {},
   "outputs": [
    {
     "name": "stderr",
     "output_type": "stream",
     "text": [
      "/home/xiongjiacheng/anaconda3/envs/py38/lib/python3.8/site-packages/tqdm/auto.py:21: TqdmWarning: IProgress not found. Please update jupyter and ipywidgets. See https://ipywidgets.readthedocs.io/en/stable/user_install.html\n",
      "  from .autonotebook import tqdm as notebook_tqdm\n"
     ]
    }
   ],
   "source": [
    "import rdkit\n",
    "from rdkit import Chem\n",
    "from rdkit.Chem import AllChem\n",
    "import numpy as np\n",
    "\n",
    "import random\n",
    "from demo.ConfSeq import get_ConfSeq_pair_from_mol,get_mol_from_ConfSeq_pair,randomize_mol\n",
    "import copy\n",
    "from tqdm import tqdm\n",
    "from rdkit.Chem import rdmolops, rdchem\n",
    "from tqdm.contrib.concurrent import process_map  \n",
    "\n",
    "from torch.utils.data import Dataset, DataLoader\n",
    "from torch.nn.utils.rnn import pad_sequence\n",
    "\n",
    "from transformers import BartForConditionalGeneration, BartConfig\n",
    "from collections import OrderedDict\n",
    "import torch\n",
    "from torch import nn\n",
    "\n",
    "import numpy as np\n",
    "from sklearn.metrics import roc_curve, auc\n",
    "import matplotlib.pyplot as plt\n",
    "\n",
    "from rdkit.ML.Scoring import Scoring\n",
    "import pandas as pd"
   ]
  },
  {
   "cell_type": "code",
   "execution_count": null,
   "id": "77586fbe-68be-4e24-ab8c-714cd57741c4",
   "metadata": {},
   "outputs": [],
   "source": [
    "vocab = [chr(i) for i in range(33, 127)] \n",
    "\n",
    "for i in range(-180,180):\n",
    "    vocab.append('<'+str(i)+'>')\n",
    "\n",
    "vocab.append('<mask>')\n",
    "vocab.append('<unk>')\n",
    "vocab.append('<sos>')\n",
    "vocab.append('<eos>')\n",
    "vocab.append('<pad>')\n",
    "\n",
    "\n",
    "config = BartConfig()\n",
    "\n",
    "config.pad_token_id = vocab.index('<pad>')\n",
    "config.eos_token_id = vocab.index('<eos>')\n",
    "config.sos_token_id = vocab.index('<sos>')\n",
    "config.forced_eos_token_id = None\n",
    "config.encoder_layers = 6\n",
    "config.encoder_attention_heads = 8\n",
    "config.decoder_layers = 0\n",
    "config.decoder_attention_heads = 0\n",
    "config.d_model = 256\n",
    "# config.share_embeddings = True\n",
    "config.vocab_size = len(vocab)\n",
    "\n",
    "\n",
    "vocab_dict = {char: idx for idx, char in enumerate(vocab)}\n",
    "bart = BartForConditionalGeneration(config = config )\n",
    "\n",
    "\n",
    "class CustomBartEncoder(nn.Module):\n",
    "    def __init__(self, bart):\n",
    "        super().__init__()\n",
    "    \n",
    "        self.bart_model = bart \n",
    "        \n",
    "    def forward(self, input_ids, attention_mask=None):\n",
    "        outputs = self.bart_model.model.encoder(input_ids=input_ids, attention_mask=attention_mask)\n",
    "        return outputs.last_hidden_state\n",
    "\n",
    "bart_encoder_model  = CustomBartEncoder(bart)"
   ]
  },
  {
   "cell_type": "code",
   "execution_count": null,
   "id": "0978df1b-4df7-4e9d-904f-14d155a6801e",
   "metadata": {},
   "outputs": [],
   "source": []
  },
  {
   "cell_type": "code",
   "execution_count": null,
   "id": "6077eda4-4b43-4964-b625-fad86614be69",
   "metadata": {},
   "outputs": [],
   "source": [
    "def rm_invalid_chirality(mol):\n",
    "    mol = copy.deepcopy(mol)\n",
    "    rings = rdmolops.GetSymmSSSR(mol)\n",
    "\n",
    "    atom_in_rings_count = {}\n",
    "\n",
    "    for ring in rings:\n",
    "        for atom_idx in ring:\n",
    "            if atom_idx not in atom_in_rings_count:\n",
    "                atom_in_rings_count[atom_idx] = 0\n",
    "            atom_in_rings_count[atom_idx] += 1\n",
    "\n",
    "    atoms_in_3_rings = [atom for atom, count in atom_in_rings_count.items() if count == 3]\n",
    "\n",
    "    for atom_idx in atoms_in_3_rings:\n",
    "        atom = mol.GetAtomWithIdx(atom_idx)\n",
    "        atom.SetChiralTag(rdchem.ChiralType.CHI_UNSPECIFIED)\n",
    "\n",
    "    return mol"
   ]
  },
  {
   "cell_type": "code",
   "execution_count": 5,
   "id": "26e0e75e-1470-4757-b1bd-9f0ce09a0acc",
   "metadata": {},
   "outputs": [],
   "source": [
    "def get_ConfSeq(query_mol):\n",
    "\n",
    "    if query_mol != None:\n",
    "        try:\n",
    "            query_mol = rm_invalid_chirality(query_mol)\n",
    "            query_mol = randomize_mol(query_mol)\n",
    "            Chem.MolToSmiles(query_mol)    \n",
    "            query_mol = Chem.RenumberAtoms(query_mol, eval(query_mol.GetProp('_smilesAtomOutputOrder'))) \n",
    "            Chem.MolToSmiles(query_mol,canonical = False)\n",
    "            query_mol = Chem.RenumberAtoms(query_mol, eval(query_mol.GetProp('_smilesAtomOutputOrder'))) \n",
    "            in_smiles,TD_smiles = get_ConfSeq_pair_from_mol(query_mol)\n",
    "            TD_smiles = TD_smiles.replace('<180>','<-180>')\n",
    "            \n",
    "        except:\n",
    "            in_smiles,TD_smiles = '',''            \n",
    "    else:\n",
    "        in_smiles,TD_smiles = '',''\n",
    "        \n",
    "    return TD_smiles"
   ]
  },
  {
   "cell_type": "code",
   "execution_count": 6,
   "id": "3ebf0abf-df09-4704-a613-953eedd7f7c3",
   "metadata": {},
   "outputs": [],
   "source": [
    "def get_embedding_for_seq(i):\n",
    "    int = [vocab_dict[i] for i in i.split(' ')] \n",
    "    int = torch.Tensor([int]).long()\n",
    "    embed = bart_encoder_model(int).mean(dim=1).tolist()[0]\n",
    "    return embed"
   ]
  },
  {
   "cell_type": "code",
   "execution_count": null,
   "id": "d096fad4-99a1-46d4-90cd-8f65a86edc05",
   "metadata": {},
   "outputs": [],
   "source": [
    "class TensorDataset(Dataset):\n",
    "    def __init__(self, data):\n",
    "        self.data = data\n",
    "\n",
    "    def __len__(self):\n",
    "        return len(self.data)\n",
    "\n",
    "    def __getitem__(self, idx):\n",
    "        return torch.Tensor(self.data[idx]).long()\n",
    "\n",
    "def collate_fn(batch):\n",
    "    data = batch  \n",
    "    padded_data = pad_sequence(data, batch_first=True, padding_value = vocab.index('<pad>'))  \n",
    "    return padded_data\n",
    "\n",
    "\n",
    "def mean_pooling(last_hidden_state, attention_mask):\n",
    "\n",
    "    attention_mask = attention_mask.unsqueeze(-1).expand(last_hidden_state.size())\n",
    "\n",
    "    sum_embeddings = (last_hidden_state * attention_mask).sum(dim=1)\n",
    "    sum_mask = attention_mask.sum(dim=1)\n",
    "\n",
    "    pooled_output = sum_embeddings / (sum_mask + 1e-8)  \n",
    "    return pooled_output"
   ]
  },
  {
   "cell_type": "code",
   "execution_count": null,
   "id": "16b0d3dc-78b6-4746-9b82-83747793ebb7",
   "metadata": {},
   "outputs": [],
   "source": []
  },
  {
   "cell_type": "code",
   "execution_count": 8,
   "id": "1799a6cc-af37-40a5-94a7-95822d81421d",
   "metadata": {},
   "outputs": [],
   "source": [
    "device = torch.device('cuda')"
   ]
  },
  {
   "cell_type": "code",
   "execution_count": null,
   "id": "000dc8ce-7c87-476f-8c6b-82171e01793a",
   "metadata": {
    "scrolled": true
   },
   "outputs": [
    {
     "name": "stderr",
     "output_type": "stream",
     "text": [
      "100%|██████████████████████████████████████████| 485/485 [00:00<00:00, 925.48it/s]\n",
      "100%|█████████████████████████████████████████| 485/485 [00:00<00:00, 1462.78it/s]\n"
     ]
    },
    {
     "name": "stdout",
     "output_type": "stream",
     "text": [
      "actives_seqs length: 485\n"
     ]
    },
    {
     "name": "stderr",
     "output_type": "stream",
     "text": [
      "  0%|                                                   | 0/18219 [00:00<?, ?it/s]/tmp/ipykernel_2731164/2398411433.py:44: TqdmWarning: Iterable length 18219 > 1000 but `chunksize` is not set. This may seriously degrade multiprocess performance. Set `chunksize=1` or more.\n",
      "  decoys_seqs = process_map(get_ConfSeq, tqdm(decoys_mols), max_workers = 32)\n",
      "100%|████████████████████████████████████| 18219/18219 [00:01<00:00, 11001.86it/s]\n",
      "100%|█████████████████████████████████████| 18219/18219 [00:07<00:00, 2320.81it/s]\n"
     ]
    },
    {
     "name": "stdout",
     "output_type": "stream",
     "text": [
      "decoys_seqs length: 18219\n"
     ]
    },
    {
     "name": "stderr",
     "output_type": "stream",
     "text": [
      "100%|██████████████████████████████████████████| 185/185 [00:00<00:00, 240.48it/s]\n",
      "100%|█████████████████████████████████████████| 185/185 [00:00<00:00, 1211.22it/s]\n"
     ]
    },
    {
     "name": "stdout",
     "output_type": "stream",
     "text": [
      "actives_seqs length: 185\n"
     ]
    },
    {
     "name": "stderr",
     "output_type": "stream",
     "text": [
      "  0%|                                                    | 0/6298 [00:00<?, ?it/s]/tmp/ipykernel_2731164/2398411433.py:44: TqdmWarning: Iterable length 6298 > 1000 but `chunksize` is not set. This may seriously degrade multiprocess performance. Set `chunksize=1` or more.\n",
      "  decoys_seqs = process_map(get_ConfSeq, tqdm(decoys_mols), max_workers = 32)\n",
      "100%|███████████████████████████████████████| 6298/6298 [00:01<00:00, 5006.68it/s]\n",
      "100%|███████████████████████████████████████| 6298/6298 [00:02<00:00, 2373.69it/s]\n"
     ]
    },
    {
     "name": "stdout",
     "output_type": "stream",
     "text": [
      "decoys_seqs length: 6298\n"
     ]
    },
    {
     "name": "stderr",
     "output_type": "stream",
     "text": [
      "100%|██████████████████████████████████████████| 251/251 [00:00<00:00, 302.30it/s]\n",
      "100%|█████████████████████████████████████████| 251/251 [00:00<00:00, 1117.96it/s]\n"
     ]
    },
    {
     "name": "stdout",
     "output_type": "stream",
     "text": [
      "actives_seqs length: 251\n"
     ]
    },
    {
     "name": "stderr",
     "output_type": "stream",
     "text": [
      "  0%|                                                   | 0/10094 [00:00<?, ?it/s]/tmp/ipykernel_2731164/2398411433.py:44: TqdmWarning: Iterable length 10094 > 1000 but `chunksize` is not set. This may seriously degrade multiprocess performance. Set `chunksize=1` or more.\n",
      "  decoys_seqs = process_map(get_ConfSeq, tqdm(decoys_mols), max_workers = 32)\n",
      "100%|█████████████████████████████████████| 10094/10094 [00:01<00:00, 6323.70it/s]\n",
      "100%|█████████████████████████████████████| 10094/10094 [00:04<00:00, 2147.99it/s]\n"
     ]
    },
    {
     "name": "stdout",
     "output_type": "stream",
     "text": [
      "decoys_seqs length: 10094\n"
     ]
    },
    {
     "name": "stderr",
     "output_type": "stream",
     "text": [
      "100%|██████████████████████████████████████████| 742/742 [00:00<00:00, 827.88it/s]\n",
      "100%|█████████████████████████████████████████| 742/742 [00:00<00:00, 1870.38it/s]\n"
     ]
    },
    {
     "name": "stdout",
     "output_type": "stream",
     "text": [
      "actives_seqs length: 742\n"
     ]
    },
    {
     "name": "stderr",
     "output_type": "stream",
     "text": [
      "  0%|                                                   | 0/30401 [00:00<?, ?it/s]/tmp/ipykernel_2731164/2398411433.py:44: TqdmWarning: Iterable length 30401 > 1000 but `chunksize` is not set. This may seriously degrade multiprocess performance. Set `chunksize=1` or more.\n",
      "  decoys_seqs = process_map(get_ConfSeq, tqdm(decoys_mols), max_workers = 32)\n",
      "100%|████████████████████████████████████| 30401/30401 [00:02<00:00, 12481.63it/s]\n",
      "100%|█████████████████████████████████████| 30401/30401 [00:11<00:00, 2650.68it/s]\n"
     ]
    },
    {
     "name": "stdout",
     "output_type": "stream",
     "text": [
      "decoys_seqs length: 30401\n"
     ]
    },
    {
     "name": "stderr",
     "output_type": "stream",
     "text": [
      "100%|██████████████████████████████████████████| 201/201 [00:00<00:00, 224.71it/s]\n",
      "100%|█████████████████████████████████████████| 201/201 [00:00<00:00, 1371.64it/s]\n"
     ]
    },
    {
     "name": "stdout",
     "output_type": "stream",
     "text": [
      "actives_seqs length: 201\n"
     ]
    },
    {
     "name": "stderr",
     "output_type": "stream",
     "text": [
      "  0%|                                                    | 0/2723 [00:00<?, ?it/s]/tmp/ipykernel_2731164/2398411433.py:44: TqdmWarning: Iterable length 2723 > 1000 but `chunksize` is not set. This may seriously degrade multiprocess performance. Set `chunksize=1` or more.\n",
      "  decoys_seqs = process_map(get_ConfSeq, tqdm(decoys_mols), max_workers = 32)\n",
      "100%|███████████████████████████████████████| 2723/2723 [00:01<00:00, 2521.17it/s]\n",
      "100%|███████████████████████████████████████| 2723/2723 [00:01<00:00, 2524.88it/s]\n"
     ]
    },
    {
     "name": "stdout",
     "output_type": "stream",
     "text": [
      "decoys_seqs length: 2723\n"
     ]
    },
    {
     "name": "stderr",
     "output_type": "stream",
     "text": [
      "100%|██████████████████████████████████████████| 443/443 [00:00<00:00, 459.71it/s]\n",
      "100%|█████████████████████████████████████████| 443/443 [00:00<00:00, 1568.49it/s]\n"
     ]
    },
    {
     "name": "stdout",
     "output_type": "stream",
     "text": [
      "actives_seqs length: 443\n"
     ]
    },
    {
     "name": "stderr",
     "output_type": "stream",
     "text": [
      "  0%|                                                   | 0/15807 [00:00<?, ?it/s]/tmp/ipykernel_2731164/2398411433.py:44: TqdmWarning: Iterable length 15807 > 1000 but `chunksize` is not set. This may seriously degrade multiprocess performance. Set `chunksize=1` or more.\n",
      "  decoys_seqs = process_map(get_ConfSeq, tqdm(decoys_mols), max_workers = 32)\n",
      "100%|█████████████████████████████████████| 15807/15807 [00:01<00:00, 8017.31it/s]\n",
      "100%|█████████████████████████████████████| 15807/15807 [00:05<00:00, 2708.80it/s]\n"
     ]
    },
    {
     "name": "stdout",
     "output_type": "stream",
     "text": [
      "decoys_seqs length: 15807\n"
     ]
    },
    {
     "name": "stderr",
     "output_type": "stream",
     "text": [
      "100%|██████████████████████████████████████████| 251/251 [00:00<00:00, 280.13it/s]\n",
      "100%|█████████████████████████████████████████| 251/251 [00:00<00:00, 1743.83it/s]\n"
     ]
    },
    {
     "name": "stdout",
     "output_type": "stream",
     "text": [
      "actives_seqs length: 251\n"
     ]
    },
    {
     "name": "stderr",
     "output_type": "stream",
     "text": [
      "  0%|                                                   | 0/10934 [00:00<?, ?it/s]/tmp/ipykernel_2731164/2398411433.py:44: TqdmWarning: Iterable length 10934 > 1000 but `chunksize` is not set. This may seriously degrade multiprocess performance. Set `chunksize=1` or more.\n",
      "  decoys_seqs = process_map(get_ConfSeq, tqdm(decoys_mols), max_workers = 32)\n",
      "100%|█████████████████████████████████████| 10934/10934 [00:01<00:00, 6518.85it/s]\n",
      "100%|█████████████████████████████████████| 10934/10934 [00:04<00:00, 2586.78it/s]\n"
     ]
    },
    {
     "name": "stdout",
     "output_type": "stream",
     "text": [
      "decoys_seqs length: 10934\n"
     ]
    },
    {
     "name": "stderr",
     "output_type": "stream",
     "text": [
      "100%|██████████████████████████████████████████| 132/132 [00:00<00:00, 148.70it/s]\n",
      "100%|█████████████████████████████████████████| 132/132 [00:00<00:00, 1256.37it/s]\n"
     ]
    },
    {
     "name": "stdout",
     "output_type": "stream",
     "text": [
      "actives_seqs length: 132\n"
     ]
    },
    {
     "name": "stderr",
     "output_type": "stream",
     "text": [
      "  0%|                                                    | 0/2865 [00:00<?, ?it/s]/tmp/ipykernel_2731164/2398411433.py:44: TqdmWarning: Iterable length 2865 > 1000 but `chunksize` is not set. This may seriously degrade multiprocess performance. Set `chunksize=1` or more.\n",
      "  decoys_seqs = process_map(get_ConfSeq, tqdm(decoys_mols), max_workers = 32)\n",
      "100%|███████████████████████████████████████| 2865/2865 [00:01<00:00, 2344.32it/s]\n",
      "100%|███████████████████████████████████████| 2865/2865 [00:01<00:00, 2297.21it/s]\n"
     ]
    },
    {
     "name": "stdout",
     "output_type": "stream",
     "text": [
      "decoys_seqs length: 2865\n"
     ]
    },
    {
     "name": "stderr",
     "output_type": "stream",
     "text": [
      "100%|██████████████████████████████████████████| 832/832 [00:00<00:00, 843.60it/s]\n",
      "100%|█████████████████████████████████████████| 832/832 [00:00<00:00, 1583.76it/s]\n"
     ]
    },
    {
     "name": "stdout",
     "output_type": "stream",
     "text": [
      "actives_seqs length: 832\n"
     ]
    },
    {
     "name": "stderr",
     "output_type": "stream",
     "text": [
      "  0%|                                                   | 0/35424 [00:00<?, ?it/s]/tmp/ipykernel_2731164/2398411433.py:44: TqdmWarning: Iterable length 35424 > 1000 but `chunksize` is not set. This may seriously degrade multiprocess performance. Set `chunksize=1` or more.\n",
      "  decoys_seqs = process_map(get_ConfSeq, tqdm(decoys_mols), max_workers = 32)\n",
      "100%|████████████████████████████████████| 35424/35424 [00:02<00:00, 12429.97it/s]\n",
      "100%|█████████████████████████████████████| 35424/35424 [00:15<00:00, 2267.05it/s]\n"
     ]
    },
    {
     "name": "stdout",
     "output_type": "stream",
     "text": [
      "decoys_seqs length: 35424\n"
     ]
    },
    {
     "name": "stderr",
     "output_type": "stream",
     "text": [
      "  0%|                                                    | 0/1038 [00:00<?, ?it/s]/tmp/ipykernel_2731164/2398411433.py:41: TqdmWarning: Iterable length 1038 > 1000 but `chunksize` is not set. This may seriously degrade multiprocess performance. Set `chunksize=1` or more.\n",
      "  actives_seqs = process_map(get_ConfSeq, tqdm(actives_mols), max_workers = 32)\n",
      "100%|████████████████████████████████████████| 1038/1038 [00:01<00:00, 752.90it/s]\n",
      "100%|███████████████████████████████████████| 1038/1038 [00:00<00:00, 1776.95it/s]\n"
     ]
    },
    {
     "name": "stdout",
     "output_type": "stream",
     "text": [
      "actives_seqs length: 1038\n"
     ]
    },
    {
     "name": "stderr",
     "output_type": "stream",
     "text": [
      "  0%|                                                   | 0/37980 [00:00<?, ?it/s]/tmp/ipykernel_2731164/2398411433.py:44: TqdmWarning: Iterable length 37980 > 1000 but `chunksize` is not set. This may seriously degrade multiprocess performance. Set `chunksize=1` or more.\n",
      "  decoys_seqs = process_map(get_ConfSeq, tqdm(decoys_mols), max_workers = 32)\n",
      "100%|████████████████████████████████████| 37980/37980 [00:03<00:00, 12181.92it/s]\n",
      "100%|█████████████████████████████████████| 37980/37980 [00:15<00:00, 2421.09it/s]\n"
     ]
    },
    {
     "name": "stdout",
     "output_type": "stream",
     "text": [
      "decoys_seqs length: 37980\n"
     ]
    },
    {
     "name": "stderr",
     "output_type": "stream",
     "text": [
      "100%|███████████████████████████████████████████| 127/127 [00:01<00:00, 93.07it/s]\n",
      "100%|█████████████████████████████████████████| 127/127 [00:00<00:00, 1124.68it/s]\n"
     ]
    },
    {
     "name": "stdout",
     "output_type": "stream",
     "text": [
      "actives_seqs length: 127\n"
     ]
    },
    {
     "name": "stderr",
     "output_type": "stream",
     "text": [
      "  0%|                                                    | 0/4803 [00:00<?, ?it/s]/tmp/ipykernel_2731164/2398411433.py:44: TqdmWarning: Iterable length 4803 > 1000 but `chunksize` is not set. This may seriously degrade multiprocess performance. Set `chunksize=1` or more.\n",
      "  decoys_seqs = process_map(get_ConfSeq, tqdm(decoys_mols), max_workers = 32)\n",
      "100%|███████████████████████████████████████| 4803/4803 [00:01<00:00, 3149.21it/s]\n",
      "100%|███████████████████████████████████████| 4803/4803 [00:02<00:00, 2126.11it/s]\n"
     ]
    },
    {
     "name": "stdout",
     "output_type": "stream",
     "text": [
      "decoys_seqs length: 4803\n"
     ]
    },
    {
     "name": "stderr",
     "output_type": "stream",
     "text": [
      "100%|██████████████████████████████████████████| 226/226 [00:01<00:00, 173.01it/s]\n",
      "100%|██████████████████████████████████████████| 226/226 [00:00<00:00, 939.76it/s]\n"
     ]
    },
    {
     "name": "stdout",
     "output_type": "stream",
     "text": [
      "actives_seqs length: 226\n"
     ]
    },
    {
     "name": "stderr",
     "output_type": "stream",
     "text": [
      "  0%|                                                    | 0/9406 [00:00<?, ?it/s]/tmp/ipykernel_2731164/2398411433.py:44: TqdmWarning: Iterable length 9406 > 1000 but `chunksize` is not set. This may seriously degrade multiprocess performance. Set `chunksize=1` or more.\n",
      "  decoys_seqs = process_map(get_ConfSeq, tqdm(decoys_mols), max_workers = 32)\n",
      "100%|███████████████████████████████████████| 9406/9406 [00:02<00:00, 4587.72it/s]\n",
      "100%|███████████████████████████████████████| 9406/9406 [00:04<00:00, 1977.89it/s]\n"
     ]
    },
    {
     "name": "stdout",
     "output_type": "stream",
     "text": [
      "decoys_seqs length: 9406\n"
     ]
    },
    {
     "name": "stderr",
     "output_type": "stream",
     "text": [
      "100%|██████████████████████████████████████████| 683/683 [00:01<00:00, 519.23it/s]\n",
      "100%|█████████████████████████████████████████| 683/683 [00:00<00:00, 1343.12it/s]\n"
     ]
    },
    {
     "name": "stdout",
     "output_type": "stream",
     "text": [
      "actives_seqs length: 683\n"
     ]
    },
    {
     "name": "stderr",
     "output_type": "stream",
     "text": [
      "  0%|                                                   | 0/27840 [00:00<?, ?it/s]/tmp/ipykernel_2731164/2398411433.py:44: TqdmWarning: Iterable length 27840 > 1000 but `chunksize` is not set. This may seriously degrade multiprocess performance. Set `chunksize=1` or more.\n",
      "  decoys_seqs = process_map(get_ConfSeq, tqdm(decoys_mols), max_workers = 32)\n",
      "100%|█████████████████████████████████████| 27840/27840 [00:02<00:00, 9709.16it/s]\n",
      "100%|█████████████████████████████████████| 27840/27840 [00:13<00:00, 2124.69it/s]\n"
     ]
    },
    {
     "name": "stdout",
     "output_type": "stream",
     "text": [
      "decoys_seqs length: 27840\n"
     ]
    },
    {
     "name": "stderr",
     "output_type": "stream",
     "text": [
      "100%|██████████████████████████████████████████| 202/202 [00:01<00:00, 157.58it/s]\n",
      "100%|█████████████████████████████████████████| 202/202 [00:00<00:00, 1354.22it/s]\n"
     ]
    },
    {
     "name": "stdout",
     "output_type": "stream",
     "text": [
      "actives_seqs length: 202\n"
     ]
    },
    {
     "name": "stderr",
     "output_type": "stream",
     "text": [
      "  0%|                                                    | 0/6372 [00:00<?, ?it/s]/tmp/ipykernel_2731164/2398411433.py:44: TqdmWarning: Iterable length 6372 > 1000 but `chunksize` is not set. This may seriously degrade multiprocess performance. Set `chunksize=1` or more.\n",
      "  decoys_seqs = process_map(get_ConfSeq, tqdm(decoys_mols), max_workers = 32)\n",
      "100%|███████████████████████████████████████| 6372/6372 [00:01<00:00, 3403.76it/s]\n",
      "100%|███████████████████████████████████████| 6372/6372 [00:02<00:00, 2807.81it/s]\n"
     ]
    },
    {
     "name": "stdout",
     "output_type": "stream",
     "text": [
      "decoys_seqs length: 6372\n"
     ]
    },
    {
     "name": "stderr",
     "output_type": "stream",
     "text": [
      "100%|██████████████████████████████████████████| 620/620 [00:01<00:00, 477.02it/s]\n",
      "100%|█████████████████████████████████████████| 620/620 [00:00<00:00, 1354.22it/s]\n"
     ]
    },
    {
     "name": "stdout",
     "output_type": "stream",
     "text": [
      "actives_seqs length: 620\n"
     ]
    },
    {
     "name": "stderr",
     "output_type": "stream",
     "text": [
      "  0%|                                                   | 0/25260 [00:00<?, ?it/s]/tmp/ipykernel_2731164/2398411433.py:44: TqdmWarning: Iterable length 25260 > 1000 but `chunksize` is not set. This may seriously degrade multiprocess performance. Set `chunksize=1` or more.\n",
      "  decoys_seqs = process_map(get_ConfSeq, tqdm(decoys_mols), max_workers = 32)\n",
      "100%|█████████████████████████████████████| 25260/25260 [00:02<00:00, 9608.09it/s]\n",
      "100%|█████████████████████████████████████| 25260/25260 [00:10<00:00, 2314.57it/s]\n"
     ]
    },
    {
     "name": "stdout",
     "output_type": "stream",
     "text": [
      "decoys_seqs length: 25260\n"
     ]
    },
    {
     "name": "stderr",
     "output_type": "stream",
     "text": [
      "100%|██████████████████████████████████████████| 273/273 [00:01<00:00, 208.12it/s]\n",
      "100%|█████████████████████████████████████████| 273/273 [00:00<00:00, 1278.80it/s]\n"
     ]
    },
    {
     "name": "stdout",
     "output_type": "stream",
     "text": [
      "actives_seqs length: 273\n"
     ]
    },
    {
     "name": "stderr",
     "output_type": "stream",
     "text": [
      "  0%|                                                    | 0/5832 [00:00<?, ?it/s]/tmp/ipykernel_2731164/2398411433.py:44: TqdmWarning: Iterable length 5832 > 1000 but `chunksize` is not set. This may seriously degrade multiprocess performance. Set `chunksize=1` or more.\n",
      "  decoys_seqs = process_map(get_ConfSeq, tqdm(decoys_mols), max_workers = 32)\n",
      "100%|███████████████████████████████████████| 5832/5832 [00:01<00:00, 3289.64it/s]\n",
      "100%|███████████████████████████████████████| 5832/5832 [00:02<00:00, 2239.14it/s]\n"
     ]
    },
    {
     "name": "stdout",
     "output_type": "stream",
     "text": [
      "decoys_seqs length: 5832\n"
     ]
    },
    {
     "name": "stderr",
     "output_type": "stream",
     "text": [
      "100%|██████████████████████████████████████████| 242/242 [00:01<00:00, 180.96it/s]\n",
      "100%|█████████████████████████████████████████| 242/242 [00:00<00:00, 1223.64it/s]\n"
     ]
    },
    {
     "name": "stdout",
     "output_type": "stream",
     "text": [
      "actives_seqs length: 242\n"
     ]
    },
    {
     "name": "stderr",
     "output_type": "stream",
     "text": [
      "100%|██████████████████████████████████████████| 494/494 [00:01<00:00, 376.51it/s]\n",
      "100%|█████████████████████████████████████████| 494/494 [00:00<00:00, 1387.54it/s]\n"
     ]
    },
    {
     "name": "stdout",
     "output_type": "stream",
     "text": [
      "decoys_seqs length: 494\n"
     ]
    },
    {
     "name": "stderr",
     "output_type": "stream",
     "text": [
      "100%|██████████████████████████████████████████| 161/161 [00:01<00:00, 119.69it/s]\n",
      "100%|█████████████████████████████████████████| 161/161 [00:00<00:00, 1568.88it/s]\n"
     ]
    },
    {
     "name": "stdout",
     "output_type": "stream",
     "text": [
      "actives_seqs length: 161\n"
     ]
    },
    {
     "name": "stderr",
     "output_type": "stream",
     "text": [
      "  0%|                                                    | 0/5737 [00:00<?, ?it/s]/tmp/ipykernel_2731164/2398411433.py:44: TqdmWarning: Iterable length 5737 > 1000 but `chunksize` is not set. This may seriously degrade multiprocess performance. Set `chunksize=1` or more.\n",
      "  decoys_seqs = process_map(get_ConfSeq, tqdm(decoys_mols), max_workers = 32)\n",
      "100%|███████████████████████████████████████| 5737/5737 [00:01<00:00, 3263.70it/s]\n",
      "100%|███████████████████████████████████████| 5737/5737 [00:02<00:00, 2707.42it/s]\n"
     ]
    },
    {
     "name": "stdout",
     "output_type": "stream",
     "text": [
      "decoys_seqs length: 5737\n"
     ]
    },
    {
     "name": "stderr",
     "output_type": "stream",
     "text": [
      "100%|██████████████████████████████████████████| 234/234 [00:01<00:00, 182.51it/s]\n",
      "100%|█████████████████████████████████████████| 234/234 [00:00<00:00, 1650.42it/s]\n"
     ]
    },
    {
     "name": "stdout",
     "output_type": "stream",
     "text": [
      "actives_seqs length: 234\n"
     ]
    },
    {
     "name": "stderr",
     "output_type": "stream",
     "text": [
      "  0%|                                                    | 0/8065 [00:00<?, ?it/s]/tmp/ipykernel_2731164/2398411433.py:44: TqdmWarning: Iterable length 8065 > 1000 but `chunksize` is not set. This may seriously degrade multiprocess performance. Set `chunksize=1` or more.\n",
      "  decoys_seqs = process_map(get_ConfSeq, tqdm(decoys_mols), max_workers = 32)\n",
      "100%|███████████████████████████████████████| 8065/8065 [00:01<00:00, 4462.79it/s]\n",
      "100%|███████████████████████████████████████| 8065/8065 [00:02<00:00, 2841.86it/s]\n"
     ]
    },
    {
     "name": "stdout",
     "output_type": "stream",
     "text": [
      "decoys_seqs length: 8065\n"
     ]
    },
    {
     "name": "stderr",
     "output_type": "stream",
     "text": [
      "100%|███████████████████████████████████████████| 127/127 [00:01<00:00, 94.83it/s]\n",
      "100%|█████████████████████████████████████████| 127/127 [00:00<00:00, 1165.39it/s]\n"
     ]
    },
    {
     "name": "stdout",
     "output_type": "stream",
     "text": [
      "actives_seqs length: 127\n"
     ]
    },
    {
     "name": "stderr",
     "output_type": "stream",
     "text": [
      "  0%|                                                    | 0/5214 [00:00<?, ?it/s]/tmp/ipykernel_2731164/2398411433.py:44: TqdmWarning: Iterable length 5214 > 1000 but `chunksize` is not set. This may seriously degrade multiprocess performance. Set `chunksize=1` or more.\n",
      "  decoys_seqs = process_map(get_ConfSeq, tqdm(decoys_mols), max_workers = 32)\n",
      "100%|███████████████████████████████████████| 5214/5214 [00:01<00:00, 3463.45it/s]\n",
      "100%|███████████████████████████████████████| 5214/5214 [00:02<00:00, 2312.45it/s]\n"
     ]
    },
    {
     "name": "stdout",
     "output_type": "stream",
     "text": [
      "decoys_seqs length: 5214\n"
     ]
    },
    {
     "name": "stderr",
     "output_type": "stream",
     "text": [
      "100%|█████████████████████████████████████████████| 86/86 [00:01<00:00, 65.67it/s]\n",
      "100%|███████████████████████████████████████████| 86/86 [00:00<00:00, 1324.98it/s]\n"
     ]
    },
    {
     "name": "stdout",
     "output_type": "stream",
     "text": [
      "actives_seqs length: 86\n"
     ]
    },
    {
     "name": "stderr",
     "output_type": "stream",
     "text": [
      "  0%|                                                    | 0/3924 [00:00<?, ?it/s]/tmp/ipykernel_2731164/2398411433.py:44: TqdmWarning: Iterable length 3924 > 1000 but `chunksize` is not set. This may seriously degrade multiprocess performance. Set `chunksize=1` or more.\n",
      "  decoys_seqs = process_map(get_ConfSeq, tqdm(decoys_mols), max_workers = 32)\n",
      "100%|███████████████████████████████████████| 3924/3924 [00:01<00:00, 2476.90it/s]\n",
      "100%|███████████████████████████████████████| 3924/3924 [00:01<00:00, 2715.29it/s]\n"
     ]
    },
    {
     "name": "stdout",
     "output_type": "stream",
     "text": [
      "decoys_seqs length: 3924\n"
     ]
    },
    {
     "name": "stderr",
     "output_type": "stream",
     "text": [
      "100%|██████████████████████████████████████████| 297/297 [00:01<00:00, 226.71it/s]\n",
      "100%|█████████████████████████████████████████| 297/297 [00:00<00:00, 1716.54it/s]\n"
     ]
    },
    {
     "name": "stdout",
     "output_type": "stream",
     "text": [
      "actives_seqs length: 297\n"
     ]
    },
    {
     "name": "stderr",
     "output_type": "stream",
     "text": [
      "  0%|                                                   | 0/12054 [00:00<?, ?it/s]/tmp/ipykernel_2731164/2398411433.py:44: TqdmWarning: Iterable length 12054 > 1000 but `chunksize` is not set. This may seriously degrade multiprocess performance. Set `chunksize=1` or more.\n",
      "  decoys_seqs = process_map(get_ConfSeq, tqdm(decoys_mols), max_workers = 32)\n",
      "100%|█████████████████████████████████████| 12054/12054 [00:02<00:00, 5523.34it/s]\n",
      "100%|█████████████████████████████████████| 12054/12054 [00:04<00:00, 2874.93it/s]\n"
     ]
    },
    {
     "name": "stdout",
     "output_type": "stream",
     "text": [
      "decoys_seqs length: 12054\n"
     ]
    },
    {
     "name": "stderr",
     "output_type": "stream",
     "text": [
      "100%|██████████████████████████████████████████| 624/624 [00:01<00:00, 473.50it/s]\n",
      "100%|█████████████████████████████████████████| 624/624 [00:00<00:00, 1489.00it/s]\n"
     ]
    },
    {
     "name": "stdout",
     "output_type": "stream",
     "text": [
      "actives_seqs length: 624\n"
     ]
    },
    {
     "name": "stderr",
     "output_type": "stream",
     "text": [
      "  0%|                                                   | 0/20803 [00:00<?, ?it/s]/tmp/ipykernel_2731164/2398411433.py:44: TqdmWarning: Iterable length 20803 > 1000 but `chunksize` is not set. This may seriously degrade multiprocess performance. Set `chunksize=1` or more.\n",
      "  decoys_seqs = process_map(get_ConfSeq, tqdm(decoys_mols), max_workers = 32)\n",
      "100%|█████████████████████████████████████| 20803/20803 [00:02<00:00, 7780.42it/s]\n",
      "100%|█████████████████████████████████████| 20803/20803 [00:08<00:00, 2378.25it/s]\n"
     ]
    },
    {
     "name": "stdout",
     "output_type": "stream",
     "text": [
      "decoys_seqs length: 20803\n"
     ]
    },
    {
     "name": "stderr",
     "output_type": "stream",
     "text": [
      "100%|██████████████████████████████████████████| 311/311 [00:01<00:00, 240.26it/s]\n",
      "100%|█████████████████████████████████████████| 311/311 [00:00<00:00, 1393.62it/s]\n"
     ]
    },
    {
     "name": "stdout",
     "output_type": "stream",
     "text": [
      "actives_seqs length: 311\n"
     ]
    },
    {
     "name": "stderr",
     "output_type": "stream",
     "text": [
      "  0%|                                                    | 0/6878 [00:00<?, ?it/s]/tmp/ipykernel_2731164/2398411433.py:44: TqdmWarning: Iterable length 6878 > 1000 but `chunksize` is not set. This may seriously degrade multiprocess performance. Set `chunksize=1` or more.\n",
      "  decoys_seqs = process_map(get_ConfSeq, tqdm(decoys_mols), max_workers = 32)\n",
      "100%|███████████████████████████████████████| 6878/6878 [00:01<00:00, 3821.09it/s]\n",
      "100%|███████████████████████████████████████| 6878/6878 [00:02<00:00, 2311.57it/s]\n"
     ]
    },
    {
     "name": "stdout",
     "output_type": "stream",
     "text": [
      "decoys_seqs length: 6878\n"
     ]
    },
    {
     "name": "stderr",
     "output_type": "stream",
     "text": [
      "100%|██████████████████████████████████████████| 387/387 [00:01<00:00, 299.01it/s]\n",
      "100%|█████████████████████████████████████████| 387/387 [00:00<00:00, 1284.43it/s]\n"
     ]
    },
    {
     "name": "stdout",
     "output_type": "stream",
     "text": [
      "actives_seqs length: 387\n"
     ]
    },
    {
     "name": "stderr",
     "output_type": "stream",
     "text": [
      "  0%|                                                    | 0/6984 [00:00<?, ?it/s]/tmp/ipykernel_2731164/2398411433.py:44: TqdmWarning: Iterable length 6984 > 1000 but `chunksize` is not set. This may seriously degrade multiprocess performance. Set `chunksize=1` or more.\n",
      "  decoys_seqs = process_map(get_ConfSeq, tqdm(decoys_mols), max_workers = 32)\n",
      "100%|███████████████████████████████████████| 6984/6984 [00:01<00:00, 3659.74it/s]\n",
      "100%|███████████████████████████████████████| 6984/6984 [00:03<00:00, 2176.84it/s]\n"
     ]
    },
    {
     "name": "stdout",
     "output_type": "stream",
     "text": [
      "decoys_seqs length: 6984\n"
     ]
    },
    {
     "name": "stderr",
     "output_type": "stream",
     "text": [
      "100%|█████████████████████████████████████████████| 62/62 [00:01<00:00, 46.41it/s]\n",
      "100%|███████████████████████████████████████████| 62/62 [00:00<00:00, 1086.71it/s]\n"
     ]
    },
    {
     "name": "stdout",
     "output_type": "stream",
     "text": [
      "actives_seqs length: 62\n"
     ]
    },
    {
     "name": "stderr",
     "output_type": "stream",
     "text": [
      "  0%|                                                    | 0/2901 [00:00<?, ?it/s]/tmp/ipykernel_2731164/2398411433.py:44: TqdmWarning: Iterable length 2901 > 1000 but `chunksize` is not set. This may seriously degrade multiprocess performance. Set `chunksize=1` or more.\n",
      "  decoys_seqs = process_map(get_ConfSeq, tqdm(decoys_mols), max_workers = 32)\n",
      "100%|███████████████████████████████████████| 2901/2901 [00:01<00:00, 1774.52it/s]\n",
      "100%|███████████████████████████████████████| 2901/2901 [00:00<00:00, 3028.25it/s]\n"
     ]
    },
    {
     "name": "stdout",
     "output_type": "stream",
     "text": [
      "decoys_seqs length: 2901\n"
     ]
    },
    {
     "name": "stderr",
     "output_type": "stream",
     "text": [
      "100%|██████████████████████████████████████████| 281/281 [00:01<00:00, 199.01it/s]\n",
      "100%|█████████████████████████████████████████| 281/281 [00:00<00:00, 1269.74it/s]\n"
     ]
    },
    {
     "name": "stdout",
     "output_type": "stream",
     "text": [
      "actives_seqs length: 281\n"
     ]
    },
    {
     "name": "stderr",
     "output_type": "stream",
     "text": [
      "  0%|                                                    | 0/8666 [00:00<?, ?it/s]/tmp/ipykernel_2731164/2398411433.py:44: TqdmWarning: Iterable length 8666 > 1000 but `chunksize` is not set. This may seriously degrade multiprocess performance. Set `chunksize=1` or more.\n",
      "  decoys_seqs = process_map(get_ConfSeq, tqdm(decoys_mols), max_workers = 32)\n",
      "100%|███████████████████████████████████████| 8666/8666 [00:02<00:00, 4268.06it/s]\n",
      "100%|███████████████████████████████████████| 8666/8666 [00:03<00:00, 2510.25it/s]\n"
     ]
    },
    {
     "name": "stdout",
     "output_type": "stream",
     "text": [
      "decoys_seqs length: 8666\n"
     ]
    },
    {
     "name": "stderr",
     "output_type": "stream",
     "text": [
      "100%|██████████████████████████████████████████| 206/206 [00:01<00:00, 135.13it/s]\n",
      "100%|█████████████████████████████████████████| 206/206 [00:00<00:00, 1287.65it/s]\n"
     ]
    },
    {
     "name": "stdout",
     "output_type": "stream",
     "text": [
      "actives_seqs length: 206\n"
     ]
    },
    {
     "name": "stderr",
     "output_type": "stream",
     "text": [
      "  0%|                                                    | 0/6239 [00:00<?, ?it/s]/tmp/ipykernel_2731164/2398411433.py:44: TqdmWarning: Iterable length 6239 > 1000 but `chunksize` is not set. This may seriously degrade multiprocess performance. Set `chunksize=1` or more.\n",
      "  decoys_seqs = process_map(get_ConfSeq, tqdm(decoys_mols), max_workers = 32)\n",
      "100%|███████████████████████████████████████| 6239/6239 [00:01<00:00, 3376.69it/s]\n",
      "100%|███████████████████████████████████████| 6239/6239 [00:02<00:00, 2528.92it/s]\n"
     ]
    },
    {
     "name": "stdout",
     "output_type": "stream",
     "text": [
      "decoys_seqs length: 6239\n"
     ]
    },
    {
     "name": "stderr",
     "output_type": "stream",
     "text": [
      "  0%|                                                    | 0/1395 [00:00<?, ?it/s]/tmp/ipykernel_2731164/2398411433.py:41: TqdmWarning: Iterable length 1395 > 1000 but `chunksize` is not set. This may seriously degrade multiprocess performance. Set `chunksize=1` or more.\n",
      "  actives_seqs = process_map(get_ConfSeq, tqdm(actives_mols), max_workers = 32)\n",
      "100%|████████████████████████████████████████| 1395/1395 [00:01<00:00, 964.34it/s]\n",
      "100%|███████████████████████████████████████| 1395/1395 [00:00<00:00, 1533.69it/s]\n"
     ]
    },
    {
     "name": "stdout",
     "output_type": "stream",
     "text": [
      "actives_seqs length: 1395\n"
     ]
    },
    {
     "name": "stderr",
     "output_type": "stream",
     "text": [
      "  0%|                                                   | 0/36268 [00:00<?, ?it/s]/tmp/ipykernel_2731164/2398411433.py:44: TqdmWarning: Iterable length 36268 > 1000 but `chunksize` is not set. This may seriously degrade multiprocess performance. Set `chunksize=1` or more.\n",
      "  decoys_seqs = process_map(get_ConfSeq, tqdm(decoys_mols), max_workers = 32)\n",
      "100%|████████████████████████████████████| 36268/36268 [00:03<00:00, 11711.95it/s]\n",
      "100%|█████████████████████████████████████| 36268/36268 [00:15<00:00, 2302.36it/s]\n"
     ]
    },
    {
     "name": "stdout",
     "output_type": "stream",
     "text": [
      "decoys_seqs length: 36268\n"
     ]
    },
    {
     "name": "stderr",
     "output_type": "stream",
     "text": [
      "100%|██████████████████████████████████████████| 350/350 [00:01<00:00, 214.15it/s]\n",
      "100%|█████████████████████████████████████████| 350/350 [00:00<00:00, 1464.93it/s]\n"
     ]
    },
    {
     "name": "stdout",
     "output_type": "stream",
     "text": [
      "actives_seqs length: 350\n"
     ]
    },
    {
     "name": "stderr",
     "output_type": "stream",
     "text": [
      "  0%|                                                   | 0/10817 [00:00<?, ?it/s]/tmp/ipykernel_2731164/2398411433.py:44: TqdmWarning: Iterable length 10817 > 1000 but `chunksize` is not set. This may seriously degrade multiprocess performance. Set `chunksize=1` or more.\n",
      "  decoys_seqs = process_map(get_ConfSeq, tqdm(decoys_mols), max_workers = 32)\n",
      "100%|█████████████████████████████████████| 10817/10817 [00:02<00:00, 3747.06it/s]\n",
      "100%|█████████████████████████████████████| 10817/10817 [00:04<00:00, 2337.96it/s]\n"
     ]
    },
    {
     "name": "stdout",
     "output_type": "stream",
     "text": [
      "decoys_seqs length: 10817\n"
     ]
    },
    {
     "name": "stderr",
     "output_type": "stream",
     "text": [
      "100%|███████████████████████████████████████████| 129/129 [00:01<00:00, 79.93it/s]\n",
      "100%|██████████████████████████████████████████| 129/129 [00:00<00:00, 924.14it/s]\n"
     ]
    },
    {
     "name": "stdout",
     "output_type": "stream",
     "text": [
      "actives_seqs length: 129\n"
     ]
    },
    {
     "name": "stderr",
     "output_type": "stream",
     "text": [
      "  0%|                                                    | 0/5213 [00:00<?, ?it/s]/tmp/ipykernel_2731164/2398411433.py:44: TqdmWarning: Iterable length 5213 > 1000 but `chunksize` is not set. This may seriously degrade multiprocess performance. Set `chunksize=1` or more.\n",
      "  decoys_seqs = process_map(get_ConfSeq, tqdm(decoys_mols), max_workers = 32)\n",
      "100%|███████████████████████████████████████| 5213/5213 [00:02<00:00, 2518.16it/s]\n",
      "100%|███████████████████████████████████████| 5213/5213 [00:02<00:00, 2153.25it/s]\n"
     ]
    },
    {
     "name": "stdout",
     "output_type": "stream",
     "text": [
      "decoys_seqs length: 5213\n"
     ]
    },
    {
     "name": "stderr",
     "output_type": "stream",
     "text": [
      "100%|██████████████████████████████████████████| 808/808 [00:01<00:00, 515.61it/s]\n",
      "100%|█████████████████████████████████████████| 808/808 [00:00<00:00, 1931.56it/s]\n"
     ]
    },
    {
     "name": "stdout",
     "output_type": "stream",
     "text": [
      "actives_seqs length: 808\n"
     ]
    },
    {
     "name": "stderr",
     "output_type": "stream",
     "text": [
      "  0%|                                                   | 0/17135 [00:00<?, ?it/s]/tmp/ipykernel_2731164/2398411433.py:44: TqdmWarning: Iterable length 17135 > 1000 but `chunksize` is not set. This may seriously degrade multiprocess performance. Set `chunksize=1` or more.\n",
      "  decoys_seqs = process_map(get_ConfSeq, tqdm(decoys_mols), max_workers = 32)\n",
      "100%|█████████████████████████████████████| 17135/17135 [00:02<00:00, 6041.85it/s]\n",
      "100%|█████████████████████████████████████| 17135/17135 [00:06<00:00, 2666.17it/s]\n"
     ]
    },
    {
     "name": "stdout",
     "output_type": "stream",
     "text": [
      "decoys_seqs length: 17135\n"
     ]
    },
    {
     "name": "stderr",
     "output_type": "stream",
     "text": [
      "  0%|                                                    | 0/1078 [00:00<?, ?it/s]/tmp/ipykernel_2731164/2398411433.py:41: TqdmWarning: Iterable length 1078 > 1000 but `chunksize` is not set. This may seriously degrade multiprocess performance. Set `chunksize=1` or more.\n",
      "  actives_seqs = process_map(get_ConfSeq, tqdm(actives_mols), max_workers = 32)\n",
      "100%|████████████████████████████████████████| 1078/1078 [00:01<00:00, 704.60it/s]\n",
      "100%|███████████████████████████████████████| 1078/1078 [00:00<00:00, 2033.68it/s]\n"
     ]
    },
    {
     "name": "stdout",
     "output_type": "stream",
     "text": [
      "actives_seqs length: 1078\n"
     ]
    },
    {
     "name": "stderr",
     "output_type": "stream",
     "text": [
      "  0%|                                                   | 0/41339 [00:00<?, ?it/s]/tmp/ipykernel_2731164/2398411433.py:44: TqdmWarning: Iterable length 41339 > 1000 but `chunksize` is not set. This may seriously degrade multiprocess performance. Set `chunksize=1` or more.\n",
      "  decoys_seqs = process_map(get_ConfSeq, tqdm(decoys_mols), max_workers = 32)\n",
      "100%|████████████████████████████████████| 41339/41339 [00:03<00:00, 11928.08it/s]\n",
      "100%|█████████████████████████████████████| 41339/41339 [00:15<00:00, 2584.17it/s]\n"
     ]
    },
    {
     "name": "stdout",
     "output_type": "stream",
     "text": [
      "decoys_seqs length: 41339\n"
     ]
    },
    {
     "name": "stderr",
     "output_type": "stream",
     "text": [
      "100%|██████████████████████████████████████████| 153/153 [00:01<00:00, 107.55it/s]\n",
      "100%|█████████████████████████████████████████| 153/153 [00:00<00:00, 1036.10it/s]\n"
     ]
    },
    {
     "name": "stdout",
     "output_type": "stream",
     "text": [
      "actives_seqs length: 153\n"
     ]
    },
    {
     "name": "stderr",
     "output_type": "stream",
     "text": [
      "  0%|                                                    | 0/6585 [00:00<?, ?it/s]/tmp/ipykernel_2731164/2398411433.py:44: TqdmWarning: Iterable length 6585 > 1000 but `chunksize` is not set. This may seriously degrade multiprocess performance. Set `chunksize=1` or more.\n",
      "  decoys_seqs = process_map(get_ConfSeq, tqdm(decoys_mols), max_workers = 32)\n",
      "100%|███████████████████████████████████████| 6585/6585 [00:02<00:00, 2962.28it/s]\n",
      "100%|███████████████████████████████████████| 6585/6585 [00:03<00:00, 2123.44it/s]\n"
     ]
    },
    {
     "name": "stdout",
     "output_type": "stream",
     "text": [
      "decoys_seqs length: 6585\n"
     ]
    },
    {
     "name": "stderr",
     "output_type": "stream",
     "text": [
      "100%|██████████████████████████████████████████| 562/562 [00:01<00:00, 394.63it/s]\n",
      "100%|█████████████████████████████████████████| 562/562 [00:00<00:00, 1237.11it/s]\n"
     ]
    },
    {
     "name": "stdout",
     "output_type": "stream",
     "text": [
      "actives_seqs length: 562\n"
     ]
    },
    {
     "name": "stderr",
     "output_type": "stream",
     "text": [
      "  0%|                                                   | 0/15176 [00:00<?, ?it/s]/tmp/ipykernel_2731164/2398411433.py:44: TqdmWarning: Iterable length 15176 > 1000 but `chunksize` is not set. This may seriously degrade multiprocess performance. Set `chunksize=1` or more.\n",
      "  decoys_seqs = process_map(get_ConfSeq, tqdm(decoys_mols), max_workers = 32)\n",
      "100%|█████████████████████████████████████| 15176/15176 [00:02<00:00, 6417.98it/s]\n",
      "100%|█████████████████████████████████████| 15176/15176 [00:06<00:00, 2471.01it/s]\n"
     ]
    },
    {
     "name": "stdout",
     "output_type": "stream",
     "text": [
      "decoys_seqs length: 15176\n"
     ]
    },
    {
     "name": "stderr",
     "output_type": "stream",
     "text": [
      "100%|██████████████████████████████████████████| 519/519 [00:01<00:00, 317.90it/s]\n",
      "100%|█████████████████████████████████████████| 519/519 [00:00<00:00, 1532.01it/s]\n"
     ]
    },
    {
     "name": "stdout",
     "output_type": "stream",
     "text": [
      "actives_seqs length: 519\n"
     ]
    },
    {
     "name": "stderr",
     "output_type": "stream",
     "text": [
      "  0%|                                                   | 0/19606 [00:00<?, ?it/s]/tmp/ipykernel_2731164/2398411433.py:44: TqdmWarning: Iterable length 19606 > 1000 but `chunksize` is not set. This may seriously degrade multiprocess performance. Set `chunksize=1` or more.\n",
      "  decoys_seqs = process_map(get_ConfSeq, tqdm(decoys_mols), max_workers = 32)\n",
      "100%|█████████████████████████████████████| 19606/19606 [00:02<00:00, 7938.41it/s]\n",
      "100%|█████████████████████████████████████| 19606/19606 [00:08<00:00, 2390.74it/s]\n"
     ]
    },
    {
     "name": "stdout",
     "output_type": "stream",
     "text": [
      "decoys_seqs length: 19606\n"
     ]
    },
    {
     "name": "stderr",
     "output_type": "stream",
     "text": [
      "100%|██████████████████████████████████████████| 798/798 [00:01<00:00, 576.72it/s]\n",
      "100%|█████████████████████████████████████████| 798/798 [00:00<00:00, 1674.94it/s]\n"
     ]
    },
    {
     "name": "stdout",
     "output_type": "stream",
     "text": [
      "actives_seqs length: 798\n"
     ]
    },
    {
     "name": "stderr",
     "output_type": "stream",
     "text": [
      "  0%|                                                   | 0/28312 [00:00<?, ?it/s]/tmp/ipykernel_2731164/2398411433.py:44: TqdmWarning: Iterable length 28312 > 1000 but `chunksize` is not set. This may seriously degrade multiprocess performance. Set `chunksize=1` or more.\n",
      "  decoys_seqs = process_map(get_ConfSeq, tqdm(decoys_mols), max_workers = 32)\n",
      "100%|█████████████████████████████████████| 28312/28312 [00:03<00:00, 9144.45it/s]\n",
      "100%|█████████████████████████████████████| 28312/28312 [00:11<00:00, 2473.10it/s]\n"
     ]
    },
    {
     "name": "stdout",
     "output_type": "stream",
     "text": [
      "decoys_seqs length: 28312\n"
     ]
    },
    {
     "name": "stderr",
     "output_type": "stream",
     "text": [
      "100%|██████████████████████████████████████████| 313/313 [00:01<00:00, 229.17it/s]\n",
      "100%|█████████████████████████████████████████| 313/313 [00:00<00:00, 1734.15it/s]\n"
     ]
    },
    {
     "name": "stdout",
     "output_type": "stream",
     "text": [
      "actives_seqs length: 313\n"
     ]
    },
    {
     "name": "stderr",
     "output_type": "stream",
     "text": [
      "  0%|                                                    | 0/3837 [00:00<?, ?it/s]/tmp/ipykernel_2731164/2398411433.py:44: TqdmWarning: Iterable length 3837 > 1000 but `chunksize` is not set. This may seriously degrade multiprocess performance. Set `chunksize=1` or more.\n",
      "  decoys_seqs = process_map(get_ConfSeq, tqdm(decoys_mols), max_workers = 32)\n",
      "100%|███████████████████████████████████████| 3837/3837 [00:01<00:00, 2552.78it/s]\n",
      "100%|███████████████████████████████████████| 3837/3837 [00:01<00:00, 2645.56it/s]\n"
     ]
    },
    {
     "name": "stdout",
     "output_type": "stream",
     "text": [
      "decoys_seqs length: 3837\n"
     ]
    },
    {
     "name": "stderr",
     "output_type": "stream",
     "text": [
      "100%|█████████████████████████████████████████████| 71/71 [00:01<00:00, 50.84it/s]\n",
      "100%|████████████████████████████████████████████| 71/71 [00:00<00:00, 923.75it/s]\n"
     ]
    },
    {
     "name": "stdout",
     "output_type": "stream",
     "text": [
      "actives_seqs length: 71\n"
     ]
    },
    {
     "name": "stderr",
     "output_type": "stream",
     "text": [
      "  0%|                                                    | 0/2318 [00:00<?, ?it/s]/tmp/ipykernel_2731164/2398411433.py:44: TqdmWarning: Iterable length 2318 > 1000 but `chunksize` is not set. This may seriously degrade multiprocess performance. Set `chunksize=1` or more.\n",
      "  decoys_seqs = process_map(get_ConfSeq, tqdm(decoys_mols), max_workers = 32)\n",
      "100%|███████████████████████████████████████| 2318/2318 [00:01<00:00, 1551.80it/s]\n",
      "100%|███████████████████████████████████████| 2318/2318 [00:01<00:00, 2194.61it/s]\n"
     ]
    },
    {
     "name": "stdout",
     "output_type": "stream",
     "text": [
      "decoys_seqs length: 2318\n"
     ]
    },
    {
     "name": "stderr",
     "output_type": "stream",
     "text": [
      "100%|███████████████████████████████████████████| 134/134 [00:01<00:00, 96.87it/s]\n",
      "100%|█████████████████████████████████████████| 134/134 [00:00<00:00, 1162.69it/s]\n"
     ]
    },
    {
     "name": "stdout",
     "output_type": "stream",
     "text": [
      "actives_seqs length: 134\n"
     ]
    },
    {
     "name": "stderr",
     "output_type": "stream",
     "text": [
      "  0%|                                                    | 0/6645 [00:00<?, ?it/s]/tmp/ipykernel_2731164/2398411433.py:44: TqdmWarning: Iterable length 6645 > 1000 but `chunksize` is not set. This may seriously degrade multiprocess performance. Set `chunksize=1` or more.\n",
      "  decoys_seqs = process_map(get_ConfSeq, tqdm(decoys_mols), max_workers = 32)\n",
      "100%|███████████████████████████████████████| 6645/6645 [00:01<00:00, 3862.07it/s]\n",
      "100%|███████████████████████████████████████| 6645/6645 [00:02<00:00, 2405.40it/s]\n"
     ]
    },
    {
     "name": "stdout",
     "output_type": "stream",
     "text": [
      "decoys_seqs length: 6645\n"
     ]
    },
    {
     "name": "stderr",
     "output_type": "stream",
     "text": [
      "100%|██████████████████████████████████████████| 566/566 [00:01<00:00, 283.70it/s]\n",
      "100%|█████████████████████████████████████████| 566/566 [00:00<00:00, 1899.42it/s]\n"
     ]
    },
    {
     "name": "stdout",
     "output_type": "stream",
     "text": [
      "actives_seqs length: 566\n"
     ]
    },
    {
     "name": "stderr",
     "output_type": "stream",
     "text": [
      "  0%|                                                   | 0/17375 [00:00<?, ?it/s]/tmp/ipykernel_2731164/2398411433.py:44: TqdmWarning: Iterable length 17375 > 1000 but `chunksize` is not set. This may seriously degrade multiprocess performance. Set `chunksize=1` or more.\n",
      "  decoys_seqs = process_map(get_ConfSeq, tqdm(decoys_mols), max_workers = 32)\n",
      "100%|█████████████████████████████████████| 17375/17375 [00:02<00:00, 6875.28it/s]\n",
      "100%|█████████████████████████████████████| 17375/17375 [00:06<00:00, 2815.95it/s]\n"
     ]
    },
    {
     "name": "stdout",
     "output_type": "stream",
     "text": [
      "decoys_seqs length: 17375\n"
     ]
    },
    {
     "name": "stderr",
     "output_type": "stream",
     "text": [
      "100%|██████████████████████████████████████████| 706/706 [00:01<00:00, 417.89it/s]\n",
      "100%|█████████████████████████████████████████| 706/706 [00:00<00:00, 1399.43it/s]\n"
     ]
    },
    {
     "name": "stdout",
     "output_type": "stream",
     "text": [
      "actives_seqs length: 706\n"
     ]
    },
    {
     "name": "stderr",
     "output_type": "stream",
     "text": [
      "  0%|                                                   | 0/27790 [00:00<?, ?it/s]/tmp/ipykernel_2731164/2398411433.py:44: TqdmWarning: Iterable length 27790 > 1000 but `chunksize` is not set. This may seriously degrade multiprocess performance. Set `chunksize=1` or more.\n",
      "  decoys_seqs = process_map(get_ConfSeq, tqdm(decoys_mols), max_workers = 32)\n",
      "100%|█████████████████████████████████████| 27790/27790 [00:03<00:00, 7349.83it/s]\n",
      "100%|█████████████████████████████████████| 27790/27790 [00:12<00:00, 2276.92it/s]\n"
     ]
    },
    {
     "name": "stdout",
     "output_type": "stream",
     "text": [
      "decoys_seqs length: 27790\n"
     ]
    },
    {
     "name": "stderr",
     "output_type": "stream",
     "text": [
      "100%|██████████████████████████████████████████| 244/244 [00:01<00:00, 156.50it/s]\n",
      "100%|█████████████████████████████████████████| 244/244 [00:00<00:00, 1107.56it/s]\n"
     ]
    },
    {
     "name": "stdout",
     "output_type": "stream",
     "text": [
      "actives_seqs length: 244\n"
     ]
    },
    {
     "name": "stderr",
     "output_type": "stream",
     "text": [
      "  0%|                                                   | 0/11423 [00:00<?, ?it/s]/tmp/ipykernel_2731164/2398411433.py:44: TqdmWarning: Iterable length 11423 > 1000 but `chunksize` is not set. This may seriously degrade multiprocess performance. Set `chunksize=1` or more.\n",
      "  decoys_seqs = process_map(get_ConfSeq, tqdm(decoys_mols), max_workers = 32)\n",
      "100%|█████████████████████████████████████| 11423/11423 [00:02<00:00, 5086.03it/s]\n",
      "100%|█████████████████████████████████████| 11423/11423 [00:05<00:00, 1906.60it/s]\n"
     ]
    },
    {
     "name": "stdout",
     "output_type": "stream",
     "text": [
      "decoys_seqs length: 11423\n"
     ]
    },
    {
     "name": "stderr",
     "output_type": "stream",
     "text": [
      "100%|██████████████████████████████████████████| 247/247 [00:01<00:00, 157.97it/s]\n",
      "100%|██████████████████████████████████████████| 247/247 [00:00<00:00, 933.43it/s]\n"
     ]
    },
    {
     "name": "stdout",
     "output_type": "stream",
     "text": [
      "actives_seqs length: 247\n"
     ]
    },
    {
     "name": "stderr",
     "output_type": "stream",
     "text": [
      "  0%|                                                    | 0/8830 [00:00<?, ?it/s]/tmp/ipykernel_2731164/2398411433.py:44: TqdmWarning: Iterable length 8830 > 1000 but `chunksize` is not set. This may seriously degrade multiprocess performance. Set `chunksize=1` or more.\n",
      "  decoys_seqs = process_map(get_ConfSeq, tqdm(decoys_mols), max_workers = 32)\n",
      "100%|███████████████████████████████████████| 8830/8830 [00:02<00:00, 3602.02it/s]\n",
      "100%|███████████████████████████████████████| 8830/8830 [00:04<00:00, 2053.36it/s]\n"
     ]
    },
    {
     "name": "stdout",
     "output_type": "stream",
     "text": [
      "decoys_seqs length: 8830\n"
     ]
    },
    {
     "name": "stderr",
     "output_type": "stream",
     "text": [
      "100%|██████████████████████████████████████████| 522/522 [00:01<00:00, 332.94it/s]\n",
      "100%|█████████████████████████████████████████| 522/522 [00:00<00:00, 1614.92it/s]\n"
     ]
    },
    {
     "name": "stdout",
     "output_type": "stream",
     "text": [
      "actives_seqs length: 522\n"
     ]
    },
    {
     "name": "stderr",
     "output_type": "stream",
     "text": [
      "  0%|                                                   | 0/14488 [00:00<?, ?it/s]/tmp/ipykernel_2731164/2398411433.py:44: TqdmWarning: Iterable length 14488 > 1000 but `chunksize` is not set. This may seriously degrade multiprocess performance. Set `chunksize=1` or more.\n",
      "  decoys_seqs = process_map(get_ConfSeq, tqdm(decoys_mols), max_workers = 32)\n",
      "100%|█████████████████████████████████████| 14488/14488 [00:02<00:00, 5796.89it/s]\n",
      "100%|█████████████████████████████████████| 14488/14488 [00:05<00:00, 2680.14it/s]\n"
     ]
    },
    {
     "name": "stdout",
     "output_type": "stream",
     "text": [
      "decoys_seqs length: 14488\n"
     ]
    },
    {
     "name": "stderr",
     "output_type": "stream",
     "text": [
      "100%|██████████████████████████████████████████| 190/190 [00:01<00:00, 125.98it/s]\n",
      "100%|██████████████████████████████████████████| 190/190 [00:00<00:00, 902.11it/s]\n"
     ]
    },
    {
     "name": "stdout",
     "output_type": "stream",
     "text": [
      "actives_seqs length: 190\n"
     ]
    },
    {
     "name": "stderr",
     "output_type": "stream",
     "text": [
      "  0%|                                                    | 0/6950 [00:00<?, ?it/s]/tmp/ipykernel_2731164/2398411433.py:44: TqdmWarning: Iterable length 6950 > 1000 but `chunksize` is not set. This may seriously degrade multiprocess performance. Set `chunksize=1` or more.\n",
      "  decoys_seqs = process_map(get_ConfSeq, tqdm(decoys_mols), max_workers = 32)\n",
      "100%|███████████████████████████████████████| 6950/6950 [00:02<00:00, 3333.77it/s]\n",
      "100%|███████████████████████████████████████| 6950/6950 [00:03<00:00, 2107.48it/s]\n"
     ]
    },
    {
     "name": "stdout",
     "output_type": "stream",
     "text": [
      "decoys_seqs length: 6950\n"
     ]
    },
    {
     "name": "stderr",
     "output_type": "stream",
     "text": [
      "[07:22:00] WARNING: not removing hydrogen atom with neighbor that has non-tetrahedral stereochemistry\n",
      "100%|██████████████████████████████████████████| 758/758 [00:01<00:00, 493.96it/s]\n",
      "100%|█████████████████████████████████████████| 758/758 [00:00<00:00, 1550.03it/s]\n"
     ]
    },
    {
     "name": "stdout",
     "output_type": "stream",
     "text": [
      "actives_seqs length: 758\n"
     ]
    },
    {
     "name": "stderr",
     "output_type": "stream",
     "text": [
      "  0%|                                                   | 0/26208 [00:00<?, ?it/s]/tmp/ipykernel_2731164/2398411433.py:44: TqdmWarning: Iterable length 26208 > 1000 but `chunksize` is not set. This may seriously degrade multiprocess performance. Set `chunksize=1` or more.\n",
      "  decoys_seqs = process_map(get_ConfSeq, tqdm(decoys_mols), max_workers = 32)\n",
      "100%|█████████████████████████████████████| 26208/26208 [00:02<00:00, 8920.24it/s]\n",
      "100%|█████████████████████████████████████| 26208/26208 [00:10<00:00, 2383.06it/s]\n"
     ]
    },
    {
     "name": "stdout",
     "output_type": "stream",
     "text": [
      "decoys_seqs length: 26208\n"
     ]
    },
    {
     "name": "stderr",
     "output_type": "stream",
     "text": [
      "100%|██████████████████████████████████████████| 168/168 [00:01<00:00, 111.97it/s]\n",
      "100%|█████████████████████████████████████████| 168/168 [00:00<00:00, 1869.57it/s]\n"
     ]
    },
    {
     "name": "stdout",
     "output_type": "stream",
     "text": [
      "actives_seqs length: 168\n"
     ]
    },
    {
     "name": "stderr",
     "output_type": "stream",
     "text": [
      "  0%|                                                    | 0/6919 [00:00<?, ?it/s]/tmp/ipykernel_2731164/2398411433.py:44: TqdmWarning: Iterable length 6919 > 1000 but `chunksize` is not set. This may seriously degrade multiprocess performance. Set `chunksize=1` or more.\n",
      "  decoys_seqs = process_map(get_ConfSeq, tqdm(decoys_mols), max_workers = 32)\n",
      "100%|███████████████████████████████████████| 6919/6919 [00:02<00:00, 3213.87it/s]\n",
      "100%|███████████████████████████████████████| 6919/6919 [00:02<00:00, 3135.21it/s]\n"
     ]
    },
    {
     "name": "stdout",
     "output_type": "stream",
     "text": [
      "decoys_seqs length: 6919\n"
     ]
    },
    {
     "name": "stderr",
     "output_type": "stream",
     "text": [
      "100%|██████████████████████████████████████████| 288/288 [00:01<00:00, 181.40it/s]\n",
      "100%|█████████████████████████████████████████| 288/288 [00:00<00:00, 1277.80it/s]\n"
     ]
    },
    {
     "name": "stdout",
     "output_type": "stream",
     "text": [
      "actives_seqs length: 288\n"
     ]
    },
    {
     "name": "stderr",
     "output_type": "stream",
     "text": [
      "  0%|                                                   | 0/13232 [00:00<?, ?it/s]/tmp/ipykernel_2731164/2398411433.py:44: TqdmWarning: Iterable length 13232 > 1000 but `chunksize` is not set. This may seriously degrade multiprocess performance. Set `chunksize=1` or more.\n",
      "  decoys_seqs = process_map(get_ConfSeq, tqdm(decoys_mols), max_workers = 32)\n",
      "100%|█████████████████████████████████████| 13232/13232 [00:02<00:00, 5494.48it/s]\n",
      "100%|█████████████████████████████████████| 13232/13232 [00:06<00:00, 2131.23it/s]\n"
     ]
    },
    {
     "name": "stdout",
     "output_type": "stream",
     "text": [
      "decoys_seqs length: 13232\n"
     ]
    },
    {
     "name": "stderr",
     "output_type": "stream",
     "text": [
      "100%|██████████████████████████████████████████| 225/225 [00:01<00:00, 154.76it/s]\n",
      "100%|█████████████████████████████████████████| 225/225 [00:00<00:00, 1085.00it/s]\n"
     ]
    },
    {
     "name": "stdout",
     "output_type": "stream",
     "text": [
      "actives_seqs length: 225\n"
     ]
    },
    {
     "name": "stderr",
     "output_type": "stream",
     "text": [
      "  0%|                                                    | 0/7430 [00:00<?, ?it/s]/tmp/ipykernel_2731164/2398411433.py:44: TqdmWarning: Iterable length 7430 > 1000 but `chunksize` is not set. This may seriously degrade multiprocess performance. Set `chunksize=1` or more.\n",
      "  decoys_seqs = process_map(get_ConfSeq, tqdm(decoys_mols), max_workers = 32)\n",
      "100%|███████████████████████████████████████| 7430/7430 [00:02<00:00, 3444.53it/s]\n",
      "100%|███████████████████████████████████████| 7430/7430 [00:03<00:00, 2143.10it/s]\n"
     ]
    },
    {
     "name": "stdout",
     "output_type": "stream",
     "text": [
      "decoys_seqs length: 7430\n"
     ]
    },
    {
     "name": "stderr",
     "output_type": "stream",
     "text": [
      "100%|██████████████████████████████████████████| 458/458 [00:01<00:00, 305.20it/s]\n",
      "100%|█████████████████████████████████████████| 458/458 [00:00<00:00, 1563.91it/s]\n"
     ]
    },
    {
     "name": "stdout",
     "output_type": "stream",
     "text": [
      "actives_seqs length: 458\n"
     ]
    },
    {
     "name": "stderr",
     "output_type": "stream",
     "text": [
      "  0%|                                                   | 0/15952 [00:00<?, ?it/s]/tmp/ipykernel_2731164/2398411433.py:44: TqdmWarning: Iterable length 15952 > 1000 but `chunksize` is not set. This may seriously degrade multiprocess performance. Set `chunksize=1` or more.\n",
      "  decoys_seqs = process_map(get_ConfSeq, tqdm(decoys_mols), max_workers = 32)\n",
      "100%|█████████████████████████████████████| 15952/15952 [00:02<00:00, 6339.44it/s]\n",
      "100%|█████████████████████████████████████| 15952/15952 [00:06<00:00, 2497.11it/s]\n"
     ]
    },
    {
     "name": "stdout",
     "output_type": "stream",
     "text": [
      "decoys_seqs length: 15952\n"
     ]
    },
    {
     "name": "stderr",
     "output_type": "stream",
     "text": [
      "100%|██████████████████████████████████████████| 168/168 [00:01<00:00, 111.90it/s]\n",
      "100%|█████████████████████████████████████████| 168/168 [00:00<00:00, 1199.31it/s]\n"
     ]
    },
    {
     "name": "stdout",
     "output_type": "stream",
     "text": [
      "actives_seqs length: 168\n"
     ]
    },
    {
     "name": "stderr",
     "output_type": "stream",
     "text": [
      "  0%|                                                    | 0/7651 [00:00<?, ?it/s]/tmp/ipykernel_2731164/2398411433.py:44: TqdmWarning: Iterable length 7651 > 1000 but `chunksize` is not set. This may seriously degrade multiprocess performance. Set `chunksize=1` or more.\n",
      "  decoys_seqs = process_map(get_ConfSeq, tqdm(decoys_mols), max_workers = 32)\n",
      "100%|███████████████████████████████████████| 7651/7651 [00:02<00:00, 3715.06it/s]\n",
      "100%|███████████████████████████████████████| 7651/7651 [00:03<00:00, 2016.85it/s]\n"
     ]
    },
    {
     "name": "stdout",
     "output_type": "stream",
     "text": [
      "decoys_seqs length: 7651\n"
     ]
    },
    {
     "name": "stderr",
     "output_type": "stream",
     "text": [
      "100%|███████████████████████████████████████████| 152/152 [00:01<00:00, 99.93it/s]\n",
      "100%|█████████████████████████████████████████| 152/152 [00:00<00:00, 1678.29it/s]\n"
     ]
    },
    {
     "name": "stdout",
     "output_type": "stream",
     "text": [
      "actives_seqs length: 152\n"
     ]
    },
    {
     "name": "stderr",
     "output_type": "stream",
     "text": [
      "  0%|                                                    | 0/6614 [00:00<?, ?it/s]/tmp/ipykernel_2731164/2398411433.py:44: TqdmWarning: Iterable length 6614 > 1000 but `chunksize` is not set. This may seriously degrade multiprocess performance. Set `chunksize=1` or more.\n",
      "  decoys_seqs = process_map(get_ConfSeq, tqdm(decoys_mols), max_workers = 32)\n",
      "100%|███████████████████████████████████████| 6614/6614 [00:02<00:00, 3215.44it/s]\n",
      "100%|███████████████████████████████████████| 6614/6614 [00:02<00:00, 3063.91it/s]\n"
     ]
    },
    {
     "name": "stdout",
     "output_type": "stream",
     "text": [
      "decoys_seqs length: 6614\n"
     ]
    },
    {
     "name": "stderr",
     "output_type": "stream",
     "text": [
      "100%|██████████████████████████████████████████| 244/244 [00:01<00:00, 161.27it/s]\n",
      "100%|█████████████████████████████████████████| 244/244 [00:00<00:00, 1441.10it/s]\n"
     ]
    },
    {
     "name": "stdout",
     "output_type": "stream",
     "text": [
      "actives_seqs length: 244\n"
     ]
    },
    {
     "name": "stderr",
     "output_type": "stream",
     "text": [
      "  0%|                                                    | 0/9472 [00:00<?, ?it/s]/tmp/ipykernel_2731164/2398411433.py:44: TqdmWarning: Iterable length 9472 > 1000 but `chunksize` is not set. This may seriously degrade multiprocess performance. Set `chunksize=1` or more.\n",
      "  decoys_seqs = process_map(get_ConfSeq, tqdm(decoys_mols), max_workers = 32)\n",
      "100%|███████████████████████████████████████| 9472/9472 [00:02<00:00, 4326.20it/s]\n",
      "100%|███████████████████████████████████████| 9472/9472 [00:03<00:00, 2766.57it/s]\n"
     ]
    },
    {
     "name": "stdout",
     "output_type": "stream",
     "text": [
      "decoys_seqs length: 9472\n"
     ]
    },
    {
     "name": "stderr",
     "output_type": "stream",
     "text": [
      "100%|██████████████████████████████████████████| 664/664 [00:01<00:00, 442.32it/s]\n",
      "100%|█████████████████████████████████████████| 664/664 [00:00<00:00, 1455.47it/s]\n"
     ]
    },
    {
     "name": "stdout",
     "output_type": "stream",
     "text": [
      "actives_seqs length: 664\n"
     ]
    },
    {
     "name": "stderr",
     "output_type": "stream",
     "text": [
      "  0%|                                                   | 0/26342 [00:00<?, ?it/s]/tmp/ipykernel_2731164/2398411433.py:44: TqdmWarning: Iterable length 26342 > 1000 but `chunksize` is not set. This may seriously degrade multiprocess performance. Set `chunksize=1` or more.\n",
      "  decoys_seqs = process_map(get_ConfSeq, tqdm(decoys_mols), max_workers = 32)\n",
      "100%|█████████████████████████████████████| 26342/26342 [00:03<00:00, 8765.28it/s]\n",
      "100%|█████████████████████████████████████| 26342/26342 [00:11<00:00, 2333.17it/s]\n"
     ]
    },
    {
     "name": "stdout",
     "output_type": "stream",
     "text": [
      "decoys_seqs length: 26342\n"
     ]
    },
    {
     "name": "stderr",
     "output_type": "stream",
     "text": [
      "100%|██████████████████████████████████████████| 238/238 [00:01<00:00, 159.30it/s]\n",
      "100%|█████████████████████████████████████████| 238/238 [00:00<00:00, 1301.02it/s]\n"
     ]
    },
    {
     "name": "stdout",
     "output_type": "stream",
     "text": [
      "actives_seqs length: 238\n"
     ]
    },
    {
     "name": "stderr",
     "output_type": "stream",
     "text": [
      "  0%|                                                   | 0/10365 [00:00<?, ?it/s]/tmp/ipykernel_2731164/2398411433.py:44: TqdmWarning: Iterable length 10365 > 1000 but `chunksize` is not set. This may seriously degrade multiprocess performance. Set `chunksize=1` or more.\n",
      "  decoys_seqs = process_map(get_ConfSeq, tqdm(decoys_mols), max_workers = 32)\n",
      "100%|█████████████████████████████████████| 10365/10365 [00:02<00:00, 4713.25it/s]\n",
      "100%|█████████████████████████████████████| 10365/10365 [00:03<00:00, 2631.67it/s]\n"
     ]
    },
    {
     "name": "stdout",
     "output_type": "stream",
     "text": [
      "decoys_seqs length: 10365\n"
     ]
    },
    {
     "name": "stderr",
     "output_type": "stream",
     "text": [
      "100%|██████████████████████████████████████████| 286/286 [00:01<00:00, 191.57it/s]\n",
      "100%|█████████████████████████████████████████| 286/286 [00:00<00:00, 1191.44it/s]\n"
     ]
    },
    {
     "name": "stdout",
     "output_type": "stream",
     "text": [
      "actives_seqs length: 286\n"
     ]
    },
    {
     "name": "stderr",
     "output_type": "stream",
     "text": [
      "  0%|                                                   | 0/12420 [00:00<?, ?it/s]/tmp/ipykernel_2731164/2398411433.py:44: TqdmWarning: Iterable length 12420 > 1000 but `chunksize` is not set. This may seriously degrade multiprocess performance. Set `chunksize=1` or more.\n",
      "  decoys_seqs = process_map(get_ConfSeq, tqdm(decoys_mols), max_workers = 32)\n",
      "100%|█████████████████████████████████████| 12420/12420 [00:02<00:00, 5577.84it/s]\n",
      "100%|█████████████████████████████████████| 12420/12420 [00:05<00:00, 2215.60it/s]\n"
     ]
    },
    {
     "name": "stdout",
     "output_type": "stream",
     "text": [
      "decoys_seqs length: 12420\n"
     ]
    },
    {
     "name": "stderr",
     "output_type": "stream",
     "text": [
      "100%|██████████████████████████████████████████| 183/183 [00:01<00:00, 122.56it/s]\n",
      "100%|█████████████████████████████████████████| 183/183 [00:00<00:00, 1197.53it/s]\n"
     ]
    },
    {
     "name": "stdout",
     "output_type": "stream",
     "text": [
      "actives_seqs length: 183\n"
     ]
    },
    {
     "name": "stderr",
     "output_type": "stream",
     "text": [
      "  0%|                                                    | 0/7570 [00:00<?, ?it/s]/tmp/ipykernel_2731164/2398411433.py:44: TqdmWarning: Iterable length 7570 > 1000 but `chunksize` is not set. This may seriously degrade multiprocess performance. Set `chunksize=1` or more.\n",
      "  decoys_seqs = process_map(get_ConfSeq, tqdm(decoys_mols), max_workers = 32)\n",
      "100%|███████████████████████████████████████| 7570/7570 [00:02<00:00, 3435.76it/s]\n",
      "100%|███████████████████████████████████████| 7570/7570 [00:04<00:00, 1867.32it/s]\n"
     ]
    },
    {
     "name": "stdout",
     "output_type": "stream",
     "text": [
      "decoys_seqs length: 7570\n"
     ]
    },
    {
     "name": "stderr",
     "output_type": "stream",
     "text": [
      "100%|██████████████████████████████████████████| 792/792 [00:01<00:00, 519.32it/s]\n",
      "100%|█████████████████████████████████████████| 792/792 [00:00<00:00, 1320.53it/s]\n"
     ]
    },
    {
     "name": "stdout",
     "output_type": "stream",
     "text": [
      "actives_seqs length: 792\n"
     ]
    },
    {
     "name": "stderr",
     "output_type": "stream",
     "text": [
      "  0%|                                                   | 0/20403 [00:00<?, ?it/s]/tmp/ipykernel_2731164/2398411433.py:44: TqdmWarning: Iterable length 20403 > 1000 but `chunksize` is not set. This may seriously degrade multiprocess performance. Set `chunksize=1` or more.\n",
      "  decoys_seqs = process_map(get_ConfSeq, tqdm(decoys_mols), max_workers = 32)\n",
      "100%|█████████████████████████████████████| 20403/20403 [00:02<00:00, 7888.49it/s]\n",
      "100%|█████████████████████████████████████| 20403/20403 [00:09<00:00, 2040.85it/s]\n"
     ]
    },
    {
     "name": "stdout",
     "output_type": "stream",
     "text": [
      "decoys_seqs length: 20403\n"
     ]
    },
    {
     "name": "stderr",
     "output_type": "stream",
     "text": [
      "100%|██████████████████████████████████████████| 531/531 [00:01<00:00, 354.39it/s]\n",
      "100%|█████████████████████████████████████████| 531/531 [00:00<00:00, 1958.60it/s]\n"
     ]
    },
    {
     "name": "stdout",
     "output_type": "stream",
     "text": [
      "actives_seqs length: 531\n"
     ]
    },
    {
     "name": "stderr",
     "output_type": "stream",
     "text": [
      "  0%|                                                   | 0/23384 [00:00<?, ?it/s]/tmp/ipykernel_2731164/2398411433.py:44: TqdmWarning: Iterable length 23384 > 1000 but `chunksize` is not set. This may seriously degrade multiprocess performance. Set `chunksize=1` or more.\n",
      "  decoys_seqs = process_map(get_ConfSeq, tqdm(decoys_mols), max_workers = 32)\n",
      "100%|█████████████████████████████████████| 23384/23384 [00:02<00:00, 8390.38it/s]\n",
      "100%|█████████████████████████████████████| 23384/23384 [00:09<00:00, 2555.02it/s]\n"
     ]
    },
    {
     "name": "stdout",
     "output_type": "stream",
     "text": [
      "decoys_seqs length: 23384\n"
     ]
    },
    {
     "name": "stderr",
     "output_type": "stream",
     "text": [
      "100%|██████████████████████████████████████████| 222/222 [00:01<00:00, 150.75it/s]\n",
      "100%|█████████████████████████████████████████| 222/222 [00:00<00:00, 1778.40it/s]\n"
     ]
    },
    {
     "name": "stdout",
     "output_type": "stream",
     "text": [
      "actives_seqs length: 222\n"
     ]
    },
    {
     "name": "stderr",
     "output_type": "stream",
     "text": [
      "  0%|                                                    | 0/6222 [00:00<?, ?it/s]/tmp/ipykernel_2731164/2398411433.py:44: TqdmWarning: Iterable length 6222 > 1000 but `chunksize` is not set. This may seriously degrade multiprocess performance. Set `chunksize=1` or more.\n",
      "  decoys_seqs = process_map(get_ConfSeq, tqdm(decoys_mols), max_workers = 32)\n",
      "100%|███████████████████████████████████████| 6222/6222 [00:01<00:00, 3757.44it/s]\n",
      "100%|███████████████████████████████████████| 6222/6222 [00:02<00:00, 2863.48it/s]\n"
     ]
    },
    {
     "name": "stdout",
     "output_type": "stream",
     "text": [
      "decoys_seqs length: 6222\n"
     ]
    },
    {
     "name": "stderr",
     "output_type": "stream",
     "text": [
      "100%|██████████████████████████████████████████| 234/234 [00:01<00:00, 155.27it/s]\n",
      "100%|█████████████████████████████████████████| 234/234 [00:00<00:00, 1475.22it/s]\n"
     ]
    },
    {
     "name": "stdout",
     "output_type": "stream",
     "text": [
      "actives_seqs length: 234\n"
     ]
    },
    {
     "name": "stderr",
     "output_type": "stream",
     "text": [
      "  0%|                                                   | 0/10510 [00:00<?, ?it/s]/tmp/ipykernel_2731164/2398411433.py:44: TqdmWarning: Iterable length 10510 > 1000 but `chunksize` is not set. This may seriously degrade multiprocess performance. Set `chunksize=1` or more.\n",
      "  decoys_seqs = process_map(get_ConfSeq, tqdm(decoys_mols), max_workers = 32)\n",
      "100%|█████████████████████████████████████| 10510/10510 [00:02<00:00, 4528.29it/s]\n",
      "100%|█████████████████████████████████████| 10510/10510 [00:03<00:00, 2705.04it/s]\n"
     ]
    },
    {
     "name": "stdout",
     "output_type": "stream",
     "text": [
      "decoys_seqs length: 10510\n"
     ]
    },
    {
     "name": "stderr",
     "output_type": "stream",
     "text": [
      "100%|██████████████████████████████████████████| 295/295 [00:01<00:00, 196.56it/s]\n",
      "100%|█████████████████████████████████████████| 295/295 [00:00<00:00, 1074.64it/s]\n"
     ]
    },
    {
     "name": "stdout",
     "output_type": "stream",
     "text": [
      "actives_seqs length: 295\n"
     ]
    },
    {
     "name": "stderr",
     "output_type": "stream",
     "text": [
      "  0%|                                                   | 0/10878 [00:00<?, ?it/s]/tmp/ipykernel_2731164/2398411433.py:44: TqdmWarning: Iterable length 10878 > 1000 but `chunksize` is not set. This may seriously degrade multiprocess performance. Set `chunksize=1` or more.\n",
      "  decoys_seqs = process_map(get_ConfSeq, tqdm(decoys_mols), max_workers = 32)\n",
      "100%|█████████████████████████████████████| 10878/10878 [00:02<00:00, 5051.89it/s]\n",
      "100%|█████████████████████████████████████| 10878/10878 [00:05<00:00, 2040.55it/s]\n"
     ]
    },
    {
     "name": "stdout",
     "output_type": "stream",
     "text": [
      "decoys_seqs length: 10878\n"
     ]
    },
    {
     "name": "stderr",
     "output_type": "stream",
     "text": [
      "100%|██████████████████████████████████████████| 831/831 [00:01<00:00, 552.25it/s]\n",
      "100%|█████████████████████████████████████████| 831/831 [00:00<00:00, 1465.08it/s]\n"
     ]
    },
    {
     "name": "stdout",
     "output_type": "stream",
     "text": [
      "actives_seqs length: 831\n"
     ]
    },
    {
     "name": "stderr",
     "output_type": "stream",
     "text": [
      "  0%|                                                   | 0/34945 [00:00<?, ?it/s]/tmp/ipykernel_2731164/2398411433.py:44: TqdmWarning: Iterable length 34945 > 1000 but `chunksize` is not set. This may seriously degrade multiprocess performance. Set `chunksize=1` or more.\n",
      "  decoys_seqs = process_map(get_ConfSeq, tqdm(decoys_mols), max_workers = 32)\n",
      "100%|████████████████████████████████████| 34945/34945 [00:03<00:00, 10806.25it/s]\n",
      "100%|█████████████████████████████████████| 34945/34945 [00:16<00:00, 2143.96it/s]\n"
     ]
    },
    {
     "name": "stdout",
     "output_type": "stream",
     "text": [
      "decoys_seqs length: 34945\n"
     ]
    },
    {
     "name": "stderr",
     "output_type": "stream",
     "text": [
      "100%|██████████████████████████████████████████| 877/877 [00:01<00:00, 633.79it/s]\n",
      "100%|█████████████████████████████████████████| 877/877 [00:00<00:00, 1644.43it/s]\n"
     ]
    },
    {
     "name": "stdout",
     "output_type": "stream",
     "text": [
      "actives_seqs length: 877\n"
     ]
    },
    {
     "name": "stderr",
     "output_type": "stream",
     "text": [
      "  0%|                                                   | 0/34171 [00:00<?, ?it/s]/tmp/ipykernel_2731164/2398411433.py:44: TqdmWarning: Iterable length 34171 > 1000 but `chunksize` is not set. This may seriously degrade multiprocess performance. Set `chunksize=1` or more.\n",
      "  decoys_seqs = process_map(get_ConfSeq, tqdm(decoys_mols), max_workers = 32)\n",
      "100%|████████████████████████████████████| 34171/34171 [00:03<00:00, 10834.84it/s]\n",
      "100%|█████████████████████████████████████| 34171/34171 [00:14<00:00, 2433.96it/s]\n"
     ]
    },
    {
     "name": "stdout",
     "output_type": "stream",
     "text": [
      "decoys_seqs length: 34171\n"
     ]
    },
    {
     "name": "stderr",
     "output_type": "stream",
     "text": [
      "100%|██████████████████████████████████████████| 162/162 [00:01<00:00, 114.40it/s]\n",
      "100%|█████████████████████████████████████████| 162/162 [00:00<00:00, 1150.72it/s]\n"
     ]
    },
    {
     "name": "stdout",
     "output_type": "stream",
     "text": [
      "actives_seqs length: 162\n"
     ]
    },
    {
     "name": "stderr",
     "output_type": "stream",
     "text": [
      "  0%|                                                    | 0/7707 [00:00<?, ?it/s]/tmp/ipykernel_2731164/2398411433.py:44: TqdmWarning: Iterable length 7707 > 1000 but `chunksize` is not set. This may seriously degrade multiprocess performance. Set `chunksize=1` or more.\n",
      "  decoys_seqs = process_map(get_ConfSeq, tqdm(decoys_mols), max_workers = 32)\n",
      "100%|███████████████████████████████████████| 7707/7707 [00:01<00:00, 3958.46it/s]\n",
      "100%|███████████████████████████████████████| 7707/7707 [00:03<00:00, 2252.01it/s]\n"
     ]
    },
    {
     "name": "stdout",
     "output_type": "stream",
     "text": [
      "decoys_seqs length: 7707\n"
     ]
    },
    {
     "name": "stderr",
     "output_type": "stream",
     "text": [
      "100%|██████████████████████████████████████████| 242/242 [00:01<00:00, 160.86it/s]\n",
      "100%|█████████████████████████████████████████| 242/242 [00:00<00:00, 1167.61it/s]\n"
     ]
    },
    {
     "name": "stdout",
     "output_type": "stream",
     "text": [
      "actives_seqs length: 242\n"
     ]
    },
    {
     "name": "stderr",
     "output_type": "stream",
     "text": [
      "  0%|                                                    | 0/8235 [00:00<?, ?it/s]/tmp/ipykernel_2731164/2398411433.py:44: TqdmWarning: Iterable length 8235 > 1000 but `chunksize` is not set. This may seriously degrade multiprocess performance. Set `chunksize=1` or more.\n",
      "  decoys_seqs = process_map(get_ConfSeq, tqdm(decoys_mols), max_workers = 32)\n",
      "100%|███████████████████████████████████████| 8235/8235 [00:02<00:00, 4030.35it/s]\n",
      "100%|███████████████████████████████████████| 8235/8235 [00:03<00:00, 2076.58it/s]\n"
     ]
    },
    {
     "name": "stdout",
     "output_type": "stream",
     "text": [
      "decoys_seqs length: 8235\n"
     ]
    },
    {
     "name": "stderr",
     "output_type": "stream",
     "text": [
      "100%|███████████████████████████████████████████| 114/114 [00:01<00:00, 82.37it/s]\n",
      "100%|██████████████████████████████████████████| 114/114 [00:00<00:00, 978.97it/s]\n"
     ]
    },
    {
     "name": "stdout",
     "output_type": "stream",
     "text": [
      "actives_seqs length: 114\n"
     ]
    },
    {
     "name": "stderr",
     "output_type": "stream",
     "text": [
      "  0%|                                                    | 0/5399 [00:00<?, ?it/s]/tmp/ipykernel_2731164/2398411433.py:44: TqdmWarning: Iterable length 5399 > 1000 but `chunksize` is not set. This may seriously degrade multiprocess performance. Set `chunksize=1` or more.\n",
      "  decoys_seqs = process_map(get_ConfSeq, tqdm(decoys_mols), max_workers = 32)\n",
      "100%|███████████████████████████████████████| 5399/5399 [00:01<00:00, 2770.68it/s]\n",
      "100%|███████████████████████████████████████| 5399/5399 [00:02<00:00, 2192.91it/s]\n"
     ]
    },
    {
     "name": "stdout",
     "output_type": "stream",
     "text": [
      "decoys_seqs length: 5399\n"
     ]
    },
    {
     "name": "stderr",
     "output_type": "stream",
     "text": [
      "100%|███████████████████████████████████████████| 122/122 [00:01<00:00, 82.28it/s]\n",
      "100%|█████████████████████████████████████████| 122/122 [00:00<00:00, 1140.59it/s]\n"
     ]
    },
    {
     "name": "stdout",
     "output_type": "stream",
     "text": [
      "actives_seqs length: 122\n"
     ]
    },
    {
     "name": "stderr",
     "output_type": "stream",
     "text": [
      "  0%|                                                    | 0/3412 [00:00<?, ?it/s]/tmp/ipykernel_2731164/2398411433.py:44: TqdmWarning: Iterable length 3412 > 1000 but `chunksize` is not set. This may seriously degrade multiprocess performance. Set `chunksize=1` or more.\n",
      "  decoys_seqs = process_map(get_ConfSeq, tqdm(decoys_mols), max_workers = 32)\n",
      "100%|███████████████████████████████████████| 3412/3412 [00:01<00:00, 2088.49it/s]\n",
      "100%|███████████████████████████████████████| 3412/3412 [00:01<00:00, 2511.58it/s]\n"
     ]
    },
    {
     "name": "stdout",
     "output_type": "stream",
     "text": [
      "decoys_seqs length: 3412\n"
     ]
    },
    {
     "name": "stderr",
     "output_type": "stream",
     "text": [
      "100%|██████████████████████████████████████████| 211/211 [00:01<00:00, 140.64it/s]\n",
      "100%|█████████████████████████████████████████| 211/211 [00:00<00:00, 1520.48it/s]\n"
     ]
    },
    {
     "name": "stdout",
     "output_type": "stream",
     "text": [
      "actives_seqs length: 211\n"
     ]
    },
    {
     "name": "stderr",
     "output_type": "stream",
     "text": [
      "  0%|                                                    | 0/6752 [00:00<?, ?it/s]/tmp/ipykernel_2731164/2398411433.py:44: TqdmWarning: Iterable length 6752 > 1000 but `chunksize` is not set. This may seriously degrade multiprocess performance. Set `chunksize=1` or more.\n",
      "  decoys_seqs = process_map(get_ConfSeq, tqdm(decoys_mols), max_workers = 32)\n",
      "100%|███████████████████████████████████████| 6752/6752 [00:01<00:00, 3411.66it/s]\n",
      "100%|███████████████████████████████████████| 6752/6752 [00:02<00:00, 2583.27it/s]\n"
     ]
    },
    {
     "name": "stdout",
     "output_type": "stream",
     "text": [
      "decoys_seqs length: 6752\n"
     ]
    },
    {
     "name": "stderr",
     "output_type": "stream",
     "text": [
      "100%|██████████████████████████████████████████| 220/220 [00:01<00:00, 138.01it/s]\n",
      "100%|█████████████████████████████████████████| 220/220 [00:00<00:00, 1511.78it/s]\n"
     ]
    },
    {
     "name": "stdout",
     "output_type": "stream",
     "text": [
      "actives_seqs length: 220\n"
     ]
    },
    {
     "name": "stderr",
     "output_type": "stream",
     "text": [
      "  0%|                                                    | 0/9128 [00:00<?, ?it/s]/tmp/ipykernel_2731164/2398411433.py:44: TqdmWarning: Iterable length 9128 > 1000 but `chunksize` is not set. This may seriously degrade multiprocess performance. Set `chunksize=1` or more.\n",
      "  decoys_seqs = process_map(get_ConfSeq, tqdm(decoys_mols), max_workers = 32)\n",
      "100%|███████████████████████████████████████| 9128/9128 [00:02<00:00, 3693.92it/s]\n",
      "100%|███████████████████████████████████████| 9128/9128 [00:03<00:00, 3032.85it/s]\n"
     ]
    },
    {
     "name": "stdout",
     "output_type": "stream",
     "text": [
      "decoys_seqs length: 9128\n"
     ]
    },
    {
     "name": "stderr",
     "output_type": "stream",
     "text": [
      "100%|██████████████████████████████████████████| 959/959 [00:01<00:00, 669.31it/s]\n",
      "100%|█████████████████████████████████████████| 959/959 [00:00<00:00, 1598.52it/s]\n"
     ]
    },
    {
     "name": "stdout",
     "output_type": "stream",
     "text": [
      "actives_seqs length: 959\n"
     ]
    },
    {
     "name": "stderr",
     "output_type": "stream",
     "text": [
      "  0%|                                                   | 0/36626 [00:00<?, ?it/s]/tmp/ipykernel_2731164/2398411433.py:44: TqdmWarning: Iterable length 36626 > 1000 but `chunksize` is not set. This may seriously degrade multiprocess performance. Set `chunksize=1` or more.\n",
      "  decoys_seqs = process_map(get_ConfSeq, tqdm(decoys_mols), max_workers = 32)\n",
      "100%|████████████████████████████████████| 36626/36626 [00:03<00:00, 11360.25it/s]\n",
      "100%|█████████████████████████████████████| 36626/36626 [00:15<00:00, 2377.65it/s]\n"
     ]
    },
    {
     "name": "stdout",
     "output_type": "stream",
     "text": [
      "decoys_seqs length: 36626\n"
     ]
    },
    {
     "name": "stderr",
     "output_type": "stream",
     "text": [
      "100%|██████████████████████████████████████████| 249/249 [00:01<00:00, 176.12it/s]\n",
      "100%|█████████████████████████████████████████| 249/249 [00:00<00:00, 1811.07it/s]\n"
     ]
    },
    {
     "name": "stdout",
     "output_type": "stream",
     "text": [
      "actives_seqs length: 249\n"
     ]
    },
    {
     "name": "stderr",
     "output_type": "stream",
     "text": [
      "  0%|                                                    | 0/5471 [00:00<?, ?it/s]/tmp/ipykernel_2731164/2398411433.py:44: TqdmWarning: Iterable length 5471 > 1000 but `chunksize` is not set. This may seriously degrade multiprocess performance. Set `chunksize=1` or more.\n",
      "  decoys_seqs = process_map(get_ConfSeq, tqdm(decoys_mols), max_workers = 32)\n",
      "100%|███████████████████████████████████████| 5471/5471 [00:01<00:00, 2808.05it/s]\n",
      "100%|███████████████████████████████████████| 5471/5471 [00:01<00:00, 3146.78it/s]\n"
     ]
    },
    {
     "name": "stdout",
     "output_type": "stream",
     "text": [
      "decoys_seqs length: 5471\n"
     ]
    },
    {
     "name": "stderr",
     "output_type": "stream",
     "text": [
      "100%|██████████████████████████████████████████| 233/233 [00:01<00:00, 163.21it/s]\n",
      "100%|█████████████████████████████████████████| 233/233 [00:00<00:00, 1021.51it/s]\n"
     ]
    },
    {
     "name": "stdout",
     "output_type": "stream",
     "text": [
      "actives_seqs length: 233\n"
     ]
    },
    {
     "name": "stderr",
     "output_type": "stream",
     "text": [
      "  0%|                                                    | 0/8687 [00:00<?, ?it/s]/tmp/ipykernel_2731164/2398411433.py:44: TqdmWarning: Iterable length 8687 > 1000 but `chunksize` is not set. This may seriously degrade multiprocess performance. Set `chunksize=1` or more.\n",
      "  decoys_seqs = process_map(get_ConfSeq, tqdm(decoys_mols), max_workers = 32)\n",
      "100%|███████████████████████████████████████| 8687/8687 [00:02<00:00, 3971.55it/s]\n",
      "100%|███████████████████████████████████████| 8687/8687 [00:04<00:00, 1828.31it/s]\n"
     ]
    },
    {
     "name": "stdout",
     "output_type": "stream",
     "text": [
      "decoys_seqs length: 8687\n"
     ]
    },
    {
     "name": "stderr",
     "output_type": "stream",
     "text": [
      "100%|██████████████████████████████████████████| 423/423 [00:01<00:00, 291.19it/s]\n",
      "100%|█████████████████████████████████████████| 423/423 [00:00<00:00, 1197.86it/s]\n"
     ]
    },
    {
     "name": "stdout",
     "output_type": "stream",
     "text": [
      "actives_seqs length: 423\n"
     ]
    },
    {
     "name": "stderr",
     "output_type": "stream",
     "text": [
      "  0%|                                                   | 0/16572 [00:00<?, ?it/s]/tmp/ipykernel_2731164/2398411433.py:44: TqdmWarning: Iterable length 16572 > 1000 but `chunksize` is not set. This may seriously degrade multiprocess performance. Set `chunksize=1` or more.\n",
      "  decoys_seqs = process_map(get_ConfSeq, tqdm(decoys_mols), max_workers = 32)\n",
      "100%|█████████████████████████████████████| 16572/16572 [00:02<00:00, 7312.88it/s]\n",
      "100%|█████████████████████████████████████| 16572/16572 [00:07<00:00, 2295.06it/s]\n"
     ]
    },
    {
     "name": "stdout",
     "output_type": "stream",
     "text": [
      "decoys_seqs length: 16572\n"
     ]
    },
    {
     "name": "stderr",
     "output_type": "stream",
     "text": [
      "100%|██████████████████████████████████████████| 190/190 [00:01<00:00, 134.20it/s]\n",
      "100%|█████████████████████████████████████████| 190/190 [00:00<00:00, 1763.53it/s]\n"
     ]
    },
    {
     "name": "stdout",
     "output_type": "stream",
     "text": [
      "actives_seqs length: 190\n"
     ]
    },
    {
     "name": "stderr",
     "output_type": "stream",
     "text": [
      "  0%|                                                    | 0/3483 [00:00<?, ?it/s]/tmp/ipykernel_2731164/2398411433.py:44: TqdmWarning: Iterable length 3483 > 1000 but `chunksize` is not set. This may seriously degrade multiprocess performance. Set `chunksize=1` or more.\n",
      "  decoys_seqs = process_map(get_ConfSeq, tqdm(decoys_mols), max_workers = 32)\n",
      "100%|███████████████████████████████████████| 3483/3483 [00:01<00:00, 1881.60it/s]\n",
      "100%|███████████████████████████████████████| 3483/3483 [00:01<00:00, 2993.71it/s]\n"
     ]
    },
    {
     "name": "stdout",
     "output_type": "stream",
     "text": [
      "decoys_seqs length: 3483\n"
     ]
    },
    {
     "name": "stderr",
     "output_type": "stream",
     "text": [
      "100%|██████████████████████████████████████████| 233/233 [00:01<00:00, 156.93it/s]\n",
      "100%|█████████████████████████████████████████| 233/233 [00:00<00:00, 1723.89it/s]\n"
     ]
    },
    {
     "name": "stdout",
     "output_type": "stream",
     "text": [
      "actives_seqs length: 233\n"
     ]
    },
    {
     "name": "stderr",
     "output_type": "stream",
     "text": [
      "  0%|                                                    | 0/7015 [00:00<?, ?it/s]/tmp/ipykernel_2731164/2398411433.py:44: TqdmWarning: Iterable length 7015 > 1000 but `chunksize` is not set. This may seriously degrade multiprocess performance. Set `chunksize=1` or more.\n",
      "  decoys_seqs = process_map(get_ConfSeq, tqdm(decoys_mols), max_workers = 32)\n",
      "100%|███████████████████████████████████████| 7015/7015 [00:02<00:00, 3452.29it/s]\n",
      "100%|███████████████████████████████████████| 7015/7015 [00:01<00:00, 3626.66it/s]\n"
     ]
    },
    {
     "name": "stdout",
     "output_type": "stream",
     "text": [
      "decoys_seqs length: 7015\n"
     ]
    },
    {
     "name": "stderr",
     "output_type": "stream",
     "text": [
      "100%|██████████████████████████████████████████| 171/171 [00:01<00:00, 119.18it/s]\n",
      "100%|██████████████████████████████████████████| 171/171 [00:00<00:00, 993.64it/s]\n"
     ]
    },
    {
     "name": "stdout",
     "output_type": "stream",
     "text": [
      "actives_seqs length: 171\n"
     ]
    },
    {
     "name": "stderr",
     "output_type": "stream",
     "text": [
      "  0%|                                                    | 0/7706 [00:00<?, ?it/s]/tmp/ipykernel_2731164/2398411433.py:44: TqdmWarning: Iterable length 7706 > 1000 but `chunksize` is not set. This may seriously degrade multiprocess performance. Set `chunksize=1` or more.\n",
      "  decoys_seqs = process_map(get_ConfSeq, tqdm(decoys_mols), max_workers = 32)\n",
      "100%|███████████████████████████████████████| 7706/7706 [00:01<00:00, 3928.65it/s]\n",
      "100%|███████████████████████████████████████| 7706/7706 [00:03<00:00, 2185.12it/s]\n"
     ]
    },
    {
     "name": "stdout",
     "output_type": "stream",
     "text": [
      "decoys_seqs length: 7706\n"
     ]
    },
    {
     "name": "stderr",
     "output_type": "stream",
     "text": [
      "100%|███████████████████████████████████████████| 137/137 [00:01<00:00, 95.71it/s]\n",
      "100%|██████████████████████████████████████████| 137/137 [00:00<00:00, 849.53it/s]\n"
     ]
    },
    {
     "name": "stdout",
     "output_type": "stream",
     "text": [
      "actives_seqs length: 137\n"
     ]
    },
    {
     "name": "stderr",
     "output_type": "stream",
     "text": [
      "  0%|                                                    | 0/6231 [00:00<?, ?it/s]/tmp/ipykernel_2731164/2398411433.py:44: TqdmWarning: Iterable length 6231 > 1000 but `chunksize` is not set. This may seriously degrade multiprocess performance. Set `chunksize=1` or more.\n",
      "  decoys_seqs = process_map(get_ConfSeq, tqdm(decoys_mols), max_workers = 32)\n",
      "100%|███████████████████████████████████████| 6231/6231 [00:01<00:00, 3240.94it/s]\n",
      "100%|███████████████████████████████████████| 6231/6231 [00:03<00:00, 1968.03it/s]\n"
     ]
    },
    {
     "name": "stdout",
     "output_type": "stream",
     "text": [
      "decoys_seqs length: 6231\n"
     ]
    },
    {
     "name": "stderr",
     "output_type": "stream",
     "text": [
      "100%|██████████████████████████████████████████| 197/197 [00:01<00:00, 135.43it/s]\n",
      "100%|█████████████████████████████████████████| 197/197 [00:00<00:00, 1235.78it/s]\n"
     ]
    },
    {
     "name": "stdout",
     "output_type": "stream",
     "text": [
      "actives_seqs length: 197\n"
     ]
    },
    {
     "name": "stderr",
     "output_type": "stream",
     "text": [
      "  0%|                                                    | 0/6908 [00:00<?, ?it/s]/tmp/ipykernel_2731164/2398411433.py:44: TqdmWarning: Iterable length 6908 > 1000 but `chunksize` is not set. This may seriously degrade multiprocess performance. Set `chunksize=1` or more.\n",
      "  decoys_seqs = process_map(get_ConfSeq, tqdm(decoys_mols), max_workers = 32)\n",
      "100%|███████████████████████████████████████| 6908/6908 [00:01<00:00, 3732.12it/s]\n",
      "100%|███████████████████████████████████████| 6908/6908 [00:02<00:00, 2364.89it/s]\n"
     ]
    },
    {
     "name": "stdout",
     "output_type": "stream",
     "text": [
      "decoys_seqs length: 6908\n"
     ]
    },
    {
     "name": "stderr",
     "output_type": "stream",
     "text": [
      "100%|██████████████████████████████████████████| 213/213 [00:01<00:00, 144.32it/s]\n",
      "100%|█████████████████████████████████████████| 213/213 [00:00<00:00, 2233.44it/s]\n"
     ]
    },
    {
     "name": "stdout",
     "output_type": "stream",
     "text": [
      "actives_seqs length: 213\n"
     ]
    },
    {
     "name": "stderr",
     "output_type": "stream",
     "text": [
      "  0%|                                                    | 0/9010 [00:00<?, ?it/s]/tmp/ipykernel_2731164/2398411433.py:44: TqdmWarning: Iterable length 9010 > 1000 but `chunksize` is not set. This may seriously degrade multiprocess performance. Set `chunksize=1` or more.\n",
      "  decoys_seqs = process_map(get_ConfSeq, tqdm(decoys_mols), max_workers = 32)\n",
      "100%|███████████████████████████████████████| 9010/9010 [00:02<00:00, 4007.84it/s]\n",
      "100%|███████████████████████████████████████| 9010/9010 [00:02<00:00, 3285.25it/s]\n"
     ]
    },
    {
     "name": "stdout",
     "output_type": "stream",
     "text": [
      "decoys_seqs length: 9010\n"
     ]
    },
    {
     "name": "stderr",
     "output_type": "stream",
     "text": [
      "100%|██████████████████████████████████████████| 252/252 [00:01<00:00, 177.19it/s]\n",
      "100%|█████████████████████████████████████████| 252/252 [00:00<00:00, 1101.32it/s]\n"
     ]
    },
    {
     "name": "stdout",
     "output_type": "stream",
     "text": [
      "actives_seqs length: 252\n"
     ]
    },
    {
     "name": "stderr",
     "output_type": "stream",
     "text": [
      "  0%|                                                   | 0/10600 [00:00<?, ?it/s]/tmp/ipykernel_2731164/2398411433.py:44: TqdmWarning: Iterable length 10600 > 1000 but `chunksize` is not set. This may seriously degrade multiprocess performance. Set `chunksize=1` or more.\n",
      "  decoys_seqs = process_map(get_ConfSeq, tqdm(decoys_mols), max_workers = 32)\n",
      "100%|█████████████████████████████████████| 10600/10600 [00:01<00:00, 5308.93it/s]\n",
      "100%|█████████████████████████████████████| 10600/10600 [00:04<00:00, 2156.00it/s]\n"
     ]
    },
    {
     "name": "stdout",
     "output_type": "stream",
     "text": [
      "decoys_seqs length: 10600\n"
     ]
    },
    {
     "name": "stderr",
     "output_type": "stream",
     "text": [
      "100%|██████████████████████████████████████████| 915/915 [00:01<00:00, 624.24it/s]\n",
      "100%|██████████████████████████████████████████| 915/915 [00:01<00:00, 754.12it/s]\n"
     ]
    },
    {
     "name": "stdout",
     "output_type": "stream",
     "text": [
      "actives_seqs length: 915\n"
     ]
    },
    {
     "name": "stderr",
     "output_type": "stream",
     "text": [
      "  0%|                                                   | 0/36420 [00:00<?, ?it/s]/tmp/ipykernel_2731164/2398411433.py:44: TqdmWarning: Iterable length 36420 > 1000 but `chunksize` is not set. This may seriously degrade multiprocess performance. Set `chunksize=1` or more.\n",
      "  decoys_seqs = process_map(get_ConfSeq, tqdm(decoys_mols), max_workers = 32)\n",
      "100%|████████████████████████████████████| 36420/36420 [00:03<00:00, 10359.74it/s]\n",
      "100%|█████████████████████████████████████| 36420/36420 [00:16<00:00, 2169.53it/s]\n"
     ]
    },
    {
     "name": "stdout",
     "output_type": "stream",
     "text": [
      "decoys_seqs length: 36420\n"
     ]
    },
    {
     "name": "stderr",
     "output_type": "stream",
     "text": [
      "100%|███████████████████████████████████████████| 114/114 [00:01<00:00, 79.99it/s]\n",
      "100%|█████████████████████████████████████████| 114/114 [00:00<00:00, 1199.58it/s]\n"
     ]
    },
    {
     "name": "stdout",
     "output_type": "stream",
     "text": [
      "actives_seqs length: 114\n"
     ]
    },
    {
     "name": "stderr",
     "output_type": "stream",
     "text": [
      "  0%|                                                    | 0/4045 [00:00<?, ?it/s]/tmp/ipykernel_2731164/2398411433.py:44: TqdmWarning: Iterable length 4045 > 1000 but `chunksize` is not set. This may seriously degrade multiprocess performance. Set `chunksize=1` or more.\n",
      "  decoys_seqs = process_map(get_ConfSeq, tqdm(decoys_mols), max_workers = 32)\n",
      "100%|███████████████████████████████████████| 4045/4045 [00:01<00:00, 2470.76it/s]\n",
      "100%|███████████████████████████████████████| 4045/4045 [00:01<00:00, 2204.34it/s]\n"
     ]
    },
    {
     "name": "stdout",
     "output_type": "stream",
     "text": [
      "decoys_seqs length: 4045\n"
     ]
    },
    {
     "name": "stderr",
     "output_type": "stream",
     "text": [
      "100%|██████████████████████████████████████████| 637/637 [00:01<00:00, 433.78it/s]\n",
      "100%|█████████████████████████████████████████| 637/637 [00:00<00:00, 1970.84it/s]\n"
     ]
    },
    {
     "name": "stdout",
     "output_type": "stream",
     "text": [
      "actives_seqs length: 637\n"
     ]
    },
    {
     "name": "stderr",
     "output_type": "stream",
     "text": [
      "  0%|                                                   | 0/19119 [00:00<?, ?it/s]/tmp/ipykernel_2731164/2398411433.py:44: TqdmWarning: Iterable length 19119 > 1000 but `chunksize` is not set. This may seriously degrade multiprocess performance. Set `chunksize=1` or more.\n",
      "  decoys_seqs = process_map(get_ConfSeq, tqdm(decoys_mols), max_workers = 32)\n",
      "100%|█████████████████████████████████████| 19119/19119 [00:02<00:00, 7209.21it/s]\n",
      "100%|█████████████████████████████████████| 19119/19119 [00:07<00:00, 2656.82it/s]\n"
     ]
    },
    {
     "name": "stdout",
     "output_type": "stream",
     "text": [
      "decoys_seqs length: 19119\n"
     ]
    },
    {
     "name": "stderr",
     "output_type": "stream",
     "text": [
      "100%|███████████████████████████████████████████| 121/121 [00:01<00:00, 84.92it/s]\n",
      "100%|█████████████████████████████████████████| 121/121 [00:00<00:00, 1106.29it/s]\n"
     ]
    },
    {
     "name": "stdout",
     "output_type": "stream",
     "text": [
      "actives_seqs length: 121\n"
     ]
    },
    {
     "name": "stderr",
     "output_type": "stream",
     "text": [
      "  0%|                                                    | 0/4940 [00:00<?, ?it/s]/tmp/ipykernel_2731164/2398411433.py:44: TqdmWarning: Iterable length 4940 > 1000 but `chunksize` is not set. This may seriously degrade multiprocess performance. Set `chunksize=1` or more.\n",
      "  decoys_seqs = process_map(get_ConfSeq, tqdm(decoys_mols), max_workers = 32)\n",
      "100%|███████████████████████████████████████| 4940/4940 [00:01<00:00, 2861.08it/s]\n",
      "100%|███████████████████████████████████████| 4940/4940 [00:02<00:00, 2119.88it/s]\n"
     ]
    },
    {
     "name": "stdout",
     "output_type": "stream",
     "text": [
      "decoys_seqs length: 4940\n"
     ]
    },
    {
     "name": "stderr",
     "output_type": "stream",
     "text": [
      "100%|██████████████████████████████████████████| 186/186 [00:01<00:00, 135.68it/s]\n",
      "100%|█████████████████████████████████████████| 186/186 [00:00<00:00, 1172.60it/s]\n"
     ]
    },
    {
     "name": "stdout",
     "output_type": "stream",
     "text": [
      "actives_seqs length: 186\n"
     ]
    },
    {
     "name": "stderr",
     "output_type": "stream",
     "text": [
      "  0%|                                                    | 0/6708 [00:00<?, ?it/s]/tmp/ipykernel_2731164/2398411433.py:44: TqdmWarning: Iterable length 6708 > 1000 but `chunksize` is not set. This may seriously degrade multiprocess performance. Set `chunksize=1` or more.\n",
      "  decoys_seqs = process_map(get_ConfSeq, tqdm(decoys_mols), max_workers = 32)\n",
      "100%|███████████████████████████████████████| 6708/6708 [00:02<00:00, 3337.89it/s]\n",
      "100%|███████████████████████████████████████| 6708/6708 [00:02<00:00, 2260.22it/s]\n"
     ]
    },
    {
     "name": "stdout",
     "output_type": "stream",
     "text": [
      "decoys_seqs length: 6708\n"
     ]
    },
    {
     "name": "stderr",
     "output_type": "stream",
     "text": [
      "100%|██████████████████████████████████████████| 592/592 [00:01<00:00, 419.07it/s]\n",
      "100%|█████████████████████████████████████████| 592/592 [00:00<00:00, 1409.96it/s]\n"
     ]
    },
    {
     "name": "stdout",
     "output_type": "stream",
     "text": [
      "actives_seqs length: 592\n"
     ]
    },
    {
     "name": "stderr",
     "output_type": "stream",
     "text": [
      "  0%|                                                   | 0/20302 [00:00<?, ?it/s]/tmp/ipykernel_2731164/2398411433.py:44: TqdmWarning: Iterable length 20302 > 1000 but `chunksize` is not set. This may seriously degrade multiprocess performance. Set `chunksize=1` or more.\n",
      "  decoys_seqs = process_map(get_ConfSeq, tqdm(decoys_mols), max_workers = 32)\n",
      "100%|█████████████████████████████████████| 20302/20302 [00:02<00:00, 7555.91it/s]\n",
      "100%|█████████████████████████████████████| 20302/20302 [00:08<00:00, 2450.92it/s]\n"
     ]
    },
    {
     "name": "stdout",
     "output_type": "stream",
     "text": [
      "decoys_seqs length: 20302\n"
     ]
    },
    {
     "name": "stderr",
     "output_type": "stream",
     "text": [
      "[07:33:15] Warning: molecule is tagged as 3D, but all Z coords are zero\n",
      "[07:33:18] WARNING: not removing hydrogen atom with neighbor that has non-tetrahedral stereochemistry\n",
      "[07:33:19] WARNING: not removing hydrogen atom with neighbor that has non-tetrahedral stereochemistry\n",
      "100%|██████████████████████████████████████████| 835/835 [00:01<00:00, 524.45it/s]\n",
      " 63%|██████████████████████████               | 530/835 [00:00<00:00, 1765.89it/s][07:33:22] Warning: molecule is tagged as 3D, but all Z coords are zero\n",
      "100%|█████████████████████████████████████████| 835/835 [00:00<00:00, 1848.98it/s]\n"
     ]
    },
    {
     "name": "stdout",
     "output_type": "stream",
     "text": [
      "actives_seqs length: 835\n"
     ]
    },
    {
     "name": "stderr",
     "output_type": "stream",
     "text": [
      "  0%|                                                   | 0/31699 [00:00<?, ?it/s]/tmp/ipykernel_2731164/2398411433.py:44: TqdmWarning: Iterable length 31699 > 1000 but `chunksize` is not set. This may seriously degrade multiprocess performance. Set `chunksize=1` or more.\n",
      "  decoys_seqs = process_map(get_ConfSeq, tqdm(decoys_mols), max_workers = 32)\n",
      "100%|████████████████████████████████████| 31699/31699 [00:03<00:00, 10434.83it/s]\n",
      "100%|█████████████████████████████████████| 31699/31699 [00:12<00:00, 2491.90it/s]\n"
     ]
    },
    {
     "name": "stdout",
     "output_type": "stream",
     "text": [
      "decoys_seqs length: 31699\n"
     ]
    },
    {
     "name": "stderr",
     "output_type": "stream",
     "text": [
      "100%|██████████████████████████████████████████| 299/299 [00:01<00:00, 212.54it/s]\n",
      "100%|█████████████████████████████████████████| 299/299 [00:00<00:00, 1309.45it/s]\n"
     ]
    },
    {
     "name": "stdout",
     "output_type": "stream",
     "text": [
      "actives_seqs length: 299\n"
     ]
    },
    {
     "name": "stderr",
     "output_type": "stream",
     "text": [
      "  0%|                                                    | 0/8877 [00:00<?, ?it/s]/tmp/ipykernel_2731164/2398411433.py:44: TqdmWarning: Iterable length 8877 > 1000 but `chunksize` is not set. This may seriously degrade multiprocess performance. Set `chunksize=1` or more.\n",
      "  decoys_seqs = process_map(get_ConfSeq, tqdm(decoys_mols), max_workers = 32)\n",
      "100%|███████████████████████████████████████| 8877/8877 [00:02<00:00, 4364.40it/s]\n",
      "100%|███████████████████████████████████████| 8877/8877 [00:04<00:00, 2098.58it/s]\n"
     ]
    },
    {
     "name": "stdout",
     "output_type": "stream",
     "text": [
      "decoys_seqs length: 8877\n"
     ]
    },
    {
     "name": "stderr",
     "output_type": "stream",
     "text": [
      "100%|██████████████████████████████████████████| 363/363 [00:01<00:00, 253.19it/s]\n",
      "100%|█████████████████████████████████████████| 363/363 [00:00<00:00, 1344.61it/s]\n"
     ]
    },
    {
     "name": "stdout",
     "output_type": "stream",
     "text": [
      "actives_seqs length: 363\n"
     ]
    },
    {
     "name": "stderr",
     "output_type": "stream",
     "text": [
      "  0%|                                                   | 0/11931 [00:00<?, ?it/s]/tmp/ipykernel_2731164/2398411433.py:44: TqdmWarning: Iterable length 11931 > 1000 but `chunksize` is not set. This may seriously degrade multiprocess performance. Set `chunksize=1` or more.\n",
      "  decoys_seqs = process_map(get_ConfSeq, tqdm(decoys_mols), max_workers = 32)\n",
      "100%|█████████████████████████████████████| 11931/11931 [00:02<00:00, 5260.48it/s]\n",
      "100%|█████████████████████████████████████| 11931/11931 [00:05<00:00, 2179.97it/s]\n"
     ]
    },
    {
     "name": "stdout",
     "output_type": "stream",
     "text": [
      "decoys_seqs length: 11931\n"
     ]
    },
    {
     "name": "stderr",
     "output_type": "stream",
     "text": [
      "100%|██████████████████████████████████████████| 306/306 [00:01<00:00, 203.42it/s]\n",
      "100%|█████████████████████████████████████████| 306/306 [00:00<00:00, 1388.69it/s]\n"
     ]
    },
    {
     "name": "stdout",
     "output_type": "stream",
     "text": [
      "actives_seqs length: 306\n"
     ]
    },
    {
     "name": "stderr",
     "output_type": "stream",
     "text": [
      "  0%|                                                    | 0/9928 [00:00<?, ?it/s]/tmp/ipykernel_2731164/2398411433.py:44: TqdmWarning: Iterable length 9928 > 1000 but `chunksize` is not set. This may seriously degrade multiprocess performance. Set `chunksize=1` or more.\n",
      "  decoys_seqs = process_map(get_ConfSeq, tqdm(decoys_mols), max_workers = 32)\n",
      "100%|███████████████████████████████████████| 9928/9928 [00:02<00:00, 4602.99it/s]\n",
      "100%|███████████████████████████████████████| 9928/9928 [00:04<00:00, 2377.35it/s]\n"
     ]
    },
    {
     "name": "stdout",
     "output_type": "stream",
     "text": [
      "decoys_seqs length: 9928\n"
     ]
    },
    {
     "name": "stderr",
     "output_type": "stream",
     "text": [
      "  0%|                                                    | 0/1692 [00:00<?, ?it/s]/tmp/ipykernel_2731164/2398411433.py:41: TqdmWarning: Iterable length 1692 > 1000 but `chunksize` is not set. This may seriously degrade multiprocess performance. Set `chunksize=1` or more.\n",
      "  actives_seqs = process_map(get_ConfSeq, tqdm(actives_mols), max_workers = 32)\n",
      "100%|███████████████████████████████████████| 1692/1692 [00:01<00:00, 1163.06it/s]\n",
      "100%|███████████████████████████████████████| 1692/1692 [00:01<00:00, 1468.17it/s]\n"
     ]
    },
    {
     "name": "stdout",
     "output_type": "stream",
     "text": [
      "actives_seqs length: 1692\n"
     ]
    },
    {
     "name": "stderr",
     "output_type": "stream",
     "text": [
      "  0%|                                                   | 0/51993 [00:00<?, ?it/s]/tmp/ipykernel_2731164/2398411433.py:44: TqdmWarning: Iterable length 51993 > 1000 but `chunksize` is not set. This may seriously degrade multiprocess performance. Set `chunksize=1` or more.\n",
      "  decoys_seqs = process_map(get_ConfSeq, tqdm(decoys_mols), max_workers = 32)\n",
      "100%|████████████████████████████████████| 51993/51993 [00:03<00:00, 13606.22it/s]\n",
      "100%|█████████████████████████████████████| 51993/51993 [00:22<00:00, 2271.36it/s]\n"
     ]
    },
    {
     "name": "stdout",
     "output_type": "stream",
     "text": [
      "decoys_seqs length: 51993\n"
     ]
    },
    {
     "name": "stderr",
     "output_type": "stream",
     "text": [
      "100%|█████████████████████████████████████████████| 57/57 [00:01<00:00, 39.56it/s]\n",
      "100%|████████████████████████████████████████████| 57/57 [00:00<00:00, 751.91it/s]\n"
     ]
    },
    {
     "name": "stdout",
     "output_type": "stream",
     "text": [
      "actives_seqs length: 57\n"
     ]
    },
    {
     "name": "stderr",
     "output_type": "stream",
     "text": [
      "  0%|                                                    | 0/2854 [00:00<?, ?it/s]/tmp/ipykernel_2731164/2398411433.py:44: TqdmWarning: Iterable length 2854 > 1000 but `chunksize` is not set. This may seriously degrade multiprocess performance. Set `chunksize=1` or more.\n",
      "  decoys_seqs = process_map(get_ConfSeq, tqdm(decoys_mols), max_workers = 32)\n",
      "100%|███████████████████████████████████████| 2854/2854 [00:01<00:00, 1542.29it/s]\n",
      "100%|███████████████████████████████████████| 2854/2854 [00:01<00:00, 2095.62it/s]\n"
     ]
    },
    {
     "name": "stdout",
     "output_type": "stream",
     "text": [
      "decoys_seqs length: 2854\n"
     ]
    },
    {
     "name": "stderr",
     "output_type": "stream",
     "text": [
      "100%|██████████████████████████████████████████| 544/544 [00:01<00:00, 344.37it/s]\n",
      "100%|█████████████████████████████████████████| 544/544 [00:00<00:00, 1456.44it/s]\n"
     ]
    },
    {
     "name": "stdout",
     "output_type": "stream",
     "text": [
      "actives_seqs length: 544\n"
     ]
    },
    {
     "name": "stderr",
     "output_type": "stream",
     "text": [
      "  0%|                                                   | 0/19830 [00:00<?, ?it/s]/tmp/ipykernel_2731164/2398411433.py:44: TqdmWarning: Iterable length 19830 > 1000 but `chunksize` is not set. This may seriously degrade multiprocess performance. Set `chunksize=1` or more.\n",
      "  decoys_seqs = process_map(get_ConfSeq, tqdm(decoys_mols), max_workers = 32)\n",
      "100%|█████████████████████████████████████| 19830/19830 [00:02<00:00, 7532.49it/s]\n",
      "100%|█████████████████████████████████████| 19830/19830 [00:08<00:00, 2273.64it/s]\n"
     ]
    },
    {
     "name": "stdout",
     "output_type": "stream",
     "text": [
      "decoys_seqs length: 19830\n"
     ]
    },
    {
     "name": "stderr",
     "output_type": "stream",
     "text": [
      "100%|██████████████████████████████████████████| 192/192 [00:01<00:00, 136.13it/s]\n",
      "100%|█████████████████████████████████████████| 192/192 [00:00<00:00, 1099.33it/s]\n"
     ]
    },
    {
     "name": "stdout",
     "output_type": "stream",
     "text": [
      "actives_seqs length: 192\n"
     ]
    },
    {
     "name": "stderr",
     "output_type": "stream",
     "text": [
      "  0%|                                                    | 0/5239 [00:00<?, ?it/s]/tmp/ipykernel_2731164/2398411433.py:44: TqdmWarning: Iterable length 5239 > 1000 but `chunksize` is not set. This may seriously degrade multiprocess performance. Set `chunksize=1` or more.\n",
      "  decoys_seqs = process_map(get_ConfSeq, tqdm(decoys_mols), max_workers = 32)\n",
      "100%|███████████████████████████████████████| 5239/5239 [00:01<00:00, 3035.82it/s]\n",
      "100%|███████████████████████████████████████| 5239/5239 [00:02<00:00, 2401.99it/s]\n"
     ]
    },
    {
     "name": "stdout",
     "output_type": "stream",
     "text": [
      "decoys_seqs length: 5239\n"
     ]
    },
    {
     "name": "stderr",
     "output_type": "stream",
     "text": [
      "100%|██████████████████████████████████████████| 723/723 [00:01<00:00, 462.96it/s]\n",
      "100%|█████████████████████████████████████████| 723/723 [00:00<00:00, 1516.17it/s]\n"
     ]
    },
    {
     "name": "stdout",
     "output_type": "stream",
     "text": [
      "actives_seqs length: 723\n"
     ]
    },
    {
     "name": "stderr",
     "output_type": "stream",
     "text": [
      "  0%|                                                   | 0/25861 [00:00<?, ?it/s]/tmp/ipykernel_2731164/2398411433.py:44: TqdmWarning: Iterable length 25861 > 1000 but `chunksize` is not set. This may seriously degrade multiprocess performance. Set `chunksize=1` or more.\n",
      "  decoys_seqs = process_map(get_ConfSeq, tqdm(decoys_mols), max_workers = 32)\n",
      "100%|█████████████████████████████████████| 25861/25861 [00:02<00:00, 8901.22it/s]\n",
      "100%|█████████████████████████████████████| 25861/25861 [00:10<00:00, 2415.56it/s]\n"
     ]
    },
    {
     "name": "stdout",
     "output_type": "stream",
     "text": [
      "decoys_seqs length: 25861\n"
     ]
    },
    {
     "name": "stderr",
     "output_type": "stream",
     "text": [
      "100%|██████████████████████████████████████████| 155/155 [00:01<00:00, 109.82it/s]\n",
      "100%|██████████████████████████████████████████| 155/155 [00:00<00:00, 944.93it/s]\n"
     ]
    },
    {
     "name": "stdout",
     "output_type": "stream",
     "text": [
      "actives_seqs length: 155\n"
     ]
    },
    {
     "name": "stderr",
     "output_type": "stream",
     "text": [
      "  0%|                                                    | 0/6877 [00:00<?, ?it/s]/tmp/ipykernel_2731164/2398411433.py:44: TqdmWarning: Iterable length 6877 > 1000 but `chunksize` is not set. This may seriously degrade multiprocess performance. Set `chunksize=1` or more.\n",
      "  decoys_seqs = process_map(get_ConfSeq, tqdm(decoys_mols), max_workers = 32)\n",
      "100%|███████████████████████████████████████| 6877/6877 [00:01<00:00, 3602.66it/s]\n",
      "100%|███████████████████████████████████████| 6877/6877 [00:03<00:00, 1970.42it/s]\n"
     ]
    },
    {
     "name": "stdout",
     "output_type": "stream",
     "text": [
      "decoys_seqs length: 6877\n"
     ]
    },
    {
     "name": "stderr",
     "output_type": "stream",
     "text": [
      "100%|██████████████████████████████████████████| 447/447 [00:01<00:00, 320.88it/s]\n",
      "100%|█████████████████████████████████████████| 447/447 [00:00<00:00, 1390.11it/s]\n"
     ]
    },
    {
     "name": "stdout",
     "output_type": "stream",
     "text": [
      "actives_seqs length: 447\n"
     ]
    },
    {
     "name": "stderr",
     "output_type": "stream",
     "text": [
      "  0%|                                                   | 0/15248 [00:00<?, ?it/s]/tmp/ipykernel_2731164/2398411433.py:44: TqdmWarning: Iterable length 15248 > 1000 but `chunksize` is not set. This may seriously degrade multiprocess performance. Set `chunksize=1` or more.\n",
      "  decoys_seqs = process_map(get_ConfSeq, tqdm(decoys_mols), max_workers = 32)\n",
      "100%|█████████████████████████████████████| 15248/15248 [00:02<00:00, 6044.61it/s]\n",
      "100%|█████████████████████████████████████| 15248/15248 [00:06<00:00, 2420.94it/s]\n"
     ]
    },
    {
     "name": "stdout",
     "output_type": "stream",
     "text": [
      "decoys_seqs length: 15248\n"
     ]
    },
    {
     "name": "stderr",
     "output_type": "stream",
     "text": [
      "[07:37:06] WARNING: not removing hydrogen atom with neighbor that has non-tetrahedral stereochemistry\n",
      "[07:37:06] WARNING: not removing hydrogen atom with neighbor that has non-tetrahedral stereochemistry\n",
      "100%|██████████████████████████████████████████| 861/861 [00:01<00:00, 589.18it/s]\n",
      "100%|█████████████████████████████████████████| 861/861 [00:00<00:00, 1490.13it/s]\n"
     ]
    },
    {
     "name": "stdout",
     "output_type": "stream",
     "text": [
      "actives_seqs length: 861\n"
     ]
    },
    {
     "name": "stderr",
     "output_type": "stream",
     "text": [
      "  0%|                                                   | 0/27311 [00:00<?, ?it/s]/tmp/ipykernel_2731164/2398411433.py:44: TqdmWarning: Iterable length 27311 > 1000 but `chunksize` is not set. This may seriously degrade multiprocess performance. Set `chunksize=1` or more.\n",
      "  decoys_seqs = process_map(get_ConfSeq, tqdm(decoys_mols), max_workers = 32)\n",
      "100%|█████████████████████████████████████| 27311/27311 [00:02<00:00, 9245.66it/s]\n",
      "100%|█████████████████████████████████████| 27311/27311 [00:11<00:00, 2447.97it/s]\n"
     ]
    },
    {
     "name": "stdout",
     "output_type": "stream",
     "text": [
      "decoys_seqs length: 27311\n"
     ]
    },
    {
     "name": "stderr",
     "output_type": "stream",
     "text": [
      "100%|███████████████████████████████████████████| 139/139 [00:01<00:00, 93.96it/s]\n",
      "100%|█████████████████████████████████████████| 139/139 [00:00<00:00, 1038.56it/s]\n"
     ]
    },
    {
     "name": "stdout",
     "output_type": "stream",
     "text": [
      "actives_seqs length: 139\n"
     ]
    },
    {
     "name": "stderr",
     "output_type": "stream",
     "text": [
      "  0%|                                                    | 0/4626 [00:00<?, ?it/s]/tmp/ipykernel_2731164/2398411433.py:44: TqdmWarning: Iterable length 4626 > 1000 but `chunksize` is not set. This may seriously degrade multiprocess performance. Set `chunksize=1` or more.\n",
      "  decoys_seqs = process_map(get_ConfSeq, tqdm(decoys_mols), max_workers = 32)\n",
      "100%|███████████████████████████████████████| 4626/4626 [00:01<00:00, 2426.80it/s]\n",
      "100%|███████████████████████████████████████| 4626/4626 [00:02<00:00, 2158.34it/s]\n"
     ]
    },
    {
     "name": "stdout",
     "output_type": "stream",
     "text": [
      "decoys_seqs length: 4626\n"
     ]
    },
    {
     "name": "stderr",
     "output_type": "stream",
     "text": [
      "100%|██████████████████████████████████████████| 844/844 [00:01<00:00, 550.83it/s]\n",
      "100%|█████████████████████████████████████████| 844/844 [00:00<00:00, 1482.67it/s]\n"
     ]
    },
    {
     "name": "stdout",
     "output_type": "stream",
     "text": [
      "actives_seqs length: 844\n"
     ]
    },
    {
     "name": "stderr",
     "output_type": "stream",
     "text": [
      "  0%|                                                   | 0/32015 [00:00<?, ?it/s]/tmp/ipykernel_2731164/2398411433.py:44: TqdmWarning: Iterable length 32015 > 1000 but `chunksize` is not set. This may seriously degrade multiprocess performance. Set `chunksize=1` or more.\n",
      "  decoys_seqs = process_map(get_ConfSeq, tqdm(decoys_mols), max_workers = 32)\n",
      "100%|████████████████████████████████████| 32015/32015 [00:03<00:00, 10036.99it/s]\n",
      "100%|█████████████████████████████████████| 32015/32015 [00:13<00:00, 2424.28it/s]\n"
     ]
    },
    {
     "name": "stdout",
     "output_type": "stream",
     "text": [
      "decoys_seqs length: 32015\n"
     ]
    }
   ],
   "source": [
    "checkpoint = torch.load('./checkpoints/model_epoch_1.pth', map_location='cpu')   \n",
    "\n",
    "\n",
    "new_state_dict = OrderedDict()\n",
    "for k, v in checkpoint.items():\n",
    "    if k.startswith('module.'):\n",
    "        new_state_dict[k[7:]] = v\n",
    "    else:\n",
    "        new_state_dict[k] = v\n",
    "\n",
    "bart_encoder_model.load_state_dict(new_state_dict)\n",
    "\n",
    "bart_encoder_model.eval()\n",
    "\n",
    "\n",
    "\n",
    "lis = os.listdir('./data/DUDE/all/')\n",
    "lis = [i for i in lis if '.txt' not in i]\n",
    "\n",
    "for name in lis[:]:\n",
    "    os.makedirs('./data/DUDE/all_result/{}/'.format(name), exist_ok=True)\n",
    "    \n",
    "    query_mol = Chem.MolFromMolFile('./data/DUDE/all/{}/crystal_ligand.sdf'.format(name))\n",
    "    query_mol_atom_num = query_mol.GetNumAtoms()\n",
    "    \n",
    "    suppl = Chem.SDMolSupplier('./data/DUDE/all/{}/actives.sdf'.format(name))\n",
    "\n",
    "    actives_mols = [mol for mol in suppl if mol is not None]\n",
    "    actives_names = [i.GetProp('_Name') for i in actives_mols]\n",
    "    actives_mols_atom_num = [i.GetNumAtoms() for i in actives_mols]\n",
    "    \n",
    "    suppl = Chem.SDMolSupplier('./data/DUDE/all/{}/decoys.sdf'.format(name))\n",
    "\n",
    "    decoys_mols = [mol for mol in suppl if mol is not None]\n",
    "    decoys_names = [i.GetProp('_Name') for i in decoys_mols]\n",
    "    decoys_mols_atom_num = [i.GetNumAtoms() for i in decoys_mols]\n",
    "    \n",
    "\n",
    "\n",
    "    actives_seqs = process_map(get_ConfSeq, tqdm(actives_mols), max_workers = 32)\n",
    "    print('actives_seqs length:',len(actives_seqs))\n",
    "    \n",
    "    decoys_seqs = process_map(get_ConfSeq, tqdm(decoys_mols), max_workers = 32)\n",
    "    print('decoys_seqs length:',len(decoys_seqs))\n",
    "\n",
    "    with open('./data/DUDE/all_result/{}/actives_seqs.txt'.format(name),'w+') as f:\n",
    "        f.write('\\n'.join(actives_seqs))\n",
    "\n",
    "    with open('./data/DUDE/all_result/{}/decoys_seqs.txt'.format(name),'w+') as f:\n",
    "        f.write('\\n'.join(decoys_seqs))\n",
    "\n",
    "\n",
    "    with open('./data/DUDE/all_result/{}/actives_seqs.txt'.format(name),'r') as f:\n",
    "        content = f.read()\n",
    "    active_seqs = content.split('\\n')   \n",
    "    active_seqs = [i if i != '' else '*' for i in actives_seqs]\n",
    "    \n",
    "    \n",
    "    with open('./data/DUDE/all_result/{}/decoys_seqs.txt'.format(name),'r') as f:\n",
    "        content = f.read()\n",
    "    decoys_seqs = content.split('\\n') \n",
    "    decoys_seqs = [i if i != '' else '*' for i in decoys_seqs]\n",
    "    bart_encoder_model.eval()\n",
    "    \n",
    "\n",
    "    device = torch.device('cuda')\n",
    "    bart_encoder_model = bart_encoder_model.to(device)\n",
    "\n",
    "    active_ints = [[vocab_dict[i] for i in seq.split(' ')] for seq in actives_seqs]\n",
    "    active_dataset = TensorDataset(active_ints)\n",
    "    active_dataloader = DataLoader(active_dataset, batch_size=32,collate_fn=collate_fn,shuffle = False)\n",
    "    active_embeds = []\n",
    "    \n",
    "    with torch.no_grad():  \n",
    "    \n",
    "        for input_ids in active_dataloader:\n",
    "            input_ids = input_ids.to(device)\n",
    "            attention_mask = (input_ids != vocab.index('<pad>')).long() \n",
    "            \n",
    "            output = bart_encoder_model(input_ids,attention_mask)\n",
    "            pooled_output = mean_pooling(output, attention_mask)\n",
    "            active_embeds.append(pooled_output)\n",
    "    \n",
    "    active_embeds = torch.cat(tuple(active_embeds), dim=0).to('cpu')\n",
    "\n",
    "    inactive_ints = [[vocab_dict[i] for i in seq.split(' ')] for seq in decoys_seqs]\n",
    "    inactive_dataset = TensorDataset(inactive_ints)\n",
    "    inactive_dataloader = DataLoader(inactive_dataset, batch_size=32,collate_fn=collate_fn,shuffle = False)\n",
    "    inactive_embeds = []\n",
    "    \n",
    "    with torch.no_grad():  \n",
    "    \n",
    "        for input_ids in inactive_dataloader:\n",
    "            input_ids = input_ids.to(device)\n",
    "            attention_mask = (input_ids != vocab.index('<pad>')).long() \n",
    "   \n",
    "            output = bart_encoder_model(input_ids,attention_mask)\n",
    "            pooled_output = mean_pooling(output, attention_mask)\n",
    "            inactive_embeds.append(pooled_output)\n",
    "    \n",
    "    inactive_embeds = torch.cat(tuple(inactive_embeds), dim=0).to('cpu')\n",
    "\n",
    "\n",
    "    fingerprints = np.vstack([active_embeds,inactive_embeds])\n",
    "    labels = np.array([1] * len(active_embeds) + [0] * len(inactive_embeds))  \n",
    "\n",
    "    mols_atom_num = actives_mols_atom_num + decoys_mols_atom_num\n",
    "    \n",
    "    \n",
    "    bart_encoder_model.to(torch.device('cpu'))\n",
    "    query_embeds = get_embedding_for_seq(get_ConfSeq(query_mol))\n",
    "    query_embeds = torch.Tensor(query_embeds)\n",
    "    euclidean_distance = torch.sqrt(torch.sum((query_embeds - fingerprints ) ** 2,dim = -1))\n",
    "    similarity_score = 1 / (1 + euclidean_distance)\n",
    "\n",
    "    mols_atom_num = np.array(mols_atom_num)\n",
    "    factor = 2 * mols_atom_num/ (query_mol_atom_num + mols_atom_num)\n",
    "    similarity_score = similarity_score * factor\n",
    "\n",
    "    \n",
    "\n",
    "    df = pd.DataFrame({\"Name\": actives_names + decoys_names,\n",
    "                       \"Score\": similarity_score.tolist(),\n",
    "                       \"label\": labels.tolist()})\n",
    "    df.to_csv('./data/DUDE/all_result/{}/my_model_result.csv'.format(name), index=False)\n",
    "\n",
    "    if torch.is_tensor(similarity_score):\n",
    "        similarity_score_np = similarity_score.cpu().numpy()\n",
    "    else:\n",
    "        similarity_score_np = similarity_score\n",
    "\n",
    "    sort_idx = np.argsort(-similarity_score_np)\n",
    "    sorted_scores = similarity_score_np[sort_idx]\n",
    "    sorted_labels = labels[sort_idx]\n",
    "\n",
    "    sorted_labels_bool = sorted_labels.astype(bool)\n",
    "\n",
    "    score_data = np.column_stack((sorted_scores, sorted_labels_bool))\n",
    "\n",
    "    auc_rdkit = Scoring.CalcAUC(score_data, col=1)\n",
    "\n",
    "    bedroc_rdkit = Scoring.CalcBEDROC(score_data, col=1, alpha=80.5)\n",
    "\n",
    "    ef_1 = Scoring.CalcEnrichment(score_data, col=1, fractions=[0.01])[0]\n",
    "    ef_5 = Scoring.CalcEnrichment(score_data, col=1, fractions=[0.05])[0]\n",
    "    \n",
    "\n",
    "    row = {\n",
    "        \"Name\": name,\n",
    "        \"AUC\": round(auc_rdkit, 4),\n",
    "        \"BEDROC\": round(bedroc_rdkit, 4),\n",
    "        \"EF5%\": round(ef_5, 4),\n",
    "        \"EF1%\": round(ef_1, 4)\n",
    "    }\n",
    "    \n",
    "\n",
    "    csv_path = './DUDE_evaluation_result.csv'\n",
    "    if not os.path.exists(csv_path):\n",
    "        df = pd.DataFrame([row])\n",
    "        df.to_csv(csv_path, index=False)\n",
    "    else:\n",
    "        df = pd.DataFrame([row])\n",
    "        df.to_csv(csv_path, mode='a', index=False, header=False)"
   ]
  },
  {
   "cell_type": "code",
   "execution_count": null,
   "id": "ac92ff48-8265-46be-a68d-9491458059f9",
   "metadata": {},
   "outputs": [],
   "source": []
  },
  {
   "cell_type": "code",
   "execution_count": null,
   "id": "c84b34fa-d4fd-430d-913b-e9c580e30321",
   "metadata": {},
   "outputs": [],
   "source": []
  },
  {
   "cell_type": "code",
   "execution_count": null,
   "id": "05709de2-d826-4116-bcbd-951de72060aa",
   "metadata": {},
   "outputs": [],
   "source": []
  },
  {
   "cell_type": "code",
   "execution_count": null,
   "id": "a2fbe286-7de8-4dcd-903d-9d7e26f1d046",
   "metadata": {},
   "outputs": [],
   "source": []
  }
 ],
 "metadata": {
  "kernelspec": {
   "display_name": "Python (py38)",
   "language": "python",
   "name": "py38"
  },
  "language_info": {
   "codemirror_mode": {
    "name": "ipython",
    "version": 3
   },
   "file_extension": ".py",
   "mimetype": "text/x-python",
   "name": "python",
   "nbconvert_exporter": "python",
   "pygments_lexer": "ipython3",
   "version": "3.8.18"
  }
 },
 "nbformat": 4,
 "nbformat_minor": 5
}
